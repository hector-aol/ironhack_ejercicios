{
 "cells": [
  {
   "cell_type": "markdown",
   "id": "0d8475f2",
   "metadata": {},
   "source": [
    "# NUMPY ( Numerical Python)"
   ]
  },
  {
   "cell_type": "markdown",
   "id": "5d1e0af6",
   "metadata": {},
   "source": [
    "Biblioteca especializada en cálculo numérico (multidimensional)"
   ]
  },
  {
   "cell_type": "code",
   "execution_count": 3,
   "id": "2b737904",
   "metadata": {},
   "outputs": [],
   "source": [
    "import numpy as np"
   ]
  },
  {
   "cell_type": "markdown",
   "id": "09f9df24",
   "metadata": {},
   "source": [
    "El núcleo de Numpy es el objeto ndarray (N-array dimensional)"
   ]
  },
  {
   "cell_type": "code",
   "execution_count": 4,
   "id": "a834750f",
   "metadata": {},
   "outputs": [
    {
     "data": {
      "text/plain": [
       "numpy.ndarray"
      ]
     },
     "execution_count": 4,
     "metadata": {},
     "output_type": "execute_result"
    }
   ],
   "source": [
    "a = np.array([1,2,3])\n",
    "b = np.array([4,5,6])\n",
    "type(a)"
   ]
  },
  {
   "cell_type": "markdown",
   "id": "a5114a63",
   "metadata": {},
   "source": [
    "### 1. Atributos importantes de Numpy \n",
    "\n",
    ".shape --> forma o elementos\n",
    "\n",
    ".ndim --> numero de dimensiones\n",
    "\n",
    ".size --> numero total de elementos\n",
    "\n",
    ".dtype --> tipo de datos"
   ]
  },
  {
   "cell_type": "code",
   "execution_count": 5,
   "id": "fb88bed6",
   "metadata": {},
   "outputs": [
    {
     "name": "stdout",
     "output_type": "stream",
     "text": [
      "[1 2 3]\n",
      "(3,)\n",
      "1\n",
      "3\n",
      "int64\n"
     ]
    }
   ],
   "source": [
    "print(a)\n",
    "print(a.shape)\n",
    "print(a.ndim)\n",
    "print(a.size)\n",
    "print(a.dtype)"
   ]
  },
  {
   "cell_type": "markdown",
   "id": "5cd5a2ae",
   "metadata": {},
   "source": [
    "### 2. Creacion de arrays\n",
    "\n",
    "np.array( << lista >> , dtype = << tipo_dato >>) --> a partir de una lista\n",
    "\n",
    "<ul><li>np.array(<< lista >>, dtype=complex) --> array imaginario</li></ul>\n",
    "\n",
    "np.zeros( (x, y) )  --> array de ceros (x: numero de arrays | y : numero de elementos en cada array)\n",
    "\n",
    "np.ones( (x, y) )  --> array de unos (x: numero de arrays | y : numero de elementos en cada array)\n",
    "\n",
    "np.full( (x, y) , valor )  --> array de un valor determinado (x: numero de arrays | y : numero de elementos en cada array)\n",
    "\n",
    "np.eye(<< tamaño_matriz >>)  --> matriz identidad\n",
    "\n",
    "np.arange( inicio , final , incremento)  --> array desde un valor inicial hasta un final(no incluido) con una tasa de variacion\n",
    "\n",
    "np.linspace( inicio , final , numer_elementos)  --> array desde un valor inicial hasta un final(incluido) con numero_elementos equiespacioados\n",
    "\n",
    "np.random.rand( x , y ) / np.random.random( x , y )  --> valores aleatorios del 0 al 1 (x: numero de arrays | y : numero de elementos en cada array)\n",
    "\n",
    "np.random.randint( << inicial >> , << final >>  , << numero >>)  --> numero valores aleatorios comprendisos entre un valor inicial y final\n"
   ]
  },
  {
   "cell_type": "code",
   "execution_count": 6,
   "id": "05582d0b",
   "metadata": {},
   "outputs": [
    {
     "data": {
      "text/plain": [
       "array([6, 7, 5, 6, 7], dtype=int32)"
      ]
     },
     "execution_count": 6,
     "metadata": {},
     "output_type": "execute_result"
    }
   ],
   "source": [
    "np.random.randint(1,10,5)"
   ]
  },
  {
   "cell_type": "markdown",
   "id": "65440325",
   "metadata": {},
   "source": [
    "### 3. Acceder a elementos de un array"
   ]
  },
  {
   "cell_type": "code",
   "execution_count": 7,
   "id": "c7f17617",
   "metadata": {},
   "outputs": [
    {
     "data": {
      "text/plain": [
       "np.int64(4)"
      ]
     },
     "execution_count": 7,
     "metadata": {},
     "output_type": "execute_result"
    }
   ],
   "source": [
    "a = np.array([[1,2,3] , [4,5,6]])\n",
    "m,n = 1,0  # fila , columna\n",
    " \n",
    "a[m,n] # same a[m][n] "
   ]
  },
  {
   "cell_type": "markdown",
   "id": "b97ec849",
   "metadata": {},
   "source": [
    "### 4. Operaciones matemáticas Elemento a elemento\n",
    "a+b\n",
    "\n",
    "a-b\n",
    "\n",
    "a*b\n",
    "\n",
    "a/b\n",
    "\n",
    "np.sqrt(a)\n",
    "\n",
    "np.exp(a)\n",
    "\n",
    "np.log(a)\n",
    "\n",
    "np.sin(a)\n",
    "\n",
    "np.cos(a)\n",
    "\n",
    "a.sum()\n",
    "\n",
    "a.mean()\n",
    "\n",
    "a.std()\n",
    "\n",
    "a.min()\n",
    "\n",
    "a.max()\n",
    "\n",
    "a.argmin()\n",
    "\n",
    "a.argmax()"
   ]
  },
  {
   "cell_type": "code",
   "execution_count": 8,
   "id": "5eaa75c7",
   "metadata": {},
   "outputs": [
    {
     "data": {
      "text/plain": [
       "array([[1.        , 1.41421356, 1.73205081],\n",
       "       [2.        , 2.23606798, 2.44948974]])"
      ]
     },
     "execution_count": 8,
     "metadata": {},
     "output_type": "execute_result"
    }
   ],
   "source": [
    "np.sqrt(a)"
   ]
  },
  {
   "cell_type": "code",
   "execution_count": 9,
   "id": "f49ae14d",
   "metadata": {},
   "outputs": [
    {
     "name": "stdout",
     "output_type": "stream",
     "text": [
      "a = [[1 2 3]\n",
      " [4 5 6]]\n",
      "b = [4 5 6]\n",
      "a+b = [[ 5  7  9]\n",
      " [ 8 10 12]]\n"
     ]
    }
   ],
   "source": [
    "print(f'a = {a}')\n",
    "print(f'b = {b}')\n",
    "print(f'a+b = {a+b}')"
   ]
  },
  {
   "cell_type": "markdown",
   "id": "55b97c10",
   "metadata": {},
   "source": [
    "### 5. Indexacion && Slicing\n",
    "\n",
    "a[0] , a[-1]\n",
    "\n",
    "a[1:2]\n",
    "\n",
    "a[::2]\n",
    "\n",
    "a[1:] = 0"
   ]
  },
  {
   "cell_type": "code",
   "execution_count": 10,
   "id": "9d154213",
   "metadata": {},
   "outputs": [
    {
     "data": {
      "text/plain": [
       "array([[1, 2, 3],\n",
       "       [4, 5, 6]])"
      ]
     },
     "execution_count": 10,
     "metadata": {},
     "output_type": "execute_result"
    }
   ],
   "source": [
    "A = np.array( [ [1,2,3] , [4,5,6] ] )\n",
    "A"
   ]
  },
  {
   "cell_type": "code",
   "execution_count": 11,
   "id": "b15b70f2",
   "metadata": {},
   "outputs": [
    {
     "data": {
      "text/plain": [
       "np.int64(2)"
      ]
     },
     "execution_count": 11,
     "metadata": {},
     "output_type": "execute_result"
    }
   ],
   "source": [
    "A[0,1]"
   ]
  },
  {
   "cell_type": "code",
   "execution_count": 12,
   "id": "b7314404",
   "metadata": {},
   "outputs": [
    {
     "data": {
      "text/plain": [
       "array([2, 5])"
      ]
     },
     "execution_count": 12,
     "metadata": {},
     "output_type": "execute_result"
    }
   ],
   "source": [
    "A[:,1]"
   ]
  },
  {
   "cell_type": "code",
   "execution_count": 13,
   "id": "5e969509",
   "metadata": {},
   "outputs": [
    {
     "data": {
      "text/plain": [
       "array([4, 5, 6])"
      ]
     },
     "execution_count": 13,
     "metadata": {},
     "output_type": "execute_result"
    }
   ],
   "source": [
    "A[1, :]"
   ]
  },
  {
   "cell_type": "markdown",
   "id": "c3550f2b",
   "metadata": {},
   "source": [
    "### 6. Filtrado && Bolean Masking"
   ]
  },
  {
   "cell_type": "code",
   "execution_count": 14,
   "id": "5ffb4500",
   "metadata": {},
   "outputs": [
    {
     "data": {
      "text/plain": [
       "array([1, 2, 3, 4, 5])"
      ]
     },
     "execution_count": 14,
     "metadata": {},
     "output_type": "execute_result"
    }
   ],
   "source": [
    "a = np.array([1,2,3,4,5])\n",
    "a"
   ]
  },
  {
   "cell_type": "code",
   "execution_count": 15,
   "id": "f0c10cc1",
   "metadata": {},
   "outputs": [
    {
     "data": {
      "text/plain": [
       "array([False, False, False,  True,  True])"
      ]
     },
     "execution_count": 15,
     "metadata": {},
     "output_type": "execute_result"
    }
   ],
   "source": [
    "a>3"
   ]
  },
  {
   "cell_type": "code",
   "execution_count": 16,
   "id": "b482500c",
   "metadata": {},
   "outputs": [
    {
     "data": {
      "text/plain": [
       "array([4, 5])"
      ]
     },
     "execution_count": 16,
     "metadata": {},
     "output_type": "execute_result"
    }
   ],
   "source": [
    "mascara = a>3\n",
    "\n",
    "a[mascara]"
   ]
  },
  {
   "cell_type": "code",
   "execution_count": 17,
   "id": "17fb4480",
   "metadata": {},
   "outputs": [
    {
     "data": {
      "text/plain": [
       "array([2, 4])"
      ]
     },
     "execution_count": 17,
     "metadata": {},
     "output_type": "execute_result"
    }
   ],
   "source": [
    "a[a % 2 == 0]"
   ]
  },
  {
   "cell_type": "markdown",
   "id": "41d6e8df",
   "metadata": {},
   "source": [
    "### 7. Broadcasting"
   ]
  },
  {
   "cell_type": "code",
   "execution_count": 18,
   "id": "3d798856",
   "metadata": {},
   "outputs": [
    {
     "data": {
      "text/plain": [
       "array([1, 2, 3])"
      ]
     },
     "execution_count": 18,
     "metadata": {},
     "output_type": "execute_result"
    }
   ],
   "source": [
    "a = np.array([1,2,3])\n",
    "a"
   ]
  },
  {
   "cell_type": "code",
   "execution_count": 19,
   "id": "2c3870df",
   "metadata": {},
   "outputs": [
    {
     "data": {
      "text/plain": [
       "2"
      ]
     },
     "execution_count": 19,
     "metadata": {},
     "output_type": "execute_result"
    }
   ],
   "source": [
    "b = 2\n",
    "b"
   ]
  },
  {
   "cell_type": "code",
   "execution_count": 20,
   "id": "a99c8b0a",
   "metadata": {},
   "outputs": [
    {
     "data": {
      "text/plain": [
       "array([3, 4, 5])"
      ]
     },
     "execution_count": 20,
     "metadata": {},
     "output_type": "execute_result"
    }
   ],
   "source": [
    "a+b"
   ]
  },
  {
   "cell_type": "markdown",
   "id": "1ea7f182",
   "metadata": {},
   "source": [
    "### 8. Manipulacion de arrays\n",
    "\n",
    ".reshape( <<filas>> , <<columnas>>) -> parte en una matriz de n filas y n columnas "
   ]
  },
  {
   "cell_type": "code",
   "execution_count": 21,
   "id": "b261084a",
   "metadata": {},
   "outputs": [
    {
     "data": {
      "text/plain": [
       "array([1, 2, 3, 4, 5, 6])"
      ]
     },
     "execution_count": 21,
     "metadata": {},
     "output_type": "execute_result"
    }
   ],
   "source": [
    "a = np.array([1, 2, 3, 4, 5, 6])\n",
    "a"
   ]
  },
  {
   "cell_type": "code",
   "execution_count": 22,
   "id": "fcd4311b",
   "metadata": {},
   "outputs": [
    {
     "data": {
      "text/plain": [
       "array([[1, 2, 3],\n",
       "       [4, 5, 6]])"
      ]
     },
     "execution_count": 22,
     "metadata": {},
     "output_type": "execute_result"
    }
   ],
   "source": [
    "a.reshape(2,3)"
   ]
  },
  {
   "cell_type": "markdown",
   "id": "5cdef166",
   "metadata": {},
   "source": [
    ".flatten() --> de multidimensional a unidimensional"
   ]
  },
  {
   "cell_type": "code",
   "execution_count": 23,
   "id": "7038d74e",
   "metadata": {},
   "outputs": [
    {
     "data": {
      "text/plain": [
       "array([[1, 2, 3],\n",
       "       [4, 5, 6]])"
      ]
     },
     "execution_count": 23,
     "metadata": {},
     "output_type": "execute_result"
    }
   ],
   "source": [
    "a = np.array([[1, 2, 3],\n",
    "       [4, 5, 6]])\n",
    "a"
   ]
  },
  {
   "cell_type": "code",
   "execution_count": 24,
   "id": "cfa63d83",
   "metadata": {},
   "outputs": [
    {
     "data": {
      "text/plain": [
       "array([1, 2, 3, 4, 5, 6])"
      ]
     },
     "execution_count": 24,
     "metadata": {},
     "output_type": "execute_result"
    }
   ],
   "source": [
    "a.flatten()"
   ]
  },
  {
   "cell_type": "markdown",
   "id": "f0480a8c",
   "metadata": {},
   "source": [
    ".concatenate([array1 ,  array2]) --> concatena array"
   ]
  },
  {
   "cell_type": "code",
   "execution_count": 25,
   "id": "b4c7bd07",
   "metadata": {},
   "outputs": [],
   "source": [
    "a = np.array([1, 2, 3])\n",
    "b = np.array([4, 5, 6])\n"
   ]
  },
  {
   "cell_type": "code",
   "execution_count": 26,
   "id": "030e2a37",
   "metadata": {},
   "outputs": [
    {
     "data": {
      "text/plain": [
       "array([1, 2, 3, 4, 5, 6])"
      ]
     },
     "execution_count": 26,
     "metadata": {},
     "output_type": "execute_result"
    }
   ],
   "source": [
    "c = np.concatenate([a, b])\n",
    "c"
   ]
  },
  {
   "cell_type": "markdown",
   "id": "f8c298db",
   "metadata": {},
   "source": [
    ".vstack ([array1 ,  array2]) --> apila verticalmente los array"
   ]
  },
  {
   "cell_type": "code",
   "execution_count": 27,
   "id": "8ee60788",
   "metadata": {},
   "outputs": [],
   "source": [
    "a = np.array([1, 2, 3])\n",
    "b = np.array([4, 5, 6])"
   ]
  },
  {
   "cell_type": "code",
   "execution_count": 28,
   "id": "6c29c84a",
   "metadata": {},
   "outputs": [
    {
     "data": {
      "text/plain": [
       "array([[1, 2, 3],\n",
       "       [4, 5, 6]])"
      ]
     },
     "execution_count": 28,
     "metadata": {},
     "output_type": "execute_result"
    }
   ],
   "source": [
    "c = np.vstack([a, b])\n",
    "c"
   ]
  },
  {
   "cell_type": "markdown",
   "id": "4920f283",
   "metadata": {},
   "source": [
    ".hstack ([array1 ,  array2]) --> apila horizontalmente los array"
   ]
  },
  {
   "cell_type": "code",
   "execution_count": 29,
   "id": "9298b20f",
   "metadata": {},
   "outputs": [],
   "source": [
    "a = np.array([1, 2, 3])\n",
    "b = np.array([4, 5, 6])"
   ]
  },
  {
   "cell_type": "code",
   "execution_count": 30,
   "id": "5d2c2251",
   "metadata": {},
   "outputs": [
    {
     "data": {
      "text/plain": [
       "array([1, 2, 3, 4, 5, 6])"
      ]
     },
     "execution_count": 30,
     "metadata": {},
     "output_type": "execute_result"
    }
   ],
   "source": [
    "c = np.hstack([a, b])\n",
    "c"
   ]
  },
  {
   "cell_type": "markdown",
   "id": "b7ce7443",
   "metadata": {},
   "source": [
    ".split (array , numero_iguales) --> divide un array en n partes iguales"
   ]
  },
  {
   "cell_type": "code",
   "execution_count": 31,
   "id": "fad687d8",
   "metadata": {},
   "outputs": [
    {
     "data": {
      "text/plain": [
       "array([1, 2, 3, 4, 5, 6])"
      ]
     },
     "execution_count": 31,
     "metadata": {},
     "output_type": "execute_result"
    }
   ],
   "source": [
    "a = np.array([1, 2, 3,4,5,6])\n",
    "a"
   ]
  },
  {
   "cell_type": "code",
   "execution_count": 32,
   "id": "70b33fde",
   "metadata": {},
   "outputs": [
    {
     "data": {
      "text/plain": [
       "[array([1, 2, 3]), array([4, 5, 6])]"
      ]
     },
     "execution_count": 32,
     "metadata": {},
     "output_type": "execute_result"
    }
   ],
   "source": [
    "np.split(a , 2)"
   ]
  },
  {
   "cell_type": "markdown",
   "id": "5eea55d4",
   "metadata": {},
   "source": [
    ".transpose (matriz) --> invierte los ejes"
   ]
  },
  {
   "cell_type": "code",
   "execution_count": 33,
   "id": "c6e5911a",
   "metadata": {},
   "outputs": [
    {
     "data": {
      "text/plain": [
       "array([[1, 2, 3],\n",
       "       [4, 5, 6]])"
      ]
     },
     "execution_count": 33,
     "metadata": {},
     "output_type": "execute_result"
    }
   ],
   "source": [
    "a = np.array([[1, 2, 3],[4,5,6]])\n",
    "a"
   ]
  },
  {
   "cell_type": "code",
   "execution_count": 34,
   "id": "0c2d00eb",
   "metadata": {},
   "outputs": [
    {
     "data": {
      "text/plain": [
       "array([[1, 4],\n",
       "       [2, 5],\n",
       "       [3, 6]])"
      ]
     },
     "execution_count": 34,
     "metadata": {},
     "output_type": "execute_result"
    }
   ],
   "source": [
    "np.transpose(a)"
   ]
  },
  {
   "cell_type": "markdown",
   "id": "d6133128",
   "metadata": {},
   "source": [
    "### 9. Copia de elementos"
   ]
  },
  {
   "cell_type": "code",
   "execution_count": 35,
   "id": "66247b2d",
   "metadata": {},
   "outputs": [
    {
     "data": {
      "text/plain": [
       "array([[1, 2, 3],\n",
       "       [4, 5, 6]])"
      ]
     },
     "execution_count": 35,
     "metadata": {},
     "output_type": "execute_result"
    }
   ],
   "source": [
    "a = np.array([[1, 2, 3],[4,5,6]])\n",
    "a"
   ]
  },
  {
   "cell_type": "code",
   "execution_count": 36,
   "id": "acd19ba9",
   "metadata": {},
   "outputs": [],
   "source": [
    "b = a.copy()"
   ]
  },
  {
   "cell_type": "markdown",
   "id": "ee464920",
   "metadata": {},
   "source": [
    "### 10. Iteracion"
   ]
  },
  {
   "cell_type": "code",
   "execution_count": 37,
   "id": "197ac057",
   "metadata": {},
   "outputs": [
    {
     "data": {
      "text/plain": [
       "array([[1, 2],\n",
       "       [3, 4]])"
      ]
     },
     "execution_count": 37,
     "metadata": {},
     "output_type": "execute_result"
    }
   ],
   "source": [
    "a = np.array([[1, 2], [3, 4]])\n",
    "a"
   ]
  },
  {
   "cell_type": "code",
   "execution_count": 38,
   "id": "1989deab",
   "metadata": {},
   "outputs": [
    {
     "name": "stdout",
     "output_type": "stream",
     "text": [
      "[1 2]\n",
      "[3 4]\n"
     ]
    }
   ],
   "source": [
    "for fila in a:\n",
    "    print(fila)"
   ]
  },
  {
   "cell_type": "code",
   "execution_count": 39,
   "id": "25b5a8ae",
   "metadata": {},
   "outputs": [
    {
     "name": "stdout",
     "output_type": "stream",
     "text": [
      "1\n",
      "2\n",
      "3\n",
      "4\n"
     ]
    }
   ],
   "source": [
    "for x in np.nditer(a):\n",
    "    print(x)"
   ]
  },
  {
   "cell_type": "code",
   "execution_count": 40,
   "id": "e81dccb6",
   "metadata": {},
   "outputs": [
    {
     "name": "stdout",
     "output_type": "stream",
     "text": [
      "(0, 0) 1\n",
      "(0, 1) 2\n",
      "(1, 0) 3\n",
      "(1, 1) 4\n"
     ]
    }
   ],
   "source": [
    "for i , x in np.ndenumerate(a):\n",
    "    print(i, x)"
   ]
  },
  {
   "cell_type": "markdown",
   "id": "f7c6718f",
   "metadata": {},
   "source": [
    "### 11. Metodos Utiles\n",
    "\n",
    "np.unique(array/matrix) --> valores unicos"
   ]
  },
  {
   "cell_type": "code",
   "execution_count": 41,
   "id": "529bbf2f",
   "metadata": {},
   "outputs": [
    {
     "data": {
      "text/plain": [
       "array([1, 2, 3])"
      ]
     },
     "execution_count": 41,
     "metadata": {},
     "output_type": "execute_result"
    }
   ],
   "source": [
    "a = np.array([1, 2, 2, 3, 3, 3])\n",
    "np.unique(a)"
   ]
  },
  {
   "cell_type": "markdown",
   "id": "807da071",
   "metadata": {},
   "source": [
    "np.sort(array) --> ordenacion de valores"
   ]
  },
  {
   "cell_type": "code",
   "execution_count": 42,
   "id": "98c0a254",
   "metadata": {},
   "outputs": [
    {
     "data": {
      "text/plain": [
       "array([1, 2, 3, 4])"
      ]
     },
     "execution_count": 42,
     "metadata": {},
     "output_type": "execute_result"
    }
   ],
   "source": [
    "a = np.array([3, 1, 4, 2])\n",
    "np.sort(a)"
   ]
  },
  {
   "cell_type": "markdown",
   "id": "ead63755",
   "metadata": {},
   "source": [
    "np.argsort(array) --> devuelve los indices del array ordenado"
   ]
  },
  {
   "cell_type": "code",
   "execution_count": 43,
   "id": "3035282d",
   "metadata": {},
   "outputs": [
    {
     "data": {
      "text/plain": [
       "array([1, 3, 0, 2])"
      ]
     },
     "execution_count": 43,
     "metadata": {},
     "output_type": "execute_result"
    }
   ],
   "source": [
    "a = np.array([3, 1, 4, 2])\n",
    "np.argsort(a)"
   ]
  },
  {
   "cell_type": "markdown",
   "id": "e07eb441",
   "metadata": {},
   "source": [
    "np.where( condicion , valor_si_True , valor_si_falso)"
   ]
  },
  {
   "cell_type": "code",
   "execution_count": 44,
   "id": "ac997a6e",
   "metadata": {},
   "outputs": [
    {
     "data": {
      "text/plain": [
       "array([0, 0, 1, 1])"
      ]
     },
     "execution_count": 44,
     "metadata": {},
     "output_type": "execute_result"
    }
   ],
   "source": [
    "a = np.array([1, 2, 3, 4])\n",
    "\n",
    "np.where(a>2, 1 , 0)"
   ]
  },
  {
   "cell_type": "markdown",
   "id": "4f4f28cf",
   "metadata": {},
   "source": [
    "np.any(condicion) --> si algún elemento en el array/matriz cumple la condicion me devuelve True"
   ]
  },
  {
   "cell_type": "code",
   "execution_count": 45,
   "id": "a0e5cc19",
   "metadata": {},
   "outputs": [
    {
     "data": {
      "text/plain": [
       "np.False_"
      ]
     },
     "execution_count": 45,
     "metadata": {},
     "output_type": "execute_result"
    }
   ],
   "source": [
    "a = np.array([1, 2, 3, 4])\n",
    "\n",
    "np.any(a>100)"
   ]
  },
  {
   "cell_type": "markdown",
   "id": "6e556f4b",
   "metadata": {},
   "source": [
    "np.isin(matirz , lista) --> devuelve array de boleanos si el elemento de la matriz está en la lista proprorcionada"
   ]
  },
  {
   "cell_type": "code",
   "execution_count": 46,
   "id": "ec61d295",
   "metadata": {},
   "outputs": [
    {
     "data": {
      "text/plain": [
       "array([ True, False, False,  True])"
      ]
     },
     "execution_count": 46,
     "metadata": {},
     "output_type": "execute_result"
    }
   ],
   "source": [
    "a = np.array([1, 2, 3, 4])\n",
    "\n",
    "np.isin(a , [1,4,1000])"
   ]
  },
  {
   "cell_type": "markdown",
   "id": "cc20971c",
   "metadata": {},
   "source": [
    "np.clip(matriz , min_val , max_val ) --> limitar los valores del array a un rango"
   ]
  },
  {
   "cell_type": "code",
   "execution_count": 47,
   "id": "39ab4527",
   "metadata": {},
   "outputs": [
    {
     "data": {
      "text/plain": [
       "array([ 0,  0,  5, 10, 10])"
      ]
     },
     "execution_count": 47,
     "metadata": {},
     "output_type": "execute_result"
    }
   ],
   "source": [
    "a = np.array([-5, 0, 5, 10, 15])\n",
    "\n",
    "np.clip(a, 0, 10)"
   ]
  },
  {
   "cell_type": "markdown",
   "id": "b5d02030",
   "metadata": {},
   "source": [
    "### 12. Algebra Lineal \n",
    "\n",
    "dot(a,b) / a@b / np.inner(a,b) --> producto escalar"
   ]
  },
  {
   "cell_type": "code",
   "execution_count": 48,
   "id": "bca04076",
   "metadata": {},
   "outputs": [],
   "source": [
    "a = np.array([1, 2, 3])\n",
    "b = np.array([4, 5, 6])"
   ]
  },
  {
   "cell_type": "markdown",
   "id": "5f724293",
   "metadata": {},
   "source": [
    "<small> El producto escalar es:  \n",
    "    a⋅b=1×4+2×5+3×6=32 </small>"
   ]
  },
  {
   "cell_type": "code",
   "execution_count": 49,
   "id": "fb83f713",
   "metadata": {},
   "outputs": [
    {
     "data": {
      "text/plain": [
       "np.int64(32)"
      ]
     },
     "execution_count": 49,
     "metadata": {},
     "output_type": "execute_result"
    }
   ],
   "source": [
    "np.dot(a, b)"
   ]
  },
  {
   "cell_type": "code",
   "execution_count": 51,
   "id": "b8a292b0",
   "metadata": {},
   "outputs": [
    {
     "data": {
      "text/plain": [
       "np.int64(32)"
      ]
     },
     "execution_count": 51,
     "metadata": {},
     "output_type": "execute_result"
    }
   ],
   "source": [
    "a @ b"
   ]
  },
  {
   "cell_type": "code",
   "execution_count": 52,
   "id": "53959d6f",
   "metadata": {},
   "outputs": [
    {
     "data": {
      "text/plain": [
       "np.int64(32)"
      ]
     },
     "execution_count": 52,
     "metadata": {},
     "output_type": "execute_result"
    }
   ],
   "source": [
    "np.inner(a, b)\n"
   ]
  },
  {
   "cell_type": "markdown",
   "id": "efac235a",
   "metadata": {},
   "source": [
    "np.cross(a,b) --> producto vectorial o producto cruzado"
   ]
  },
  {
   "cell_type": "markdown",
   "id": "f887dfd9",
   "metadata": {},
   "source": [
    "<small>\n",
    "\n",
    "Sean:\n",
    "\n",
    "$$\n",
    "\\vec{a} = [a_1, a_2, a_3], \\quad \\vec{b} = [b_1, b_2, b_3]\n",
    "$$\n",
    "\n",
    "El producto vectorial se define como:\n",
    "\n",
    "$$\n",
    "\\vec{a} \\times \\vec{b} =\n",
    "\\begin{bmatrix}\n",
    "a_2 b_3 - a_3 b_2 \\\\\n",
    "a_3 b_1 - a_1 b_3 \\\\\n",
    "a_1 b_2 - a_2 b_1\n",
    "\\end{bmatrix}\n",
    "$$\n",
    "\n",
    "---\n",
    "\n",
    "Ejemplo, sean:\n",
    "\n",
    "$$\n",
    "\\vec{a} = [1, 0, 0], \\quad \\vec{b} = [0, 1, 0]\n",
    "$$\n",
    "\n",
    "Entonces:\n",
    "\n",
    "$$\n",
    "\\vec{a} \\times \\vec{b} =\n",
    "\\begin{bmatrix}\n",
    "0 \\cdot 0 - 0 \\cdot 1 \\\\\n",
    "0 \\cdot 0 - 1 \\cdot 0 \\\\\n",
    "1 \\cdot 1 - 0 \\cdot 0\n",
    "\\end{bmatrix}\n",
    "=\n",
    "\\begin{bmatrix}\n",
    "0 \\\\\n",
    "0 \\\\\n",
    "1\n",
    "\\end{bmatrix}\n",
    "$$\n",
    "</small>"
   ]
  },
  {
   "cell_type": "markdown",
   "id": "25d758d8",
   "metadata": {},
   "source": [
    "<small>El producto cruzado de dos vectores 3D, a y b, da como resultado un nuevo vector perpendicular a ambos</small>"
   ]
  },
  {
   "cell_type": "code",
   "execution_count": 53,
   "id": "6bda259d",
   "metadata": {},
   "outputs": [
    {
     "name": "stdout",
     "output_type": "stream",
     "text": [
      "[0 0 1]\n"
     ]
    }
   ],
   "source": [
    "a = np.array([1, 0, 0])\n",
    "b = np.array([0, 1, 0])\n",
    "\n",
    "c = np.cross(a, b)\n",
    "print(c)  # el vector [0, 0, 1], que es perpendicular a a y b."
   ]
  },
  {
   "cell_type": "markdown",
   "id": "8d63f5db",
   "metadata": {},
   "source": [
    "np.outer(a,b) --> producto combinado\n",
    "\n",
    "<small>Dado dos vectores 1D, a y b, calcula todas las combinaciones posibles multiplicando cada elemento de a por cada elemento de b: \n",
    "\n",
    "$$\n",
    "C_{ij} = a_i \\cdot b_j\n",
    "$$\n",
    "\n",
    "</small>"
   ]
  },
  {
   "cell_type": "code",
   "execution_count": 54,
   "id": "b7a7d7fb",
   "metadata": {},
   "outputs": [
    {
     "data": {
      "text/plain": [
       "array([[ 3,  4,  5],\n",
       "       [ 6,  8, 10]])"
      ]
     },
     "execution_count": 54,
     "metadata": {},
     "output_type": "execute_result"
    }
   ],
   "source": [
    "a = np.array([1, 2])\n",
    "b = np.array([3, 4, 5])\n",
    "np.outer(a, b)"
   ]
  },
  {
   "cell_type": "markdown",
   "id": "cfd56f74",
   "metadata": {},
   "source": [
    "np.linalg.norm(<< vector >>) --> modulo de un vector"
   ]
  },
  {
   "cell_type": "code",
   "execution_count": 56,
   "id": "6e803eac",
   "metadata": {},
   "outputs": [
    {
     "data": {
      "text/plain": [
       "np.float64(5.0)"
      ]
     },
     "execution_count": 56,
     "metadata": {},
     "output_type": "execute_result"
    }
   ],
   "source": [
    "v = np.array([3, 4])\n",
    "\n",
    "np.linalg.norm(v)"
   ]
  },
  {
   "cell_type": "markdown",
   "id": "88f674c4",
   "metadata": {},
   "source": [
    "np.matmul(A,B) --> Producto matricial"
   ]
  },
  {
   "cell_type": "markdown",
   "id": "7db7fd16",
   "metadata": {},
   "source": [
    "<small>Realiza la multiplicación de matrices siguiendo la regla algebraica estándar:\n",
    "\n",
    "$$\n",
    "C_{ij} = \\sum_{k=1}^{n} A_{ik} \\cdot B_{kj}\n",
    "$$\n",
    "\n",
    "\n",
    "<small>\n",
    "\n",
    "$$\n",
    "A =\n",
    "\\begin{bmatrix}\n",
    "a_{11} & a_{12} \\\\\n",
    "a_{21} & a_{22}\n",
    "\\end{bmatrix},\n",
    "\\quad\n",
    "B =\n",
    "\\begin{bmatrix}\n",
    "b_{11} & b_{12} \\\\\n",
    "b_{21} & b_{22}\n",
    "\\end{bmatrix}\n",
    "$$\n",
    "\n",
    "$$\n",
    "A \\cdot B =\n",
    "\\begin{bmatrix}\n",
    "a_{11}b_{11} + a_{12}b_{21} & a_{11}b_{12} + a_{12}b_{22} \\\\\n",
    "a_{21}b_{11} + a_{22}b_{21} & a_{21}b_{12} + a_{22}b_{22}\n",
    "\\end{bmatrix}\n",
    "$$\n",
    "</small>"
   ]
  },
  {
   "cell_type": "code",
   "execution_count": null,
   "id": "bc0bc29a",
   "metadata": {},
   "outputs": [],
   "source": [
    "A = np.array([[1, 2], [3, 4]])\n",
    "B = np.array([[5, 6], [7, 8]])\n",
    "np.matmul(A, B)\n"
   ]
  },
  {
   "cell_type": "markdown",
   "id": "9cd58381",
   "metadata": {},
   "source": [
    "<< matriz >>.T --> transpuesta de una matriz"
   ]
  },
  {
   "cell_type": "code",
   "execution_count": 58,
   "id": "2f5db6c3",
   "metadata": {},
   "outputs": [
    {
     "name": "stdout",
     "output_type": "stream",
     "text": [
      "Matriz A:\n",
      "[[1 2 3]\n",
      " [4 5 6]]\n",
      "\n",
      "Transpuesta de A (A.T):\n",
      "[[1 4]\n",
      " [2 5]\n",
      " [3 6]]\n"
     ]
    }
   ],
   "source": [
    "A = np.array([\n",
    "    [1, 2, 3],\n",
    "    [4, 5, 6]\n",
    "])\n",
    "\n",
    "print(\"Matriz A:\")\n",
    "print(A)\n",
    "\n",
    "print(\"\\nTranspuesta de A (A.T):\")\n",
    "print(A.T)"
   ]
  },
  {
   "cell_type": "markdown",
   "id": "f581f817",
   "metadata": {},
   "source": [
    "<< matriz >>.trace --> traza de una matriz (suma de diagonal principal)"
   ]
  },
  {
   "cell_type": "code",
   "execution_count": 59,
   "id": "449caddb",
   "metadata": {},
   "outputs": [
    {
     "name": "stdout",
     "output_type": "stream",
     "text": [
      "La matriz es:\n",
      "[[1 2 3]\n",
      " [4 5 6]\n",
      " [7 8 9]]\n",
      "La traza de la matriz es: 15\n"
     ]
    }
   ],
   "source": [
    "matriz = np.array([\n",
    "    [1, 2, 3],\n",
    "    [4, 5, 6],\n",
    "    [7, 8, 9]\n",
    "])\n",
    "traza = matriz.trace()\n",
    "\n",
    "print(\"La matriz es:\")\n",
    "print(matriz)\n",
    "print(\"La traza de la matriz es:\", traza)"
   ]
  },
  {
   "cell_type": "markdown",
   "id": "8f85829c",
   "metadata": {},
   "source": [
    "np.linalg.inv(A) --> Inversa de la matriz"
   ]
  },
  {
   "cell_type": "code",
   "execution_count": 60,
   "id": "4eb278da",
   "metadata": {},
   "outputs": [
    {
     "name": "stdout",
     "output_type": "stream",
     "text": [
      "Matriz A:\n",
      "[[1 2]\n",
      " [3 4]]\n",
      "Inversa de A:\n",
      "[[-2.   1. ]\n",
      " [ 1.5 -0.5]]\n"
     ]
    }
   ],
   "source": [
    "A = np.array([\n",
    "    [1, 2],\n",
    "    [3, 4]\n",
    "])\n",
    "A_inv = np.linalg.inv(A)\n",
    "\n",
    "print(\"Matriz A:\")\n",
    "print(A)\n",
    "print(\"Inversa de A:\")\n",
    "print(A_inv)"
   ]
  },
  {
   "cell_type": "markdown",
   "id": "53854bed",
   "metadata": {},
   "source": [
    "np.linalg.det(A) --> Determinante de la matriz"
   ]
  },
  {
   "cell_type": "code",
   "execution_count": 61,
   "id": "70103b92",
   "metadata": {},
   "outputs": [
    {
     "name": "stdout",
     "output_type": "stream",
     "text": [
      "Matriz A:\n",
      "[[1 2]\n",
      " [3 4]]\n",
      "Determinante de A: -2.0000000000000004\n"
     ]
    }
   ],
   "source": [
    "A = np.array([\n",
    "    [1, 2],\n",
    "    [3, 4]\n",
    "])\n",
    "\n",
    "determinante = np.linalg.det(A)\n",
    "\n",
    "print(\"Matriz A:\")\n",
    "print(A)\n",
    "print(\"Determinante de A:\", determinante)"
   ]
  },
  {
   "cell_type": "markdown",
   "id": "6646b6c2",
   "metadata": {},
   "source": [
    "np.linalg.eig(A) --> Autovalores y autovectores"
   ]
  },
  {
   "cell_type": "code",
   "execution_count": null,
   "id": "ca1ce03f",
   "metadata": {},
   "outputs": [],
   "source": [
    "A = np.array([\n",
    "    [4, 2],\n",
    "    [1, 3]\n",
    "])"
   ]
  },
  {
   "cell_type": "code",
   "execution_count": 62,
   "id": "2d02bfe8",
   "metadata": {},
   "outputs": [
    {
     "name": "stdout",
     "output_type": "stream",
     "text": [
      "Matriz A:\n",
      "[[1 2]\n",
      " [3 4]]\n",
      "Autovalores:\n",
      "[-0.37228132  5.37228132]\n",
      "Autovectores:\n",
      "[[-0.82456484 -0.41597356]\n",
      " [ 0.56576746 -0.90937671]]\n"
     ]
    }
   ],
   "source": [
    "autovalores, autovectores = np.linalg.eig(A)\n",
    "\n",
    "print(\"Matriz A:\")\n",
    "print(A)\n",
    "print(\"Autovalores:\")\n",
    "print(autovalores)\n",
    "print(\"Autovectores:\")\n",
    "print(autovectores)"
   ]
  },
  {
   "cell_type": "markdown",
   "id": "46d75ce4",
   "metadata": {},
   "source": [
    "np.linalg.eigvals(A) --> Autovalores "
   ]
  },
  {
   "cell_type": "code",
   "execution_count": 63,
   "id": "b86d4b38",
   "metadata": {},
   "outputs": [
    {
     "name": "stdout",
     "output_type": "stream",
     "text": [
      "Matriz A:\n",
      "[[4 2]\n",
      " [1 3]]\n",
      "Autovalores:\n",
      "[5. 2.]\n"
     ]
    }
   ],
   "source": [
    "A = np.array([\n",
    "    [4, 2],\n",
    "    [1, 3]\n",
    "])\n",
    "\n",
    "autovalores = np.linalg.eigvals(A)\n",
    "\n",
    "print(\"Matriz A:\")\n",
    "print(A)\n",
    "print(\"Autovalores:\")\n",
    "print(autovalores)"
   ]
  },
  {
   "cell_type": "markdown",
   "id": "1d6ff109",
   "metadata": {},
   "source": [
    "np.linalg.solve(<< matriz de coeficientes >>, << matriz de soluciones >>) --> resolucion de un sistema de ecuaciones"
   ]
  },
  {
   "cell_type": "code",
   "execution_count": 64,
   "id": "56e4bf61",
   "metadata": {},
   "outputs": [
    {
     "name": "stdout",
     "output_type": "stream",
     "text": [
      "Solución del sistema:\n",
      "x = 1.0\n",
      "y = 2.0\n"
     ]
    }
   ],
   "source": [
    "# Sistema de ecuaciones:\n",
    "# 2x + 3y = 8\n",
    "# 5x + 4y = 13\n",
    "\n",
    "A = np.array([\n",
    "    [2, 3],\n",
    "    [5, 4]\n",
    "])\n",
    "\n",
    "b = np.array([8, 13])\n",
    "\n",
    "# Resolver el sistema\n",
    "solucion = np.linalg.solve(A, b)\n",
    "\n",
    "print(\"Solución del sistema:\")\n",
    "print(\"x =\", solucion[0])\n",
    "print(\"y =\", solucion[1])"
   ]
  },
  {
   "cell_type": "markdown",
   "id": "fbb0c603",
   "metadata": {},
   "source": [
    "### Guardado\n",
    "\n",
    "save(nombre_archivo , cursor) -> guaardar\n",
    "\n",
    "load(nombre_archivo) --> cargar\n",
    "\n",
    "savetxt(nombre_archivo , cursor, delimiter=',') -> guaardar como texto\n"
   ]
  }
 ],
 "metadata": {
  "kernelspec": {
   "display_name": "Python 3",
   "language": "python",
   "name": "python3"
  },
  "language_info": {
   "codemirror_mode": {
    "name": "ipython",
    "version": 3
   },
   "file_extension": ".py",
   "mimetype": "text/x-python",
   "name": "python",
   "nbconvert_exporter": "python",
   "pygments_lexer": "ipython3",
   "version": "3.13.5"
  }
 },
 "nbformat": 4,
 "nbformat_minor": 5
}
