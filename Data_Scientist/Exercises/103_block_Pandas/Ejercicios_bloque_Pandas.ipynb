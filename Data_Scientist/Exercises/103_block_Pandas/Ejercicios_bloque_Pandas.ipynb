{
 "cells": [
  {
   "cell_type": "markdown",
   "id": "7fccfd84",
   "metadata": {},
   "source": [
    "Ejercicio Pandas-01. \n",
    "Tienes un DataFrame con ventas de diferentes productos por meses.Extrae la media de ventas para cada producto, solo para los meses donde la venta fue mayor que 50, y ordena el resultado de mayor a menor. data = {'Producto': ['A', 'B', 'C', 'A', 'B', 'C', 'A', 'B', 'C'],'Mes': ['Enero', 'Enero', 'Enero', 'Febrero', 'Febrero', 'Febrero', 'Marzo', 'Marzo', 'Marzo'],'Ventas': [45, 60, 70, 55, 40, 80, 65, 70, 30]}\n",
    "\n"
   ]
  },
  {
   "cell_type": "code",
   "execution_count": 4,
   "id": "8ba8a782",
   "metadata": {},
   "outputs": [],
   "source": [
    "import pandas as pd\n",
    "import numpy as np"
   ]
  },
  {
   "cell_type": "code",
   "execution_count": 2,
   "id": "73f06cae",
   "metadata": {},
   "outputs": [
    {
     "name": "stdout",
     "output_type": "stream",
     "text": [
      "Producto\n",
      "C    75.0\n",
      "B    65.0\n",
      "A    60.0\n",
      "Name: Ventas, dtype: float64\n"
     ]
    }
   ],
   "source": [
    "\n",
    "# Datos proporcionados\n",
    "data = {\n",
    "    'Producto': ['A', 'B', 'C', 'A', 'B', 'C', 'A', 'B', 'C'],\n",
    "    'Mes': ['Enero', 'Enero', 'Enero', 'Febrero', 'Febrero', 'Febrero', 'Marzo', 'Marzo', 'Marzo'],\n",
    "    'Ventas': [45, 60, 70, 55, 40, 80, 65, 70, 30]\n",
    "}\n",
    "\n",
    "# Paso 1: Crear el DataFrame\n",
    "df = pd.DataFrame(data)\n",
    "\n",
    "# Paso 2: Filtrar ventas mayores a 50\n",
    "ventas_altas = df[df['Ventas'] > 50]\n",
    "\n",
    "# Paso 3: Calcular la media por producto (solo datos filtrados)\n",
    "media_por_producto = ventas_altas.groupby('Producto')['Ventas'].mean()\n",
    "\n",
    "# Paso 4: Ordenar resultados (mayor a menor)\n",
    "resultado = media_por_producto.sort_values(ascending=False)\n",
    "\n",
    "print(resultado)"
   ]
  },
  {
   "cell_type": "markdown",
   "id": "fffa81d0",
   "metadata": {},
   "source": [
    "Ejercicio Pandas-02.\n",
    "Crea una Series con índices personalizados a partir de un set, luego concaténala con un DataFrame por columnas, y finalmente, reemplaza todos los valores NaN por la media de la columna correspondiente.serie = pd.Series(set([10, 20, 30]), index=['x', 'y', 'z'])df = pd.DataFrame({'A':[1, 2, None], 'B':[4, None, 6]}, index=['x', 'y', 'w'])"
   ]
  },
  {
   "cell_type": "code",
   "execution_count": 9,
   "id": "5156ac9e",
   "metadata": {},
   "outputs": [
    {
     "name": "stdout",
     "output_type": "stream",
     "text": [
      "     A    B     0\n",
      "x  1.0  4.0  10.0\n",
      "y  2.0  5.0  20.0\n",
      "w  1.5  6.0  20.0\n",
      "z  1.5  5.0  30.0\n"
     ]
    }
   ],
   "source": [
    "import pandas as pd\n",
    "import numpy as np\n",
    "\n",
    "# Crear la Serie CORRECTAMENTE: convertir el set a lista primero\n",
    "valores = list(set([10, 20, 30]))  # Convertimos el set a lista\n",
    "serie = pd.Series(valores, index=['x', 'y', 'z'])  # Ahora funciona\n",
    "\n",
    "# Crear DataFrame\n",
    "df = pd.DataFrame({'A': [1, 2, None], 'B': [4, None, 6]}, index=['x', 'y', 'w'])\n",
    "\n",
    "# Concatenar por columnas (axis=1)\n",
    "resultado = pd.concat([df, serie], axis=1)\n",
    "\n",
    "# Calcular medias por columna (ignorando NaN)\n",
    "medias = resultado.mean()\n",
    "\n",
    "# Reemplazar NaN con la media correspondiente\n",
    "resultado_final = resultado.fillna(medias)\n",
    "\n",
    "print(resultado_final)\n",
    "\n"
   ]
  },
  {
   "cell_type": "markdown",
   "id": "a39fa9d3",
   "metadata": {},
   "source": [
    "Ejercicio Pandas-03. \n",
    "Dado un DataFrame, selecciona todas las filas cuyo índice sea par, y dentro de esas filas, filtra las columnas que tengan una media mayor que 3.\n",
    "df = pd.DataFrame({'X': [1, 4, 7, 10],'Y': [2, 5, 8, 11],'Z': [3, 6, 9, 12]}, index=[0, 1, 2, 3])"
   ]
  },
  {
   "cell_type": "code",
   "execution_count": 10,
   "id": "e6884c04",
   "metadata": {},
   "outputs": [
    {
     "name": "stdout",
     "output_type": "stream",
     "text": [
      "   X  Y  Z\n",
      "0  1  2  3\n",
      "2  7  8  9\n"
     ]
    }
   ],
   "source": [
    "import pandas as pd\n",
    "\n",
    "# Crear el DataFrame\n",
    "df = pd.DataFrame({\n",
    "    'X': [1, 4, 7, 10],\n",
    "    'Y': [2, 5, 8, 11],\n",
    "    'Z': [3, 6, 9, 12]\n",
    "}, index=[0, 1, 2, 3])\n",
    "\n",
    "# Paso 1: Filtrar filas con índice par\n",
    "filas_pares = df[df.index % 2 == 0]\n",
    "\n",
    "# Paso 2: Calcular medias de las columnas\n",
    "medias = df.mean()\n",
    "\n",
    "# Paso 3: Filtrar columnas con media > 3\n",
    "columnas_filtradas = medias[medias > 3].index\n",
    "\n",
    "# Paso 4: Combinar ambos filtros\n",
    "resultado = filas_pares[columnas_filtradas]\n",
    "\n",
    "print(resultado)"
   ]
  },
  {
   "cell_type": "markdown",
   "id": "7148d3a4",
   "metadata": {},
   "source": [
    "Ejercicio Pandas-04.\n",
    "Carga un DataFrame desde un CSV creado en memoria (usando pd.read_csv con StringIO), conviértelo a fechas, y crea una columna nueva con el mes extraído de la fecha. Luego crea una tabla dinámica con la media de una columna numérica por mes.from io import StringIO\n",
    "csv_data = \"\"\"id,fecha,valor1,2023-01-10,1002,2023-02-15,2003,2023-01-20,1504,2023-03-05,300\"\"\"."
   ]
  },
  {
   "cell_type": "code",
   "execution_count": 11,
   "id": "32c40fd3",
   "metadata": {},
   "outputs": [
    {
     "name": "stdout",
     "output_type": "stream",
     "text": [
      "DataFrame original:\n",
      "   id      fecha  valor  mes\n",
      "0   1 2023-01-10    100    1\n",
      "1   2 2023-02-15    200    2\n",
      "2   3 2023-01-20    150    1\n",
      "3   4 2023-03-05    300    3\n",
      "\n",
      "Tabla dinámica (media por mes):\n",
      "     valor\n",
      "mes       \n",
      "1    125.0\n",
      "2    200.0\n",
      "3    300.0\n"
     ]
    }
   ],
   "source": [
    "import pandas as pd\n",
    "from io import StringIO\n",
    "\n",
    "# Corregir el formato del CSV (agregar saltos de línea y corregir encabezados)\n",
    "csv_data = \"\"\"id,fecha,valor\n",
    "1,2023-01-10,100\n",
    "2,2023-02-15,200\n",
    "3,2023-01-20,150\n",
    "4,2023-03-05,300\"\"\"\n",
    "\n",
    "# Cargar el DataFrame desde el CSV en memoria\n",
    "df = pd.read_csv(StringIO(csv_data))\n",
    "\n",
    "# Convertir la columna 'fecha' a datetime\n",
    "df['fecha'] = pd.to_datetime(df['fecha'])\n",
    "\n",
    "# Crear columna con el mes extraído (formato numérico)\n",
    "df['mes'] = df['fecha'].dt.month\n",
    "\n",
    "# Alternativa: para obtener el nombre del mes\n",
    "# df['mes'] = df['fecha'].dt.month_name()\n",
    "\n",
    "# Crear tabla dinámica con la media de 'valor' por mes\n",
    "tabla_dinamica = pd.pivot_table(\n",
    "    df, \n",
    "    values='valor', \n",
    "    index='mes', \n",
    "    aggfunc='mean'\n",
    ")\n",
    "\n",
    "print(\"DataFrame original:\")\n",
    "print(df)\n",
    "print(\"\\nTabla dinámica (media por mes):\")\n",
    "print(tabla_dinamica)"
   ]
  },
  {
   "cell_type": "markdown",
   "id": "d2597e9a",
   "metadata": {},
   "source": [
    "Ejercicio Pandas-05.\n",
    "Dado un DataFramecon categorías y valores, renombra las columnas quitando espacios y conviértelas a minúsculas, convierte la columna categoría a tipo category, y muestra la frecuencia de cada categoría.df = pd.DataFrame({' Cat ': ['a', 'b', 'a', 'c', 'b', 'a'],'Valor': [10, 20, 10, 30, 20, 10]})."
   ]
  },
  {
   "cell_type": "code",
   "execution_count": 12,
   "id": "8fa51527",
   "metadata": {},
   "outputs": [
    {
     "name": "stdout",
     "output_type": "stream",
     "text": [
      "DataFrame transformado:\n",
      "  cat  valor\n",
      "0   a     10\n",
      "1   b     20\n",
      "2   a     10\n",
      "3   c     30\n",
      "4   b     20\n",
      "5   a     10\n",
      "\n",
      "Frecuencia de categorías:\n",
      "cat\n",
      "a    3\n",
      "b    2\n",
      "c    1\n",
      "Name: count, dtype: int64\n"
     ]
    }
   ],
   "source": [
    "import pandas as pd\n",
    "\n",
    "# Crear el DataFrame\n",
    "df = pd.DataFrame({' Cat ': ['a', 'b', 'a', 'c', 'b', 'a'], 'Valor': [10, 20, 10, 30, 20, 10]})\n",
    "\n",
    "# Paso 1: Renombrar columnas (quitar espacios y convertir a minúsculas)\n",
    "df.columns = [col.strip().lower() for col in df.columns]\n",
    "\n",
    "# Paso 2: Convertir columna 'cat' a tipo category\n",
    "df['cat'] = df['cat'].astype('category')\n",
    "\n",
    "# Paso 3: Calcular frecuencias\n",
    "frecuencias = df['cat'].value_counts()\n",
    "\n",
    "print(\"DataFrame transformado:\")\n",
    "print(df)\n",
    "print(\"\\nFrecuencia de categorías:\")\n",
    "print(frecuencias)"
   ]
  },
  {
   "cell_type": "markdown",
   "id": "b849c613",
   "metadata": {},
   "source": [
    "Ejercicio Pandas-06. \n",
    "Tienes dos DataFrames con nombres y edades, pero con diferentes columnas para nombre. Realiza un merge con outer join y rellena los valores NaN con 'Desconocido' para nombres y con la media para edadesdf1 = pd.DataFrame({'nombre1': ['Ana', 'Luis'], 'edad1': [23, 45]})df2 = pd.DataFrame({'nombre2': ['Ana', 'Juan'], 'edad2': [23, 30]})."
   ]
  },
  {
   "cell_type": "code",
   "execution_count": 13,
   "id": "9472e255",
   "metadata": {},
   "outputs": [
    {
     "name": "stdout",
     "output_type": "stream",
     "text": [
      "       nombre1  edad1      nombre2  edad2\n",
      "0          Ana   23.0          Ana   23.0\n",
      "1  Desconocido   34.0         Juan   30.0\n",
      "2         Luis   45.0  Desconocido   26.5\n"
     ]
    }
   ],
   "source": [
    "import pandas as pd\n",
    "import numpy as np\n",
    "\n",
    "# Crear los DataFrames\n",
    "df1 = pd.DataFrame({'nombre1': ['Ana', 'Luis'], 'edad1': [23, 45]})\n",
    "df2 = pd.DataFrame({'nombre2': ['Ana', 'Juan'], 'edad2': [23, 30]})\n",
    "\n",
    "# Paso 1: Hacer merge con outer join\n",
    "merged = pd.merge(df1, df2, left_on='nombre1', right_on='nombre2', how='outer')\n",
    "\n",
    "# Paso 2: Rellenar NaN en nombres con 'Desconocido'\n",
    "merged['nombre1'] = merged['nombre1'].fillna('Desconocido')\n",
    "merged['nombre2'] = merged['nombre2'].fillna('Desconocido')\n",
    "\n",
    "# Paso 3: Calcular medias de las edades\n",
    "media_edad1 = merged['edad1'].mean()\n",
    "media_edad2 = merged['edad2'].mean()\n",
    "\n",
    "# Rellenar NaN en edades con sus respectivas medias\n",
    "merged['edad1'] = merged['edad1'].fillna(media_edad1)\n",
    "merged['edad2'] = merged['edad2'].fillna(media_edad2)\n",
    "\n",
    "print(merged)"
   ]
  },
  {
   "cell_type": "markdown",
   "id": "f21b53a6",
   "metadata": {},
   "source": [
    "Ejercicio Pandas-07.\n",
    "Crea un DataFrame con índices de fecha y varias columnas numéricas. Usa .apply() para normalizar cada columna (restar media y dividir por desviación estándar) y filtra las filas donde alguna columna esté fuera del rango [-1, 1].fechas = pd.date_range('2023-01-01', periods=5)df = pd.DataFrame(np.random.randint(1, 100, (5,3)), columns=list('ABC'), index=fechas)."
   ]
  },
  {
   "cell_type": "code",
   "execution_count": 14,
   "id": "d092289d",
   "metadata": {},
   "outputs": [
    {
     "name": "stdout",
     "output_type": "stream",
     "text": [
      "DataFrame original:\n",
      "             A   B   C\n",
      "2023-01-01  34  50  72\n",
      "2023-01-02   7  26  75\n",
      "2023-01-03  12  59   9\n",
      "2023-01-04  18  27  39\n",
      "2023-01-05  31   5  35\n",
      "\n",
      "DataFrame normalizado:\n",
      "                   A         B         C\n",
      "2023-01-01  1.156453  0.775413  0.940647\n",
      "2023-01-02 -1.139446 -0.345666  1.049183\n",
      "2023-01-03 -0.714280  1.195818 -1.338613\n",
      "2023-01-04 -0.204080 -0.298954 -0.253251\n",
      "2023-01-05  0.901353 -1.326610 -0.397966\n",
      "\n",
      "DataFrame filtrado (todas las columnas en [-1, 1]):\n",
      "                  A         B         C\n",
      "2023-01-04 -0.20408 -0.298954 -0.253251\n"
     ]
    }
   ],
   "source": [
    "import pandas as pd\n",
    "import numpy as np\n",
    "\n",
    "# Crear el DataFrame\n",
    "fechas = pd.date_range('2023-01-01', periods=5)\n",
    "df = pd.DataFrame(np.random.randint(1, 100, (5, 3)), columns=list('ABC'), index=fechas)\n",
    "\n",
    "# Paso 1: Normalizar las columnas\n",
    "def normalizar(col):\n",
    "    return (col - col.mean()) / col.std()\n",
    "\n",
    "df_normalizado = df.apply(normalizar)\n",
    "\n",
    "# Paso 2: Filtrar filas donde alguna columna esté fuera de [-1, 1]\n",
    "# Crear máscara: True si TODOS los valores de la fila están en [-1, 1]\n",
    "mascara = ((df_normalizado >= -1) & (df_normalizado <= 1)).all(axis=1)\n",
    "\n",
    "# Aplicar máscara para filtrar filas\n",
    "df_filtrado = df_normalizado[mascara]\n",
    "\n",
    "print(\"DataFrame original:\")\n",
    "print(df)\n",
    "print(\"\\nDataFrame normalizado:\")\n",
    "print(df_normalizado)\n",
    "print(\"\\nDataFrame filtrado (todas las columnas en [-1, 1]):\")\n",
    "print(df_filtrado)"
   ]
  },
  {
   "cell_type": "markdown",
   "id": "b372207d",
   "metadata": {},
   "source": [
    "Ejercicio Pandas-08. \n",
    "Dado un DataFrame con columnas de strings, convierte todas a mayúsculas, elimina las filas que contengan el string 'ERROR', y ordena por la columna 'ID' descendente.\n",
    "df = pd.DataFrame({'ID': [3, 2, 1],'Status': ['ok', 'error', 'ok'],'Name': ['Ana', 'Luis', 'Juan']})."
   ]
  },
  {
   "cell_type": "code",
   "execution_count": 15,
   "id": "3c38eb97",
   "metadata": {},
   "outputs": [
    {
     "name": "stdout",
     "output_type": "stream",
     "text": [
      "   ID Status  Name\n",
      "0   3     OK   ANA\n",
      "1   1     OK  JUAN\n"
     ]
    }
   ],
   "source": [
    "import pandas as pd\n",
    "\n",
    "# Crear el DataFrame\n",
    "df = pd.DataFrame({\n",
    "    'ID': [3, 2, 1],\n",
    "    'Status': ['ok', 'error', 'ok'],\n",
    "    'Name': ['Ana', 'Luis', 'Juan']\n",
    "})\n",
    "\n",
    "# 1. Convertir columnas de texto a mayúsculas\n",
    "for columna in df.select_dtypes(include='object').columns:\n",
    "    df[columna] = df[columna].str.upper()\n",
    "\n",
    "# 2. Eliminar filas que contengan \"ERROR\" en cualquier columna de texto\n",
    "columnas_texto = df.select_dtypes(include='object').columns\n",
    "mascara_errores = df[columnas_texto].apply(lambda col: col == 'ERROR').any(axis=1)\n",
    "df = df[~mascara_errores]\n",
    "\n",
    "# 3. Ordenar por 'ID' descendente\n",
    "df = df.sort_values('ID', ascending=False)\n",
    "\n",
    "# Restablecer índices después de eliminar filas y ordenar\n",
    "df = df.reset_index(drop=True)\n",
    "\n",
    "# Resultado final\n",
    "print(df)"
   ]
  },
  {
   "cell_type": "markdown",
   "id": "9074790e",
   "metadata": {},
   "source": [
    "Ejercicio Pandas-09. \n",
    "Genera un DataFrame de 6 filas con columnas 'Grupo' y 'Puntaje', agrupa por 'Grupo' y calcula la suma, media y desviación estándar, luego convierte el resultado a un DataFrame plano (sin índices jerárquicos)df = pd.DataFrame({'Grupo': ['X', 'Y', 'X', 'Y', 'X', 'Z'],'Puntaje': [10, 20, 15, 25, 10, 5]})."
   ]
  },
  {
   "cell_type": "code",
   "execution_count": 16,
   "id": "aad69d20",
   "metadata": {},
   "outputs": [
    {
     "name": "stdout",
     "output_type": "stream",
     "text": [
      "  Grupo  Suma      Media  Desviacion_estandar\n",
      "0     X    35  11.666667             2.886751\n",
      "1     Y    45  22.500000             3.535534\n",
      "2     Z     5   5.000000                  NaN\n"
     ]
    }
   ],
   "source": [
    "import pandas as pd\n",
    "\n",
    "# Crear el DataFrame\n",
    "df = pd.DataFrame({\n",
    "    'Grupo': ['X', 'Y', 'X', 'Y', 'X', 'Z'],\n",
    "    'Puntaje': [10, 20, 15, 25, 10, 5]\n",
    "})\n",
    "\n",
    "# Paso 1: Agrupar por 'Grupo' y calcular las estadísticas\n",
    "grouped = df.groupby('Grupo')['Puntaje'].agg(['sum', 'mean', 'std'])\n",
    "\n",
    "# Paso 2: Aplanar las columnas multiíndice\n",
    "grouped.columns = ['Suma', 'Media', 'Desviacion_estandar']\n",
    "\n",
    "# Paso 3: Convertir el índice en columna y reiniciar índice\n",
    "resultado = grouped.reset_index()\n",
    "\n",
    "print(resultado)"
   ]
  },
  {
   "cell_type": "markdown",
   "id": "7c1c53af",
   "metadata": {},
   "source": [
    "Ejercicio Pandas-10. \n",
    "Crea un DataFramecon columnas desordenadas y con espacios en los nombres. Reordénalas alfabéticamente, elimina la columna menos importante, y modifica un valor específico usando .ilocdf = pd.DataFrame({' C ': [1, 2],'A': [3, 4],' B': [5, 6]})."
   ]
  },
  {
   "cell_type": "code",
   "execution_count": 17,
   "id": "99fd5f75",
   "metadata": {},
   "outputs": [
    {
     "name": "stdout",
     "output_type": "stream",
     "text": [
      "DataFrame resultante:\n",
      "     B  C \n",
      "0  100   1\n",
      "1    6   2\n"
     ]
    }
   ],
   "source": [
    "import pandas as pd\n",
    "\n",
    "# Crear el DataFrame con espacios en nombres de columnas\n",
    "df = pd.DataFrame({' C ': [1, 2], 'A': [3, 4], ' B': [5, 6]})\n",
    "\n",
    "# Paso 1: Ordenar columnas alfabéticamente\n",
    "df = df[sorted(df.columns)]\n",
    "\n",
    "# Paso 2: Eliminar la columna menos importante (la última después de ordenar)\n",
    "columna_a_eliminar = df.columns[-1]\n",
    "df = df.drop(columns=columna_a_eliminar)\n",
    "\n",
    "# Paso 3: Modificar valor en fila 0, columna 0 usando iloc\n",
    "df.iloc[0, 0] = 100\n",
    "\n",
    "print(\"DataFrame resultante:\")\n",
    "print(df)"
   ]
  },
  {
   "cell_type": "markdown",
   "id": "fbda7905",
   "metadata": {},
   "source": [
    "Ejercicio Pandas-11.\n",
    "A partir de un DataFrame, crea una nueva columna con valores categóricos en mayúsculas, reemplaza los valores NaN por un valor definido, y cuenta cuántos valores únicos tiene esa columna. df = pd.DataFrame({'Categoria': ['a', None, 'b', 'a', 'c', None]}).\n"
   ]
  },
  {
   "cell_type": "code",
   "execution_count": 18,
   "id": "b95c5052",
   "metadata": {},
   "outputs": [
    {
     "name": "stdout",
     "output_type": "stream",
     "text": [
      "DataFrame resultante:\n",
      "  Categoria Categoria_Upper\n",
      "0         a               A\n",
      "1      None     DESCONOCIDO\n",
      "2         b               B\n",
      "3         a               A\n",
      "4         c               C\n",
      "5      None     DESCONOCIDO\n",
      "\n",
      "Cantidad de valores únicos en 'Categoria_Upper': 4\n"
     ]
    }
   ],
   "source": [
    "import pandas as pd\n",
    "import numpy as np\n",
    "\n",
    "# Crear el DataFrame\n",
    "df = pd.DataFrame({'Categoria': ['a', None, 'b', 'a', 'c', None]})\n",
    "\n",
    "# Paso 1: Crear nueva columna en mayúsculas\n",
    "df['Categoria_Upper'] = df['Categoria'].str.upper()\n",
    "\n",
    "# Paso 2: Reemplazar NaN por valor definido (ej: 'DESCONOCIDO')\n",
    "df['Categoria_Upper'] = df['Categoria_Upper'].fillna('DESCONOCIDO')\n",
    "\n",
    "# Paso 3: Contar valores únicos\n",
    "cantidad_unicos = df['Categoria_Upper'].nunique()\n",
    "\n",
    "print(\"DataFrame resultante:\")\n",
    "print(df)\n",
    "print(\"\\nCantidad de valores únicos en 'Categoria_Upper':\", cantidad_unicos)"
   ]
  },
  {
   "cell_type": "markdown",
   "id": "4536beed",
   "metadata": {},
   "source": [
    "Ejercicio Pandas-12.\n",
    "Crea un DataFrame a partir de una lista de diccionarios, luego ordena primero por dos columnas (una ascendente y otra descendente), y extrae las últimas 3 filas.\n",
    "lista = [{'Nombre':'Ana', 'Edad':25, 'Puntaje':90},{'Nombre':'Luis', 'Edad':30, 'Puntaje':80},{'Nombre':'Juan', 'Edad':25, 'Puntaje':95},{'Nombre':'Maria', 'Edad':22, 'Puntaje':88},{'Nombre':'Carmen', 'Edad':30, 'Puntaje':85},]."
   ]
  },
  {
   "cell_type": "code",
   "execution_count": 19,
   "id": "d85e7b00",
   "metadata": {},
   "outputs": [
    {
     "name": "stdout",
     "output_type": "stream",
     "text": [
      "DataFrame ordenado:\n",
      "   Nombre  Edad  Puntaje\n",
      "3   Maria    22       88\n",
      "2    Juan    25       95\n",
      "0     Ana    25       90\n",
      "4  Carmen    30       85\n",
      "1    Luis    30       80\n",
      "\n",
      "Últimas 3 filas:\n",
      "   Nombre  Edad  Puntaje\n",
      "0     Ana    25       90\n",
      "4  Carmen    30       85\n",
      "1    Luis    30       80\n"
     ]
    }
   ],
   "source": [
    "import pandas as pd\n",
    "\n",
    "# Lista de diccionarios\n",
    "lista = [\n",
    "    {'Nombre':'Ana', 'Edad':25, 'Puntaje':90},\n",
    "    {'Nombre':'Luis', 'Edad':30, 'Puntaje':80},\n",
    "    {'Nombre':'Juan', 'Edad':25, 'Puntaje':95},\n",
    "    {'Nombre':'Maria', 'Edad':22, 'Puntaje':88},\n",
    "    {'Nombre':'Carmen', 'Edad':30, 'Puntaje':85}\n",
    "]\n",
    "\n",
    "# Paso 1: Crear DataFrame\n",
    "df = pd.DataFrame(lista)\n",
    "\n",
    "# Paso 2: Ordenar por 'Edad' ascendente y 'Puntaje' descendente\n",
    "df_ordenado = df.sort_values(by=['Edad', 'Puntaje'], ascending=[True, False])\n",
    "\n",
    "# Paso 3: Extraer últimas 3 filas\n",
    "ultimas_tres = df_ordenado.tail(3)\n",
    "\n",
    "print(\"DataFrame ordenado:\")\n",
    "print(df_ordenado)\n",
    "print(\"\\nÚltimas 3 filas:\")\n",
    "print(ultimas_tres)"
   ]
  },
  {
   "cell_type": "markdown",
   "id": "7437bccb",
   "metadata": {},
   "source": [
    "Ejercicio Pandas-13. \n",
    "Tienes dos DataFrames con columnas parcialmente coincidentes, realiza un merge con inner join usando columnas con nombres distintos, y luego elimina filas duplicadas.\n",
    "df1 = pd.DataFrame({'ID1': [1,2,3], 'Valor': [100, 200, 300]}), df2 = pd.DataFrame({'ID2': [2,3,4], 'Valor2': [250, 350, 450]})"
   ]
  },
  {
   "cell_type": "code",
   "execution_count": 20,
   "id": "d0d71a15",
   "metadata": {},
   "outputs": [
    {
     "name": "stdout",
     "output_type": "stream",
     "text": [
      "DataFrame resultante:\n",
      "   ID  Valor  Valor2\n",
      "0   2    200     250\n",
      "1   3    300     350\n"
     ]
    }
   ],
   "source": [
    "import pandas as pd\n",
    "\n",
    "# Crear los DataFrames\n",
    "df1 = pd.DataFrame({'ID1': [1, 2, 3], 'Valor': [100, 200, 300]})\n",
    "df2 = pd.DataFrame({'ID2': [2, 3, 4], 'Valor2': [250, 350, 450]})\n",
    "\n",
    "# Paso 1: Merge con inner join usando columnas con nombres distintos\n",
    "merged_df = pd.merge(df1, df2, left_on='ID1', right_on='ID2', how='inner')\n",
    "\n",
    "# Paso 2: Eliminar filas duplicadas\n",
    "merged_df = merged_df.drop_duplicates()\n",
    "\n",
    "# Paso 3: Opcional - renombrar columna de ID\n",
    "merged_df = merged_df.rename(columns={'ID1': 'ID'}).drop(columns='ID2')\n",
    "\n",
    "print(\"DataFrame resultante:\")\n",
    "print(merged_df)"
   ]
  },
  {
   "cell_type": "markdown",
   "id": "ac127b47",
   "metadata": {},
   "source": [
    "Ejercicio Pandas-14.\n",
    "Crea un DataFrame con datos numéricos, elimina las filas que contengan NaN, calcula el coeficiente de correlación entre todas las columnas, y finalmente, imprime el valor más alto de correlación diferente de 1.df = pd.DataFrame({'A':[1, 2, 3, 4, np.nan],'B':[2, 3, 4, 5, 6],'C':[5, 6, 7, np.nan, 9]})"
   ]
  },
  {
   "cell_type": "code",
   "execution_count": 21,
   "id": "87fe5e36",
   "metadata": {},
   "outputs": [
    {
     "name": "stdout",
     "output_type": "stream",
     "text": [
      "DataFrame limpio:\n",
      "     A  B    C\n",
      "0  1.0  2  5.0\n",
      "1  2.0  3  6.0\n",
      "2  3.0  4  7.0\n",
      "\n",
      "Matriz de correlación:\n",
      "     A    B    C\n",
      "A  1.0  1.0  1.0\n",
      "B  1.0  1.0  1.0\n",
      "C  1.0  1.0  1.0\n",
      "\n",
      "Máxima correlación (excluyendo 1): 1.0000\n"
     ]
    }
   ],
   "source": [
    "import pandas as pd\n",
    "import numpy as np\n",
    "\n",
    "# Crear el DataFrame\n",
    "df = pd.DataFrame({\n",
    "    'A': [1, 2, 3, 4, np.nan],\n",
    "    'B': [2, 3, 4, 5, 6],\n",
    "    'C': [5, 6, 7, np.nan, 9]\n",
    "})\n",
    "\n",
    "# Paso 1: Eliminar filas con NaN\n",
    "df_clean = df.dropna()\n",
    "\n",
    "# Paso 2: Calcular matriz de correlación\n",
    "corr_matrix = df_clean.corr()\n",
    "\n",
    "# Paso 3: Encontrar el valor máximo de correlación diferente de 1\n",
    "# Creamos una máscara para excluir la diagonal (valores 1)\n",
    "mask = np.triu(np.ones_like(corr_matrix, dtype=bool), k=1)\n",
    "corr_values = corr_matrix.where(mask).stack()\n",
    "max_corr = corr_values.max()\n",
    "\n",
    "print(\"DataFrame limpio:\")\n",
    "print(df_clean)\n",
    "print(\"\\nMatriz de correlación:\")\n",
    "print(corr_matrix)\n",
    "print(f\"\\nMáxima correlación (excluyendo 1): {max_corr:.4f}\")"
   ]
  },
  {
   "cell_type": "markdown",
   "id": "c0a27e63",
   "metadata": {},
   "source": [
    "Ejercicio Pandas-15.\n",
    "Crea un DataFrame con columnas de texto y numéricas. Aplica una función lambda que convierte a mayúsculas solo las columnas de texto y que a las columnas numéricas les suma 100.\n",
    "\n",
    "df = pd.DataFrame({'Nombre': ['Ana', 'Luis', 'Juan'],'Edad': [25, 30, 22],'Ciudad': ['madrid', 'barcelona', 'sevilla']})\n"
   ]
  },
  {
   "cell_type": "code",
   "execution_count": 22,
   "id": "d3b07bcb",
   "metadata": {},
   "outputs": [
    {
     "name": "stdout",
     "output_type": "stream",
     "text": [
      "DataFrame transformado:\n",
      "  Nombre  Edad     Ciudad\n",
      "0    ANA   125     MADRID\n",
      "1   LUIS   130  BARCELONA\n",
      "2   JUAN   122    SEVILLA\n"
     ]
    }
   ],
   "source": [
    "import pandas as pd\n",
    "\n",
    "# Crear el DataFrame\n",
    "df = pd.DataFrame({\n",
    "    'Nombre': ['Ana', 'Luis', 'Juan'],\n",
    "    'Edad': [25, 30, 22],\n",
    "    'Ciudad': ['madrid', 'barcelona', 'sevilla']\n",
    "})\n",
    "\n",
    "# Aplicar transformaciones\n",
    "df_transformado = df.apply(\n",
    "    lambda col: col.str.upper() if col.dtype == 'object' else col + 100\n",
    ")\n",
    "\n",
    "print(\"DataFrame transformado:\")\n",
    "print(df_transformado)"
   ]
  },
  {
   "cell_type": "markdown",
   "id": "d93017e1",
   "metadata": {},
   "source": [
    "Ejercicio Pandas-16. \n",
    "Crea un DataFrame, cambia el índice por una columna, concatena horizontalmente otro DataFrame, y después elimina una fila por índice usando .drop().\n",
    "df1 = pd.DataFrame({'ID': [1, 2, 3],'Valor': [10, 20, 30]}), \n",
    "df2 = pd.DataFrame({'Extra': ['a', 'b', 'c']})"
   ]
  },
  {
   "cell_type": "code",
   "execution_count": 23,
   "id": "5f4bbc03",
   "metadata": {},
   "outputs": [
    {
     "name": "stdout",
     "output_type": "stream",
     "text": [
      "DataFrame final:\n",
      "   Indice_Original  ID  Valor Extra\n",
      "0                0   1     10     a\n",
      "2                2   3     30     c\n"
     ]
    }
   ],
   "source": [
    "import pandas as pd\n",
    "\n",
    "# Crear los DataFrames\n",
    "df1 = pd.DataFrame({'ID': [1, 2, 3], 'Valor': [10, 20, 30]})\n",
    "df2 = pd.DataFrame({'Extra': ['a', 'b', 'c']})\n",
    "\n",
    "# Paso 1: Convertir el índice de df1 en una columna\n",
    "df1 = df1.reset_index().rename(columns={'index': 'Indice_Original'})\n",
    "\n",
    "# Paso 2: Concatenar horizontalmente df2\n",
    "resultado = pd.concat([df1, df2], axis=1)\n",
    "\n",
    "# Paso 3: Eliminar una fila por índice (eliminaremos la fila con índice 1)\n",
    "resultado = resultado.drop(1)\n",
    "\n",
    "print(\"DataFrame final:\")\n",
    "print(resultado)"
   ]
  },
  {
   "cell_type": "markdown",
   "id": "99f19bbd",
   "metadata": {},
   "source": [
    "Ejercicio Pandas-17. \n",
    "Lee un CSV desde un string con separador ; y sin cabecera, asigna nombres a las columnas, cambia el tipo de una columna a category y filtra por valores que están en una lista from io import StringIO csv_data = \"\"\"Ana;25;MadridLuis;30;BarcelonaJuan;22;SevillaMaria;28;Madrid\"\"\""
   ]
  },
  {
   "cell_type": "code",
   "execution_count": 24,
   "id": "c7836927",
   "metadata": {},
   "outputs": [
    {
     "name": "stdout",
     "output_type": "stream",
     "text": [
      "DataFrame original:\n",
      "  Nombre  Edad     Ciudad\n",
      "0    Ana    25     Madrid\n",
      "1   Luis    30  Barcelona\n",
      "2   Juan    22    Sevilla\n",
      "3  Maria    28     Madrid\n",
      "\n",
      "DataFrame filtrado:\n",
      "  Nombre  Edad   Ciudad\n",
      "0    Ana    25   Madrid\n",
      "2   Juan    22  Sevilla\n",
      "3  Maria    28   Madrid\n"
     ]
    }
   ],
   "source": [
    "import pandas as pd\n",
    "from io import StringIO\n",
    "\n",
    "# Paso 1: Corregir el formato del CSV insertando saltos de línea\n",
    "csv_data = \"\"\"Ana;25;MadridLuis;30;BarcelonaJuan;22;SevillaMaria;28;Madrid\"\"\"\n",
    "csv_corregido = csv_data.replace('MadridLuis', 'Madrid\\nLuis') \\\n",
    "                        .replace('BarcelonaJuan', 'Barcelona\\nJuan') \\\n",
    "                        .replace('SevillaMaria', 'Sevilla\\nMaria')\n",
    "\n",
    "# Paso 2: Leer el CSV corregido\n",
    "df = pd.read_csv(StringIO(csv_corregido), sep=';', header=None)\n",
    "\n",
    "# Paso 3: Asignar nombres a las columnas\n",
    "df.columns = ['Nombre', 'Edad', 'Ciudad']\n",
    "\n",
    "# Paso 4: Convertir 'Ciudad' a tipo category\n",
    "df['Ciudad'] = df['Ciudad'].astype('category')\n",
    "\n",
    "# Paso 5: Filtrar por ciudades en una lista específica\n",
    "ciudades_filtro = ['Madrid', 'Sevilla']\n",
    "df_filtrado = df[df['Ciudad'].isin(ciudades_filtro)]\n",
    "\n",
    "print(\"DataFrame original:\")\n",
    "print(df)\n",
    "print(\"\\nDataFrame filtrado:\")\n",
    "print(df_filtrado)"
   ]
  },
  {
   "cell_type": "markdown",
   "id": "096174b8",
   "metadata": {},
   "source": [
    "Ejercicio Pandas-18. \n",
    "Genera un DataFrame, ordena por columnas de forma descendente, crea un nuevo DataFrame con la media y suma agrupada por una columna, y escribe el resultado a un archivo Excel (en memoria con BytesIO).import io  df = pd.DataFrame({'Categoria': ['A', 'B', 'A', 'B', 'C'],'Valor': [10, 20, 15, 25, 30]})."
   ]
  },
  {
   "cell_type": "code",
   "execution_count": 2,
   "id": "14144ed8",
   "metadata": {},
   "outputs": [
    {
     "name": "stdout",
     "output_type": "stream",
     "text": [
      "Tamaño del archivo Excel: 5496 bytes\n"
     ]
    }
   ],
   "source": [
    "import pandas as pd\n",
    "import io\n",
    "\n",
    "# Paso 1: Crear el DataFrame\n",
    "df = pd.DataFrame({\n",
    "    'Categoria': ['A', 'B', 'A', 'B', 'C'],\n",
    "    'Valor': [10, 20, 15, 25, 30]\n",
    "})\n",
    "\n",
    "# Paso 2: Ordenar por columnas de forma descendente\n",
    "df_ordenado = df.sort_values(by=['Categoria', 'Valor'], ascending=False)\n",
    "\n",
    "# Paso 3: Agrupar por categoría y calcular estadísticas\n",
    "df_agrupado = df_ordenado.groupby('Categoria')['Valor'].agg(\n",
    "    Media='mean',\n",
    "    Suma='sum'\n",
    ").reset_index()\n",
    "\n",
    "# Paso 4: Escribir a Excel en memoria\n",
    "output = io.BytesIO()\n",
    "with pd.ExcelWriter(output, engine='xlsxwriter') as writer:\n",
    "    df_agrupado.to_excel(writer, sheet_name='Resultados', index=False)\n",
    "    \n",
    "# El archivo Excel está ahora en output.getvalue()\n",
    "excel_en_memoria = output.getvalue()\n",
    "\n",
    "# Verificar tamaño del archivo generado\n",
    "print(f\"Tamaño del archivo Excel: {len(excel_en_memoria)} bytes\")"
   ]
  },
  {
   "cell_type": "code",
   "execution_count": 3,
   "id": "1cb0207e",
   "metadata": {},
   "outputs": [],
   "source": [
    "with open('resultados.xlsx', 'wb') as f:\n",
    "    f.write(excel_en_memoria)"
   ]
  },
  {
   "cell_type": "markdown",
   "id": "7f095913",
   "metadata": {},
   "source": [
    "Ejercicio Pandas-19.\n",
    "Dado un DataFrame con fechas en formato string, convierte la columna a datetime, extrae el año, filtra los datos para un año específico y calcula el conteo de registros para cada mes.\n",
    "df = pd.DataFrame({'fecha': ['2020-01-05', '2020-02-15', '2021-01-10', '2020-03-22', '2021-04-30'],'valor': [10, 20, 30, 40, 50]})"
   ]
  },
  {
   "cell_type": "code",
   "execution_count": 4,
   "id": "b6660e66",
   "metadata": {},
   "outputs": [
    {
     "name": "stdout",
     "output_type": "stream",
     "text": [
      "Datos originales:\n",
      "       fecha  valor   año\n",
      "0 2020-01-05     10  2020\n",
      "1 2020-02-15     20  2020\n",
      "2 2021-01-10     30  2021\n",
      "3 2020-03-22     40  2020\n",
      "4 2021-04-30     50  2021\n",
      "\n",
      "Datos filtrados para 2020:\n",
      "       fecha  valor   año  mes\n",
      "0 2020-01-05     10  2020    1\n",
      "1 2020-02-15     20  2020    2\n",
      "3 2020-03-22     40  2020    3\n",
      "\n",
      "Conteo mensual de registros en 2020:\n",
      "   Mes  Conteo\n",
      "0    1       1\n",
      "1    2       1\n",
      "2    3       1\n"
     ]
    },
    {
     "name": "stderr",
     "output_type": "stream",
     "text": [
      "C:\\Users\\hecto\\AppData\\Local\\Temp\\ipykernel_6356\\3125310060.py:19: SettingWithCopyWarning: \n",
      "A value is trying to be set on a copy of a slice from a DataFrame.\n",
      "Try using .loc[row_indexer,col_indexer] = value instead\n",
      "\n",
      "See the caveats in the documentation: https://pandas.pydata.org/pandas-docs/stable/user_guide/indexing.html#returning-a-view-versus-a-copy\n",
      "  df_2020['mes'] = df_2020['fecha'].dt.month\n"
     ]
    }
   ],
   "source": [
    "import pandas as pd\n",
    "\n",
    "# Crear el DataFrame\n",
    "df = pd.DataFrame({\n",
    "    'fecha': ['2020-01-05', '2020-02-15', '2021-01-10', '2020-03-22', '2021-04-30'],\n",
    "    'valor': [10, 20, 30, 40, 50]\n",
    "})\n",
    "\n",
    "# Paso 1: Convertir a datetime\n",
    "df['fecha'] = pd.to_datetime(df['fecha'])\n",
    "\n",
    "# Paso 2: Extraer el año\n",
    "df['año'] = df['fecha'].dt.year\n",
    "\n",
    "# Paso 3: Filtrar por año específico (2020)\n",
    "df_2020 = df[df['año'] == 2020]\n",
    "\n",
    "# Paso 4: Extraer el mes de las fechas filtradas\n",
    "df_2020['mes'] = df_2020['fecha'].dt.month\n",
    "\n",
    "# Paso 5: Contar registros por mes\n",
    "conteo_mensual = df_2020['mes'].value_counts().sort_index().reset_index()\n",
    "conteo_mensual.columns = ['Mes', 'Conteo']\n",
    "\n",
    "print(\"Datos originales:\")\n",
    "print(df)\n",
    "print(\"\\nDatos filtrados para 2020:\")\n",
    "print(df_2020)\n",
    "print(\"\\nConteo mensual de registros en 2020:\")\n",
    "print(conteo_mensual)"
   ]
  },
  {
   "cell_type": "markdown",
   "id": "70912a5d",
   "metadata": {},
   "source": [
    "Ejercicio Pandas-20. \n",
    "Crea un DataFrame con columnas numéricas y una categórica, usa pivot_table para obtener la suma y el promedio agrupando por la columna categórica, y añade totales con margins=True, df = pd.DataFrame({'Categoria': ['X', 'Y', 'X', 'Y', 'Z'],'Valor1': [10, 20, 30, 40, 50],'Valor2': [1, 2, 3, 4, 5]})."
   ]
  },
  {
   "cell_type": "code",
   "execution_count": 5,
   "id": "323b0876",
   "metadata": {},
   "outputs": [
    {
     "name": "stdout",
     "output_type": "stream",
     "text": [
      "             sum          mean       \n",
      "          Valor1 Valor2 Valor1 Valor2\n",
      "Categoria                            \n",
      "X             40      4   20.0    2.0\n",
      "Y             60      6   30.0    3.0\n",
      "Z             50      5   50.0    5.0\n",
      "Total        150     15   30.0    3.0\n"
     ]
    }
   ],
   "source": [
    "import pandas as pd\n",
    "\n",
    "# Crear el DataFrame\n",
    "df = pd.DataFrame({\n",
    "    'Categoria': ['X', 'Y', 'X', 'Y', 'Z'],\n",
    "    'Valor1': [10, 20, 30, 40, 50],\n",
    "    'Valor2': [1, 2, 3, 4, 5]\n",
    "})\n",
    "\n",
    "# Crear tabla dinámica con suma y promedio, agrupando por 'Categoria'\n",
    "pivot = pd.pivot_table(\n",
    "    df,\n",
    "    index='Categoria',\n",
    "    values=['Valor1', 'Valor2'],\n",
    "    aggfunc=['sum', 'mean'],\n",
    "    margins=True,\n",
    "    margins_name='Total'  # Nombre personalizado para el total\n",
    ")\n",
    "\n",
    "# Mostrar la tabla\n",
    "print(pivot)\n"
   ]
  }
 ],
 "metadata": {
  "kernelspec": {
   "display_name": "Python 3",
   "language": "python",
   "name": "python3"
  },
  "language_info": {
   "codemirror_mode": {
    "name": "ipython",
    "version": 3
   },
   "file_extension": ".py",
   "mimetype": "text/x-python",
   "name": "python",
   "nbconvert_exporter": "python",
   "pygments_lexer": "ipython3",
   "version": "3.10.0"
  }
 },
 "nbformat": 4,
 "nbformat_minor": 5
}
