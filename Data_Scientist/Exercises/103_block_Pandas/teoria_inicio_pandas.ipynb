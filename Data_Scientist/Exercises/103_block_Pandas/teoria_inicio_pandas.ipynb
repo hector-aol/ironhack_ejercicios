{
 "cells": [
  {
   "cell_type": "code",
   "execution_count": 3,
   "id": "c97c7225",
   "metadata": {},
   "outputs": [],
   "source": [
    "import pandas as pd"
   ]
  },
  {
   "cell_type": "markdown",
   "id": "d935d734",
   "metadata": {},
   "source": [
    "Ejercicio 1. Crear una serie de pandas de la siguiente variable.\n",
    "\n",
    "edades = [22,13,8,33,25,44,38,22]"
   ]
  },
  {
   "cell_type": "code",
   "execution_count": 1,
   "id": "271ea80c",
   "metadata": {},
   "outputs": [
    {
     "data": {
      "text/plain": [
       "[22, 13, 8, 33, 25, 44, 38, 22]"
      ]
     },
     "execution_count": 1,
     "metadata": {},
     "output_type": "execute_result"
    }
   ],
   "source": [
    "edades = [22,13,8,33,25,44,38,22]\n",
    "edades"
   ]
  },
  {
   "cell_type": "code",
   "execution_count": 4,
   "id": "83fd4ea9",
   "metadata": {},
   "outputs": [
    {
     "data": {
      "text/plain": [
       "0    22\n",
       "1    13\n",
       "2     8\n",
       "3    33\n",
       "4    25\n",
       "5    44\n",
       "6    38\n",
       "7    22\n",
       "dtype: int64"
      ]
     },
     "execution_count": 4,
     "metadata": {},
     "output_type": "execute_result"
    }
   ],
   "source": [
    "serie = pd.Series(edades)\n",
    "serie"
   ]
  },
  {
   "cell_type": "markdown",
   "id": "8862e552",
   "metadata": {},
   "source": [
    "Ejercicio 2.  Obtener los primeros 5 registros utilizando head."
   ]
  },
  {
   "cell_type": "code",
   "execution_count": 5,
   "id": "07f70130",
   "metadata": {},
   "outputs": [
    {
     "data": {
      "text/plain": [
       "0    22\n",
       "1    13\n",
       "2     8\n",
       "3    33\n",
       "4    25\n",
       "dtype: int64"
      ]
     },
     "execution_count": 5,
     "metadata": {},
     "output_type": "execute_result"
    }
   ],
   "source": [
    "serie.head()"
   ]
  },
  {
   "cell_type": "markdown",
   "id": "e7b12922",
   "metadata": {},
   "source": [
    "Obtener los ultimos 3 registros utilizando tail."
   ]
  },
  {
   "cell_type": "code",
   "execution_count": 8,
   "id": "d1dcbc60",
   "metadata": {},
   "outputs": [
    {
     "data": {
      "text/plain": [
       "5    44\n",
       "6    38\n",
       "7    22\n",
       "dtype: int64"
      ]
     },
     "execution_count": 8,
     "metadata": {},
     "output_type": "execute_result"
    }
   ],
   "source": [
    "serie.tail(3)"
   ]
  },
  {
   "cell_type": "markdown",
   "id": "47a0d8dd",
   "metadata": {},
   "source": [
    "Obtener el valor minimo de la serie"
   ]
  },
  {
   "cell_type": "code",
   "execution_count": 9,
   "id": "0c9f45af",
   "metadata": {},
   "outputs": [
    {
     "data": {
      "text/plain": [
       "np.int64(8)"
      ]
     },
     "execution_count": 9,
     "metadata": {},
     "output_type": "execute_result"
    }
   ],
   "source": [
    "serie.min()"
   ]
  },
  {
   "cell_type": "markdown",
   "id": "cd78a277",
   "metadata": {},
   "source": [
    "Obtener el valor maximo de la serie"
   ]
  },
  {
   "cell_type": "code",
   "execution_count": 10,
   "id": "0a1bd1cf",
   "metadata": {},
   "outputs": [
    {
     "data": {
      "text/plain": [
       "np.int64(44)"
      ]
     },
     "execution_count": 10,
     "metadata": {},
     "output_type": "execute_result"
    }
   ],
   "source": [
    "serie.max()"
   ]
  },
  {
   "cell_type": "markdown",
   "id": "15db1e08",
   "metadata": {},
   "source": [
    "Obtener el valor promedio de la serie"
   ]
  },
  {
   "cell_type": "code",
   "execution_count": 11,
   "id": "7c289945",
   "metadata": {},
   "outputs": [
    {
     "data": {
      "text/plain": [
       "np.float64(25.625)"
      ]
     },
     "execution_count": 11,
     "metadata": {},
     "output_type": "execute_result"
    }
   ],
   "source": [
    "serie.mean()"
   ]
  },
  {
   "cell_type": "markdown",
   "id": "ca6bd2a7",
   "metadata": {},
   "source": [
    "Ejercicio 4. Obtener el valor en la segunda posicion de la serie."
   ]
  },
  {
   "cell_type": "code",
   "execution_count": 12,
   "id": "b99b1cfc",
   "metadata": {},
   "outputs": [
    {
     "data": {
      "text/plain": [
       "np.int64(13)"
      ]
     },
     "execution_count": 12,
     "metadata": {},
     "output_type": "execute_result"
    }
   ],
   "source": [
    "serie[1]"
   ]
  },
  {
   "cell_type": "code",
   "execution_count": 14,
   "id": "563c87d2",
   "metadata": {},
   "outputs": [
    {
     "data": {
      "text/plain": [
       "np.int64(13)"
      ]
     },
     "execution_count": 14,
     "metadata": {},
     "output_type": "execute_result"
    }
   ],
   "source": [
    "serie.get(1)"
   ]
  },
  {
   "cell_type": "markdown",
   "id": "5a9599ae",
   "metadata": {},
   "source": [
    "Ejercicio 5. Obtener los registros que tengan un valor igual a 22"
   ]
  },
  {
   "cell_type": "code",
   "execution_count": 15,
   "id": "dcb8a75f",
   "metadata": {},
   "outputs": [
    {
     "data": {
      "text/plain": [
       "0     True\n",
       "1    False\n",
       "2    False\n",
       "3    False\n",
       "4    False\n",
       "5    False\n",
       "6    False\n",
       "7     True\n",
       "dtype: bool"
      ]
     },
     "execution_count": 15,
     "metadata": {},
     "output_type": "execute_result"
    }
   ],
   "source": [
    "serie == 22"
   ]
  },
  {
   "cell_type": "code",
   "execution_count": 16,
   "id": "6bb8a0e9",
   "metadata": {},
   "outputs": [
    {
     "data": {
      "text/plain": [
       "0    22\n",
       "7    22\n",
       "dtype: int64"
      ]
     },
     "execution_count": 16,
     "metadata": {},
     "output_type": "execute_result"
    }
   ],
   "source": [
    "serie[serie==22]"
   ]
  },
  {
   "cell_type": "markdown",
   "id": "336ddac5",
   "metadata": {},
   "source": [
    "Ejercicio 6. Crear una segunda serie utilizando los siguientes datos:\n",
    "edades2=[23,15,12,25,20,50,31,2]"
   ]
  },
  {
   "cell_type": "code",
   "execution_count": 23,
   "id": "63f94b4b",
   "metadata": {},
   "outputs": [
    {
     "data": {
      "text/plain": [
       "[23, 15, 12, 25, 20, 50, 31, 2]"
      ]
     },
     "execution_count": 23,
     "metadata": {},
     "output_type": "execute_result"
    }
   ],
   "source": [
    "edades2=[23,15,12,25,20,50,31,2]\n",
    "edades2"
   ]
  },
  {
   "cell_type": "code",
   "execution_count": 24,
   "id": "a2adb0b9",
   "metadata": {},
   "outputs": [
    {
     "data": {
      "text/plain": [
       "0    23\n",
       "1    15\n",
       "2    12\n",
       "3    25\n",
       "4    20\n",
       "5    50\n",
       "6    31\n",
       "7     2\n",
       "dtype: int64"
      ]
     },
     "execution_count": 24,
     "metadata": {},
     "output_type": "execute_result"
    }
   ],
   "source": [
    "serie2=pd.Series(edades2)\n",
    "serie2"
   ]
  },
  {
   "cell_type": "markdown",
   "id": "9e029a23",
   "metadata": {},
   "source": [
    "Sumar ambas series"
   ]
  },
  {
   "cell_type": "code",
   "execution_count": 21,
   "id": "c9039944",
   "metadata": {},
   "outputs": [
    {
     "data": {
      "text/plain": [
       "0    45\n",
       "1    28\n",
       "2    20\n",
       "3    58\n",
       "4    45\n",
       "5    94\n",
       "6    69\n",
       "7    24\n",
       "dtype: int64"
      ]
     },
     "execution_count": 21,
     "metadata": {},
     "output_type": "execute_result"
    }
   ],
   "source": [
    "serie + serie2"
   ]
  },
  {
   "cell_type": "code",
   "execution_count": 25,
   "id": "b27cb8e0",
   "metadata": {},
   "outputs": [
    {
     "data": {
      "text/plain": [
       "[22, 13, 8, 33, 25, 44, 38, 22, 23, 15, 12, 25, 20, 50, 31, 2]"
      ]
     },
     "execution_count": 25,
     "metadata": {},
     "output_type": "execute_result"
    }
   ],
   "source": [
    "edades + edades2"
   ]
  },
  {
   "cell_type": "code",
   "execution_count": 28,
   "id": "910341de",
   "metadata": {},
   "outputs": [
    {
     "data": {
      "text/plain": [
       "[2]"
      ]
     },
     "execution_count": 28,
     "metadata": {},
     "output_type": "execute_result"
    }
   ],
   "source": [
    "edades3=[2]\n",
    "edades3"
   ]
  },
  {
   "cell_type": "code",
   "execution_count": 29,
   "id": "685bd4c1",
   "metadata": {},
   "outputs": [
    {
     "data": {
      "text/plain": [
       "0    2\n",
       "dtype: int64"
      ]
     },
     "execution_count": 29,
     "metadata": {},
     "output_type": "execute_result"
    }
   ],
   "source": [
    "serie3 = pd.Series(edades3)\n",
    "serie3"
   ]
  },
  {
   "cell_type": "code",
   "execution_count": 30,
   "id": "6457be1d",
   "metadata": {},
   "outputs": [
    {
     "data": {
      "text/plain": [
       "0    24.0\n",
       "1     NaN\n",
       "2     NaN\n",
       "3     NaN\n",
       "4     NaN\n",
       "5     NaN\n",
       "6     NaN\n",
       "7     NaN\n",
       "dtype: float64"
      ]
     },
     "execution_count": 30,
     "metadata": {},
     "output_type": "execute_result"
    }
   ],
   "source": [
    "serie3 + serie"
   ]
  },
  {
   "cell_type": "markdown",
   "id": "6cc5f1f8",
   "metadata": {},
   "source": [
    "Ejercicio 7. Re-ordenar la serie anterior invirtiendo los indices con sort_index()"
   ]
  },
  {
   "cell_type": "code",
   "execution_count": 32,
   "id": "e2270e86",
   "metadata": {},
   "outputs": [
    {
     "data": {
      "text/plain": [
       "7     2\n",
       "6    31\n",
       "5    50\n",
       "4    20\n",
       "3    25\n",
       "2    12\n",
       "1    15\n",
       "0    23\n",
       "dtype: int64"
      ]
     },
     "execution_count": 32,
     "metadata": {},
     "output_type": "execute_result"
    }
   ],
   "source": [
    "serie2 = serie2.sort_index(ascending=False)\n",
    "serie2"
   ]
  },
  {
   "cell_type": "markdown",
   "id": "e08a64a8",
   "metadata": {},
   "source": [
    "Volver a sumar ambas series."
   ]
  },
  {
   "cell_type": "code",
   "execution_count": 33,
   "id": "87a76881",
   "metadata": {},
   "outputs": [
    {
     "data": {
      "text/plain": [
       "0    45\n",
       "1    28\n",
       "2    20\n",
       "3    58\n",
       "4    45\n",
       "5    94\n",
       "6    69\n",
       "7    24\n",
       "dtype: int64"
      ]
     },
     "execution_count": 33,
     "metadata": {},
     "output_type": "execute_result"
    }
   ],
   "source": [
    "serie + serie2"
   ]
  },
  {
   "cell_type": "markdown",
   "id": "e8603ebc",
   "metadata": {},
   "source": [
    "Ejercicio 8. Restar a todos los elementos de la primera serie 5 unidades."
   ]
  },
  {
   "cell_type": "code",
   "execution_count": 34,
   "id": "e06fabf4",
   "metadata": {},
   "outputs": [
    {
     "data": {
      "text/plain": [
       "0    17\n",
       "1     8\n",
       "2     3\n",
       "3    28\n",
       "4    20\n",
       "5    39\n",
       "6    33\n",
       "7    17\n",
       "dtype: int64"
      ]
     },
     "execution_count": 34,
     "metadata": {},
     "output_type": "execute_result"
    }
   ],
   "source": [
    "serie - 5"
   ]
  },
  {
   "cell_type": "markdown",
   "id": "db123c88",
   "metadata": {},
   "source": [
    "Ejercicio 9. Calcula el cuadrado de todos los valores en la serie utilizando map"
   ]
  },
  {
   "cell_type": "code",
   "execution_count": 35,
   "id": "b22aebd7",
   "metadata": {},
   "outputs": [
    {
     "data": {
      "text/plain": [
       "0     484\n",
       "1     169\n",
       "2      64\n",
       "3    1089\n",
       "4     625\n",
       "5    1936\n",
       "6    1444\n",
       "7     484\n",
       "dtype: int64"
      ]
     },
     "execution_count": 35,
     "metadata": {},
     "output_type": "execute_result"
    }
   ],
   "source": [
    "def cuadrado(x):\n",
    "    return x*x\n",
    "\n",
    "serie.map(cuadrado)"
   ]
  },
  {
   "cell_type": "markdown",
   "id": "c1487c7c",
   "metadata": {},
   "source": [
    "Ejercicio 10. Crea un DataFrame con pandas llamado \"paises\" utilizando el siguiente diccionario de datos."
   ]
  },
  {
   "cell_type": "code",
   "execution_count": 36,
   "id": "a96e885d",
   "metadata": {},
   "outputs": [],
   "source": [
    "datos = {\n",
    "    \"nombre\":       [\"Argentina\",\"Brasil\",\"Chile\",\"Colombia\",\"Ecuador\",\"Paraguay\",\"Peru\"],\n",
    "    \"capital\":      [\"Buenos Airea\",\"Brasilia\",\"Santiago de Chile\",\"Bogota\",\"Quito\",\"Asuncion\",\"Lima\"],\n",
    "    \"Poblacion\":    [45380000,212600000,19120000,50880000,17640000,7133000,32970000],\n",
    "    \"sup. en km2\":  [2780000,8516000,756950,1143000,283560,406752,1285216]\n",
    "}"
   ]
  },
  {
   "cell_type": "code",
   "execution_count": 38,
   "id": "ee2ba613",
   "metadata": {},
   "outputs": [],
   "source": [
    "paises = pd.DataFrame(datos)"
   ]
  },
  {
   "cell_type": "code",
   "execution_count": 39,
   "id": "961ddfb0",
   "metadata": {},
   "outputs": [
    {
     "data": {
      "text/html": [
       "<div>\n",
       "<style scoped>\n",
       "    .dataframe tbody tr th:only-of-type {\n",
       "        vertical-align: middle;\n",
       "    }\n",
       "\n",
       "    .dataframe tbody tr th {\n",
       "        vertical-align: top;\n",
       "    }\n",
       "\n",
       "    .dataframe thead th {\n",
       "        text-align: right;\n",
       "    }\n",
       "</style>\n",
       "<table border=\"1\" class=\"dataframe\">\n",
       "  <thead>\n",
       "    <tr style=\"text-align: right;\">\n",
       "      <th></th>\n",
       "      <th>nombre</th>\n",
       "      <th>capital</th>\n",
       "      <th>Poblacion</th>\n",
       "      <th>sup. en km2</th>\n",
       "    </tr>\n",
       "  </thead>\n",
       "  <tbody>\n",
       "    <tr>\n",
       "      <th>0</th>\n",
       "      <td>Argentina</td>\n",
       "      <td>Buenos Airea</td>\n",
       "      <td>45380000</td>\n",
       "      <td>2780000</td>\n",
       "    </tr>\n",
       "    <tr>\n",
       "      <th>1</th>\n",
       "      <td>Brasil</td>\n",
       "      <td>Brasilia</td>\n",
       "      <td>212600000</td>\n",
       "      <td>8516000</td>\n",
       "    </tr>\n",
       "    <tr>\n",
       "      <th>2</th>\n",
       "      <td>Chile</td>\n",
       "      <td>Santiago de Chile</td>\n",
       "      <td>19120000</td>\n",
       "      <td>756950</td>\n",
       "    </tr>\n",
       "    <tr>\n",
       "      <th>3</th>\n",
       "      <td>Colombia</td>\n",
       "      <td>Bogota</td>\n",
       "      <td>50880000</td>\n",
       "      <td>1143000</td>\n",
       "    </tr>\n",
       "    <tr>\n",
       "      <th>4</th>\n",
       "      <td>Ecuador</td>\n",
       "      <td>Quito</td>\n",
       "      <td>17640000</td>\n",
       "      <td>283560</td>\n",
       "    </tr>\n",
       "    <tr>\n",
       "      <th>5</th>\n",
       "      <td>Paraguay</td>\n",
       "      <td>Asuncion</td>\n",
       "      <td>7133000</td>\n",
       "      <td>406752</td>\n",
       "    </tr>\n",
       "    <tr>\n",
       "      <th>6</th>\n",
       "      <td>Peru</td>\n",
       "      <td>Lima</td>\n",
       "      <td>32970000</td>\n",
       "      <td>1285216</td>\n",
       "    </tr>\n",
       "  </tbody>\n",
       "</table>\n",
       "</div>"
      ],
      "text/plain": [
       "      nombre            capital  Poblacion  sup. en km2\n",
       "0  Argentina       Buenos Airea   45380000      2780000\n",
       "1     Brasil           Brasilia  212600000      8516000\n",
       "2      Chile  Santiago de Chile   19120000       756950\n",
       "3   Colombia             Bogota   50880000      1143000\n",
       "4    Ecuador              Quito   17640000       283560\n",
       "5   Paraguay           Asuncion    7133000       406752\n",
       "6       Peru               Lima   32970000      1285216"
      ]
     },
     "execution_count": 39,
     "metadata": {},
     "output_type": "execute_result"
    }
   ],
   "source": [
    "paises"
   ]
  },
  {
   "cell_type": "markdown",
   "id": "c47ed2f1",
   "metadata": {},
   "source": [
    "Ejercicio 11. Visualizar los primeros 5 y los ultimos 3 elementos del DataFrame anterior"
   ]
  },
  {
   "cell_type": "code",
   "execution_count": 40,
   "id": "0b087fd9",
   "metadata": {},
   "outputs": [
    {
     "data": {
      "text/html": [
       "<div>\n",
       "<style scoped>\n",
       "    .dataframe tbody tr th:only-of-type {\n",
       "        vertical-align: middle;\n",
       "    }\n",
       "\n",
       "    .dataframe tbody tr th {\n",
       "        vertical-align: top;\n",
       "    }\n",
       "\n",
       "    .dataframe thead th {\n",
       "        text-align: right;\n",
       "    }\n",
       "</style>\n",
       "<table border=\"1\" class=\"dataframe\">\n",
       "  <thead>\n",
       "    <tr style=\"text-align: right;\">\n",
       "      <th></th>\n",
       "      <th>nombre</th>\n",
       "      <th>capital</th>\n",
       "      <th>Poblacion</th>\n",
       "      <th>sup. en km2</th>\n",
       "    </tr>\n",
       "  </thead>\n",
       "  <tbody>\n",
       "    <tr>\n",
       "      <th>0</th>\n",
       "      <td>Argentina</td>\n",
       "      <td>Buenos Airea</td>\n",
       "      <td>45380000</td>\n",
       "      <td>2780000</td>\n",
       "    </tr>\n",
       "    <tr>\n",
       "      <th>1</th>\n",
       "      <td>Brasil</td>\n",
       "      <td>Brasilia</td>\n",
       "      <td>212600000</td>\n",
       "      <td>8516000</td>\n",
       "    </tr>\n",
       "    <tr>\n",
       "      <th>2</th>\n",
       "      <td>Chile</td>\n",
       "      <td>Santiago de Chile</td>\n",
       "      <td>19120000</td>\n",
       "      <td>756950</td>\n",
       "    </tr>\n",
       "    <tr>\n",
       "      <th>3</th>\n",
       "      <td>Colombia</td>\n",
       "      <td>Bogota</td>\n",
       "      <td>50880000</td>\n",
       "      <td>1143000</td>\n",
       "    </tr>\n",
       "    <tr>\n",
       "      <th>4</th>\n",
       "      <td>Ecuador</td>\n",
       "      <td>Quito</td>\n",
       "      <td>17640000</td>\n",
       "      <td>283560</td>\n",
       "    </tr>\n",
       "  </tbody>\n",
       "</table>\n",
       "</div>"
      ],
      "text/plain": [
       "      nombre            capital  Poblacion  sup. en km2\n",
       "0  Argentina       Buenos Airea   45380000      2780000\n",
       "1     Brasil           Brasilia  212600000      8516000\n",
       "2      Chile  Santiago de Chile   19120000       756950\n",
       "3   Colombia             Bogota   50880000      1143000\n",
       "4    Ecuador              Quito   17640000       283560"
      ]
     },
     "execution_count": 40,
     "metadata": {},
     "output_type": "execute_result"
    }
   ],
   "source": [
    "paises.head()"
   ]
  },
  {
   "cell_type": "code",
   "execution_count": 41,
   "id": "34fb52b6",
   "metadata": {},
   "outputs": [
    {
     "data": {
      "text/html": [
       "<div>\n",
       "<style scoped>\n",
       "    .dataframe tbody tr th:only-of-type {\n",
       "        vertical-align: middle;\n",
       "    }\n",
       "\n",
       "    .dataframe tbody tr th {\n",
       "        vertical-align: top;\n",
       "    }\n",
       "\n",
       "    .dataframe thead th {\n",
       "        text-align: right;\n",
       "    }\n",
       "</style>\n",
       "<table border=\"1\" class=\"dataframe\">\n",
       "  <thead>\n",
       "    <tr style=\"text-align: right;\">\n",
       "      <th></th>\n",
       "      <th>nombre</th>\n",
       "      <th>capital</th>\n",
       "      <th>Poblacion</th>\n",
       "      <th>sup. en km2</th>\n",
       "    </tr>\n",
       "  </thead>\n",
       "  <tbody>\n",
       "    <tr>\n",
       "      <th>4</th>\n",
       "      <td>Ecuador</td>\n",
       "      <td>Quito</td>\n",
       "      <td>17640000</td>\n",
       "      <td>283560</td>\n",
       "    </tr>\n",
       "    <tr>\n",
       "      <th>5</th>\n",
       "      <td>Paraguay</td>\n",
       "      <td>Asuncion</td>\n",
       "      <td>7133000</td>\n",
       "      <td>406752</td>\n",
       "    </tr>\n",
       "    <tr>\n",
       "      <th>6</th>\n",
       "      <td>Peru</td>\n",
       "      <td>Lima</td>\n",
       "      <td>32970000</td>\n",
       "      <td>1285216</td>\n",
       "    </tr>\n",
       "  </tbody>\n",
       "</table>\n",
       "</div>"
      ],
      "text/plain": [
       "     nombre   capital  Poblacion  sup. en km2\n",
       "4   Ecuador     Quito   17640000       283560\n",
       "5  Paraguay  Asuncion    7133000       406752\n",
       "6      Peru      Lima   32970000      1285216"
      ]
     },
     "execution_count": 41,
     "metadata": {},
     "output_type": "execute_result"
    }
   ],
   "source": [
    "paises.tail(3)"
   ]
  },
  {
   "cell_type": "code",
   "execution_count": 45,
   "id": "b0dd7168",
   "metadata": {},
   "outputs": [
    {
     "data": {
      "text/html": [
       "<div>\n",
       "<style scoped>\n",
       "    .dataframe tbody tr th:only-of-type {\n",
       "        vertical-align: middle;\n",
       "    }\n",
       "\n",
       "    .dataframe tbody tr th {\n",
       "        vertical-align: top;\n",
       "    }\n",
       "\n",
       "    .dataframe thead th {\n",
       "        text-align: right;\n",
       "    }\n",
       "</style>\n",
       "<table border=\"1\" class=\"dataframe\">\n",
       "  <thead>\n",
       "    <tr style=\"text-align: right;\">\n",
       "      <th></th>\n",
       "      <th>nombre</th>\n",
       "      <th>capital</th>\n",
       "      <th>Poblacion</th>\n",
       "      <th>sup. en km2</th>\n",
       "    </tr>\n",
       "  </thead>\n",
       "  <tbody>\n",
       "    <tr>\n",
       "      <th>4</th>\n",
       "      <td>Ecuador</td>\n",
       "      <td>Quito</td>\n",
       "      <td>17640000</td>\n",
       "      <td>283560</td>\n",
       "    </tr>\n",
       "    <tr>\n",
       "      <th>5</th>\n",
       "      <td>Paraguay</td>\n",
       "      <td>Asuncion</td>\n",
       "      <td>7133000</td>\n",
       "      <td>406752</td>\n",
       "    </tr>\n",
       "    <tr>\n",
       "      <th>6</th>\n",
       "      <td>Peru</td>\n",
       "      <td>Lima</td>\n",
       "      <td>32970000</td>\n",
       "      <td>1285216</td>\n",
       "    </tr>\n",
       "  </tbody>\n",
       "</table>\n",
       "</div>"
      ],
      "text/plain": [
       "     nombre   capital  Poblacion  sup. en km2\n",
       "4   Ecuador     Quito   17640000       283560\n",
       "5  Paraguay  Asuncion    7133000       406752\n",
       "6      Peru      Lima   32970000      1285216"
      ]
     },
     "execution_count": 45,
     "metadata": {},
     "output_type": "execute_result"
    }
   ],
   "source": [
    "paises[4:7]"
   ]
  },
  {
   "cell_type": "markdown",
   "id": "ffaa8dd3",
   "metadata": {},
   "source": [
    "Ejercicio 12. Crear un DataFrame utilizando el diccionario anterior de datos unicamente con las columnas nombre y problacion."
   ]
  },
  {
   "cell_type": "code",
   "execution_count": 46,
   "id": "ee2db4e1",
   "metadata": {},
   "outputs": [
    {
     "data": {
      "text/html": [
       "<div>\n",
       "<style scoped>\n",
       "    .dataframe tbody tr th:only-of-type {\n",
       "        vertical-align: middle;\n",
       "    }\n",
       "\n",
       "    .dataframe tbody tr th {\n",
       "        vertical-align: top;\n",
       "    }\n",
       "\n",
       "    .dataframe thead th {\n",
       "        text-align: right;\n",
       "    }\n",
       "</style>\n",
       "<table border=\"1\" class=\"dataframe\">\n",
       "  <thead>\n",
       "    <tr style=\"text-align: right;\">\n",
       "      <th></th>\n",
       "      <th>nombre</th>\n",
       "      <th>capital</th>\n",
       "      <th>Poblacion</th>\n",
       "      <th>sup. en km2</th>\n",
       "    </tr>\n",
       "  </thead>\n",
       "  <tbody>\n",
       "    <tr>\n",
       "      <th>0</th>\n",
       "      <td>Argentina</td>\n",
       "      <td>Buenos Airea</td>\n",
       "      <td>45380000</td>\n",
       "      <td>2780000</td>\n",
       "    </tr>\n",
       "    <tr>\n",
       "      <th>1</th>\n",
       "      <td>Brasil</td>\n",
       "      <td>Brasilia</td>\n",
       "      <td>212600000</td>\n",
       "      <td>8516000</td>\n",
       "    </tr>\n",
       "    <tr>\n",
       "      <th>2</th>\n",
       "      <td>Chile</td>\n",
       "      <td>Santiago de Chile</td>\n",
       "      <td>19120000</td>\n",
       "      <td>756950</td>\n",
       "    </tr>\n",
       "    <tr>\n",
       "      <th>3</th>\n",
       "      <td>Colombia</td>\n",
       "      <td>Bogota</td>\n",
       "      <td>50880000</td>\n",
       "      <td>1143000</td>\n",
       "    </tr>\n",
       "    <tr>\n",
       "      <th>4</th>\n",
       "      <td>Ecuador</td>\n",
       "      <td>Quito</td>\n",
       "      <td>17640000</td>\n",
       "      <td>283560</td>\n",
       "    </tr>\n",
       "    <tr>\n",
       "      <th>5</th>\n",
       "      <td>Paraguay</td>\n",
       "      <td>Asuncion</td>\n",
       "      <td>7133000</td>\n",
       "      <td>406752</td>\n",
       "    </tr>\n",
       "    <tr>\n",
       "      <th>6</th>\n",
       "      <td>Peru</td>\n",
       "      <td>Lima</td>\n",
       "      <td>32970000</td>\n",
       "      <td>1285216</td>\n",
       "    </tr>\n",
       "  </tbody>\n",
       "</table>\n",
       "</div>"
      ],
      "text/plain": [
       "      nombre            capital  Poblacion  sup. en km2\n",
       "0  Argentina       Buenos Airea   45380000      2780000\n",
       "1     Brasil           Brasilia  212600000      8516000\n",
       "2      Chile  Santiago de Chile   19120000       756950\n",
       "3   Colombia             Bogota   50880000      1143000\n",
       "4    Ecuador              Quito   17640000       283560\n",
       "5   Paraguay           Asuncion    7133000       406752\n",
       "6       Peru               Lima   32970000      1285216"
      ]
     },
     "execution_count": 46,
     "metadata": {},
     "output_type": "execute_result"
    }
   ],
   "source": [
    "paises"
   ]
  },
  {
   "cell_type": "code",
   "execution_count": 47,
   "id": "b4c2d5d7",
   "metadata": {},
   "outputs": [],
   "source": [
    "paises2 = pd.DataFrame(datos, columns=[\"nombre\",\"Poblacion\"] )"
   ]
  },
  {
   "cell_type": "code",
   "execution_count": 48,
   "id": "04d1fff5",
   "metadata": {},
   "outputs": [
    {
     "data": {
      "text/html": [
       "<div>\n",
       "<style scoped>\n",
       "    .dataframe tbody tr th:only-of-type {\n",
       "        vertical-align: middle;\n",
       "    }\n",
       "\n",
       "    .dataframe tbody tr th {\n",
       "        vertical-align: top;\n",
       "    }\n",
       "\n",
       "    .dataframe thead th {\n",
       "        text-align: right;\n",
       "    }\n",
       "</style>\n",
       "<table border=\"1\" class=\"dataframe\">\n",
       "  <thead>\n",
       "    <tr style=\"text-align: right;\">\n",
       "      <th></th>\n",
       "      <th>nombre</th>\n",
       "      <th>Poblacion</th>\n",
       "    </tr>\n",
       "  </thead>\n",
       "  <tbody>\n",
       "    <tr>\n",
       "      <th>0</th>\n",
       "      <td>Argentina</td>\n",
       "      <td>45380000</td>\n",
       "    </tr>\n",
       "    <tr>\n",
       "      <th>1</th>\n",
       "      <td>Brasil</td>\n",
       "      <td>212600000</td>\n",
       "    </tr>\n",
       "    <tr>\n",
       "      <th>2</th>\n",
       "      <td>Chile</td>\n",
       "      <td>19120000</td>\n",
       "    </tr>\n",
       "    <tr>\n",
       "      <th>3</th>\n",
       "      <td>Colombia</td>\n",
       "      <td>50880000</td>\n",
       "    </tr>\n",
       "    <tr>\n",
       "      <th>4</th>\n",
       "      <td>Ecuador</td>\n",
       "      <td>17640000</td>\n",
       "    </tr>\n",
       "    <tr>\n",
       "      <th>5</th>\n",
       "      <td>Paraguay</td>\n",
       "      <td>7133000</td>\n",
       "    </tr>\n",
       "    <tr>\n",
       "      <th>6</th>\n",
       "      <td>Peru</td>\n",
       "      <td>32970000</td>\n",
       "    </tr>\n",
       "  </tbody>\n",
       "</table>\n",
       "</div>"
      ],
      "text/plain": [
       "      nombre  Poblacion\n",
       "0  Argentina   45380000\n",
       "1     Brasil  212600000\n",
       "2      Chile   19120000\n",
       "3   Colombia   50880000\n",
       "4    Ecuador   17640000\n",
       "5   Paraguay    7133000\n",
       "6       Peru   32970000"
      ]
     },
     "execution_count": 48,
     "metadata": {},
     "output_type": "execute_result"
    }
   ],
   "source": [
    "paises2"
   ]
  },
  {
   "cell_type": "markdown",
   "id": "b541a94f",
   "metadata": {},
   "source": [
    "Ejercicio 13. Crear un DataFrame utilizando el diccionario de datos con la columna \"nombre\" como indice:"
   ]
  },
  {
   "cell_type": "code",
   "execution_count": 49,
   "id": "9a9199a9",
   "metadata": {},
   "outputs": [],
   "source": [
    "paises3 = pd.DataFrame(datos, index=datos[\"nombre\"])"
   ]
  },
  {
   "cell_type": "code",
   "execution_count": 50,
   "id": "7673a5aa",
   "metadata": {},
   "outputs": [
    {
     "data": {
      "text/html": [
       "<div>\n",
       "<style scoped>\n",
       "    .dataframe tbody tr th:only-of-type {\n",
       "        vertical-align: middle;\n",
       "    }\n",
       "\n",
       "    .dataframe tbody tr th {\n",
       "        vertical-align: top;\n",
       "    }\n",
       "\n",
       "    .dataframe thead th {\n",
       "        text-align: right;\n",
       "    }\n",
       "</style>\n",
       "<table border=\"1\" class=\"dataframe\">\n",
       "  <thead>\n",
       "    <tr style=\"text-align: right;\">\n",
       "      <th></th>\n",
       "      <th>nombre</th>\n",
       "      <th>capital</th>\n",
       "      <th>Poblacion</th>\n",
       "      <th>sup. en km2</th>\n",
       "    </tr>\n",
       "  </thead>\n",
       "  <tbody>\n",
       "    <tr>\n",
       "      <th>Argentina</th>\n",
       "      <td>Argentina</td>\n",
       "      <td>Buenos Airea</td>\n",
       "      <td>45380000</td>\n",
       "      <td>2780000</td>\n",
       "    </tr>\n",
       "    <tr>\n",
       "      <th>Brasil</th>\n",
       "      <td>Brasil</td>\n",
       "      <td>Brasilia</td>\n",
       "      <td>212600000</td>\n",
       "      <td>8516000</td>\n",
       "    </tr>\n",
       "    <tr>\n",
       "      <th>Chile</th>\n",
       "      <td>Chile</td>\n",
       "      <td>Santiago de Chile</td>\n",
       "      <td>19120000</td>\n",
       "      <td>756950</td>\n",
       "    </tr>\n",
       "    <tr>\n",
       "      <th>Colombia</th>\n",
       "      <td>Colombia</td>\n",
       "      <td>Bogota</td>\n",
       "      <td>50880000</td>\n",
       "      <td>1143000</td>\n",
       "    </tr>\n",
       "    <tr>\n",
       "      <th>Ecuador</th>\n",
       "      <td>Ecuador</td>\n",
       "      <td>Quito</td>\n",
       "      <td>17640000</td>\n",
       "      <td>283560</td>\n",
       "    </tr>\n",
       "    <tr>\n",
       "      <th>Paraguay</th>\n",
       "      <td>Paraguay</td>\n",
       "      <td>Asuncion</td>\n",
       "      <td>7133000</td>\n",
       "      <td>406752</td>\n",
       "    </tr>\n",
       "    <tr>\n",
       "      <th>Peru</th>\n",
       "      <td>Peru</td>\n",
       "      <td>Lima</td>\n",
       "      <td>32970000</td>\n",
       "      <td>1285216</td>\n",
       "    </tr>\n",
       "  </tbody>\n",
       "</table>\n",
       "</div>"
      ],
      "text/plain": [
       "              nombre            capital  Poblacion  sup. en km2\n",
       "Argentina  Argentina       Buenos Airea   45380000      2780000\n",
       "Brasil        Brasil           Brasilia  212600000      8516000\n",
       "Chile          Chile  Santiago de Chile   19120000       756950\n",
       "Colombia    Colombia             Bogota   50880000      1143000\n",
       "Ecuador      Ecuador              Quito   17640000       283560\n",
       "Paraguay    Paraguay           Asuncion    7133000       406752\n",
       "Peru            Peru               Lima   32970000      1285216"
      ]
     },
     "execution_count": 50,
     "metadata": {},
     "output_type": "execute_result"
    }
   ],
   "source": [
    "paises3"
   ]
  },
  {
   "cell_type": "code",
   "execution_count": 52,
   "id": "c501f1eb",
   "metadata": {},
   "outputs": [
    {
     "data": {
      "text/html": [
       "<div>\n",
       "<style scoped>\n",
       "    .dataframe tbody tr th:only-of-type {\n",
       "        vertical-align: middle;\n",
       "    }\n",
       "\n",
       "    .dataframe tbody tr th {\n",
       "        vertical-align: top;\n",
       "    }\n",
       "\n",
       "    .dataframe thead th {\n",
       "        text-align: right;\n",
       "    }\n",
       "</style>\n",
       "<table border=\"1\" class=\"dataframe\">\n",
       "  <thead>\n",
       "    <tr style=\"text-align: right;\">\n",
       "      <th></th>\n",
       "      <th>capital</th>\n",
       "      <th>Poblacion</th>\n",
       "    </tr>\n",
       "  </thead>\n",
       "  <tbody>\n",
       "    <tr>\n",
       "      <th>Argentina</th>\n",
       "      <td>Buenos Airea</td>\n",
       "      <td>45380000</td>\n",
       "    </tr>\n",
       "    <tr>\n",
       "      <th>Brasil</th>\n",
       "      <td>Brasilia</td>\n",
       "      <td>212600000</td>\n",
       "    </tr>\n",
       "    <tr>\n",
       "      <th>Chile</th>\n",
       "      <td>Santiago de Chile</td>\n",
       "      <td>19120000</td>\n",
       "    </tr>\n",
       "    <tr>\n",
       "      <th>Colombia</th>\n",
       "      <td>Bogota</td>\n",
       "      <td>50880000</td>\n",
       "    </tr>\n",
       "    <tr>\n",
       "      <th>Ecuador</th>\n",
       "      <td>Quito</td>\n",
       "      <td>17640000</td>\n",
       "    </tr>\n",
       "    <tr>\n",
       "      <th>Paraguay</th>\n",
       "      <td>Asuncion</td>\n",
       "      <td>7133000</td>\n",
       "    </tr>\n",
       "    <tr>\n",
       "      <th>Peru</th>\n",
       "      <td>Lima</td>\n",
       "      <td>32970000</td>\n",
       "    </tr>\n",
       "  </tbody>\n",
       "</table>\n",
       "</div>"
      ],
      "text/plain": [
       "                     capital  Poblacion\n",
       "Argentina       Buenos Airea   45380000\n",
       "Brasil              Brasilia  212600000\n",
       "Chile      Santiago de Chile   19120000\n",
       "Colombia              Bogota   50880000\n",
       "Ecuador                Quito   17640000\n",
       "Paraguay            Asuncion    7133000\n",
       "Peru                    Lima   32970000"
      ]
     },
     "execution_count": 52,
     "metadata": {},
     "output_type": "execute_result"
    }
   ],
   "source": [
    "paises3 = pd.DataFrame(datos, index=datos[\"nombre\"], columns=[\"capital\", \"Poblacion\"])\n",
    "paises3"
   ]
  },
  {
   "cell_type": "markdown",
   "id": "a4553b75",
   "metadata": {},
   "source": [
    "Ejercicio 14. Obtener los datos de la fila con el indice \"Argentina\""
   ]
  },
  {
   "cell_type": "code",
   "execution_count": 53,
   "id": "d1d5ad19",
   "metadata": {},
   "outputs": [
    {
     "data": {
      "text/plain": [
       "capital      Buenos Airea\n",
       "Poblacion        45380000\n",
       "Name: Argentina, dtype: object"
      ]
     },
     "execution_count": 53,
     "metadata": {},
     "output_type": "execute_result"
    }
   ],
   "source": [
    "paises3.loc[\"Argentina\"]"
   ]
  },
  {
   "cell_type": "markdown",
   "id": "bc740bb3",
   "metadata": {},
   "source": [
    "Ejercicio 15. Obtener la poblacion y capital de Argentina y Brasil utilizando la funcion loc."
   ]
  },
  {
   "cell_type": "code",
   "execution_count": 54,
   "id": "61bc9efe",
   "metadata": {},
   "outputs": [
    {
     "data": {
      "text/html": [
       "<div>\n",
       "<style scoped>\n",
       "    .dataframe tbody tr th:only-of-type {\n",
       "        vertical-align: middle;\n",
       "    }\n",
       "\n",
       "    .dataframe tbody tr th {\n",
       "        vertical-align: top;\n",
       "    }\n",
       "\n",
       "    .dataframe thead th {\n",
       "        text-align: right;\n",
       "    }\n",
       "</style>\n",
       "<table border=\"1\" class=\"dataframe\">\n",
       "  <thead>\n",
       "    <tr style=\"text-align: right;\">\n",
       "      <th></th>\n",
       "      <th>Poblacion</th>\n",
       "      <th>capital</th>\n",
       "    </tr>\n",
       "  </thead>\n",
       "  <tbody>\n",
       "    <tr>\n",
       "      <th>Argentina</th>\n",
       "      <td>45380000</td>\n",
       "      <td>Buenos Airea</td>\n",
       "    </tr>\n",
       "    <tr>\n",
       "      <th>Brasil</th>\n",
       "      <td>212600000</td>\n",
       "      <td>Brasilia</td>\n",
       "    </tr>\n",
       "  </tbody>\n",
       "</table>\n",
       "</div>"
      ],
      "text/plain": [
       "           Poblacion       capital\n",
       "Argentina   45380000  Buenos Airea\n",
       "Brasil     212600000      Brasilia"
      ]
     },
     "execution_count": 54,
     "metadata": {},
     "output_type": "execute_result"
    }
   ],
   "source": [
    "paises3.loc[[\"Argentina\",\"Brasil\"],[\"Poblacion\",\"capital\"]]"
   ]
  },
  {
   "cell_type": "markdown",
   "id": "553a6088",
   "metadata": {},
   "source": [
    "Ejercicio 16. Obtener la informacion de los paises con una superficie mayor a 1 000 000 de km cuadrados utilizando loc."
   ]
  }
 ],
 "metadata": {
  "kernelspec": {
   "display_name": "Python 3",
   "language": "python",
   "name": "python3"
  },
  "language_info": {
   "codemirror_mode": {
    "name": "ipython",
    "version": 3
   },
   "file_extension": ".py",
   "mimetype": "text/x-python",
   "name": "python",
   "nbconvert_exporter": "python",
   "pygments_lexer": "ipython3",
   "version": "3.10.0"
  }
 },
 "nbformat": 4,
 "nbformat_minor": 5
}
