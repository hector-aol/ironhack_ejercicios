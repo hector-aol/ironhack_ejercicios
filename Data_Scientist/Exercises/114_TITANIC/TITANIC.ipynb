{
 "cells": [
  {
   "cell_type": "code",
   "execution_count": 1,
   "id": "b67b8e53",
   "metadata": {},
   "outputs": [],
   "source": [
    "import pandas as pd\n",
    "\n",
    "# Desde URL\n",
    "# url = \"https://web.stanford.edu/class/archive/cs/cs109/cs109.1166/stuff/titanic.csv\"\n",
    "# df = pd.read_csv(url)\n",
    "\n",
    "# Desde archivo local\n",
    "ruta_local = r\"H:\\ironhack\\Data_Scientist\\ironhack_ejercicios\\Data_Scientist\\Exercises\\114_TITANIC\\titanic.csv\"\n",
    "df = pd.read_csv(ruta_local)\n",
    "\n",
    "# Desde Seaborn\n",
    "# !pip install seaborn\n",
    "# import seaborn as sns\n",
    "# df = sns.load_dataset('titanic')"
   ]
  }
 ],
 "metadata": {
  "kernelspec": {
   "display_name": "Python 3",
   "language": "python",
   "name": "python3"
  },
  "language_info": {
   "codemirror_mode": {
    "name": "ipython",
    "version": 3
   },
   "file_extension": ".py",
   "mimetype": "text/x-python",
   "name": "python",
   "nbconvert_exporter": "python",
   "pygments_lexer": "ipython3",
   "version": "3.10.0"
  }
 },
 "nbformat": 4,
 "nbformat_minor": 5
}
