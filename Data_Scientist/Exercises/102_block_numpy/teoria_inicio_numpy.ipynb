{
 "cells": [
  {
   "cell_type": "code",
   "execution_count": 16,
   "id": "ee5434a9",
   "metadata": {},
   "outputs": [
    {
     "name": "stdout",
     "output_type": "stream",
     "text": [
      "[[2, 3, 4], [3, 4, 5], [3, 4, 5], [3, 4, 5]]\n",
      "[[2 3 4]\n",
      " [3 4 5]\n",
      " [3 4 5]\n",
      " [3 4 5]]\n"
     ]
    },
    {
     "data": {
      "text/plain": [
       "(4, 3)"
      ]
     },
     "execution_count": 16,
     "metadata": {},
     "output_type": "execute_result"
    }
   ],
   "source": [
    "import numpy as np\n",
    "import matplotlib.pyplot as plt\n",
    "\n",
    "# EJERCICIO 1\n",
    "# import numpy\n",
    "\n",
    "# EJERCICIO 2\n",
    "lista = [31,28,29,19]\n",
    "# Crear un array utilizando la lista\n",
    "arr = np.array(lista)\n",
    "#print(arr)\n",
    "\n",
    "# EJERCICIO 3\n",
    "# Crear un ndarray utilizando una lista bi-dimensional\n",
    "lista_2d = [[2,3,4],\n",
    "            [3,4,5],\n",
    "            [3,4,5],\n",
    "            [3,4,5]]\n",
    "print(lista_2d)\n",
    "arr_2 = np.array(lista_2d)\n",
    "print(arr_2)\n",
    "\n",
    "# EJERCICIO 4\n",
    "# Utilizar la propiedad shape para obtener la forma del ndarray anterior.\n",
    "\n",
    "arr_2.shape"
   ]
  },
  {
   "cell_type": "code",
   "execution_count": 17,
   "id": "a6ae883e",
   "metadata": {},
   "outputs": [
    {
     "data": {
      "text/plain": [
       "2"
      ]
     },
     "execution_count": 17,
     "metadata": {},
     "output_type": "execute_result"
    }
   ],
   "source": [
    "# Utilizar la propiedad ndim para obtener las dimensiones del ndarray anterior\n",
    "arr_2.ndim"
   ]
  },
  {
   "cell_type": "code",
   "execution_count": 18,
   "id": "8b68f774",
   "metadata": {},
   "outputs": [
    {
     "data": {
      "text/plain": [
       "dtype('int64')"
      ]
     },
     "execution_count": 18,
     "metadata": {},
     "output_type": "execute_result"
    }
   ],
   "source": [
    "# Utilizar la propiedad dtype para obtener el tipo de los datos en el ndarray  \n",
    "arr_2.dtype"
   ]
  },
  {
   "cell_type": "code",
   "execution_count": 19,
   "id": "cd4c6e86",
   "metadata": {},
   "outputs": [
    {
     "data": {
      "text/plain": [
       "12"
      ]
     },
     "execution_count": 19,
     "metadata": {},
     "output_type": "execute_result"
    }
   ],
   "source": [
    "# Utilizar la propiedad size para obtener la cantidad total de datos en ndarray anterior.\n",
    "arr_2.size"
   ]
  },
  {
   "cell_type": "code",
   "execution_count": 20,
   "id": "108118a2",
   "metadata": {},
   "outputs": [
    {
     "data": {
      "text/plain": [
       "array([[2, 3, 4],\n",
       "       [3, 4, 5],\n",
       "       [3, 4, 5],\n",
       "       [3, 4, 5]], dtype=int16)"
      ]
     },
     "execution_count": 20,
     "metadata": {},
     "output_type": "execute_result"
    }
   ],
   "source": [
    "# EJERCICIO 5\n",
    "# Crear un ndarray utilizando la lista lista_2d, el tipo de los datos debe ser int16\n",
    "arr = np.array(lista_2d, dtype = np.int16)\n",
    "arr"
   ]
  },
  {
   "cell_type": "code",
   "execution_count": null,
   "id": "e5a72f8c",
   "metadata": {},
   "outputs": [
    {
     "data": {
      "text/plain": [
       "array([[0., 0.],\n",
       "       [0., 0.],\n",
       "       [0., 0.]])"
      ]
     },
     "execution_count": 21,
     "metadata": {},
     "output_type": "execute_result"
    }
   ],
   "source": [
    "# EJERCICIO 6\n",
    "# Utilizar la funcion np.zeros para crear un ndarray con la forma 3x2\n",
    "np.zeros((3,2))"
   ]
  },
  {
   "cell_type": "code",
   "execution_count": null,
   "id": "096929e1",
   "metadata": {},
   "outputs": [
    {
     "data": {
      "text/plain": [
       "array([[1., 1., 1.],\n",
       "       [1., 1., 1.],\n",
       "       [1., 1., 1.]])"
      ]
     },
     "execution_count": 22,
     "metadata": {},
     "output_type": "execute_result"
    }
   ],
   "source": [
    "# Utilizar la funcion np.ones para crear un ndarray con la forma 3x3\n",
    "np.ones((3,3))"
   ]
  },
  {
   "cell_type": "code",
   "execution_count": 23,
   "id": "c45c9b71",
   "metadata": {},
   "outputs": [
    {
     "data": {
      "text/plain": [
       "array([[0.000e+000, 0.000e+000, 0.000e+000, 0.000e+000],\n",
       "       [0.000e+000, 9.644e-321, 0.000e+000, 0.000e+000]])"
      ]
     },
     "execution_count": 23,
     "metadata": {},
     "output_type": "execute_result"
    }
   ],
   "source": [
    "# Utilizar la funcion np.empty para crear un ndarray con la forma 2x4\n",
    "np.empty((2,4))"
   ]
  },
  {
   "cell_type": "code",
   "execution_count": 25,
   "id": "9c2fd34d",
   "metadata": {},
   "outputs": [
    {
     "data": {
      "text/plain": [
       "array([0, 1, 2, 3, 4, 5, 6, 7, 8, 9])"
      ]
     },
     "execution_count": 25,
     "metadata": {},
     "output_type": "execute_result"
    }
   ],
   "source": [
    "# EJERCICIO 7\n",
    "# Crear un ndarray de 1 dimension con los valores del 0 al 9\n",
    "np.arange(10)\n"
   ]
  },
  {
   "cell_type": "code",
   "execution_count": 30,
   "id": "a53b3bf6",
   "metadata": {},
   "outputs": [
    {
     "data": {
      "text/plain": [
       "array([[0, 1, 2, 3, 4],\n",
       "       [5, 6, 7, 8, 9]])"
      ]
     },
     "execution_count": 30,
     "metadata": {},
     "output_type": "execute_result"
    }
   ],
   "source": [
    "# Crear un ndarray de 2 dimension con la forma 2x5, los valores deben ser del 0 al 9.\n",
    "np.arange(10).reshape(2,5)"
   ]
  },
  {
   "cell_type": "code",
   "execution_count": 31,
   "id": "6ade8e45",
   "metadata": {},
   "outputs": [
    {
     "data": {
      "text/plain": [
       "array([10, 12, 14, 16, 18])"
      ]
     },
     "execution_count": 31,
     "metadata": {},
     "output_type": "execute_result"
    }
   ],
   "source": [
    "# EJERCICIO 8\n",
    "# Utilizar np.arange para crear un ndarray con los valores del 10 al 20, deben ir de 2 en 2\n",
    "np.arange(10,20,2)"
   ]
  },
  {
   "cell_type": "code",
   "execution_count": 32,
   "id": "86cf5b97",
   "metadata": {},
   "outputs": [
    {
     "data": {
      "text/plain": [
       "array([10., 11., 12., 13., 14., 15., 16., 17., 18., 19., 20.])"
      ]
     },
     "execution_count": 32,
     "metadata": {},
     "output_type": "execute_result"
    }
   ],
   "source": [
    "# EJERCICIO 9\n",
    "# Utilizar np.linspace para crear un ndarray con los valores enteros entre el 10 al 20\n",
    "np.linspace(10,20,11)"
   ]
  },
  {
   "cell_type": "code",
   "execution_count": 34,
   "id": "5d792e11",
   "metadata": {},
   "outputs": [
    {
     "data": {
      "text/plain": [
       "array([0.        , 0.06346652, 0.12693304, 0.19039955, 0.25386607,\n",
       "       0.31733259, 0.38079911, 0.44426563, 0.50773215, 0.57119866,\n",
       "       0.63466518, 0.6981317 , 0.76159822, 0.82506474, 0.88853126,\n",
       "       0.95199777, 1.01546429, 1.07893081, 1.14239733, 1.20586385,\n",
       "       1.26933037, 1.33279688, 1.3962634 , 1.45972992, 1.52319644,\n",
       "       1.58666296, 1.65012947, 1.71359599, 1.77706251, 1.84052903,\n",
       "       1.90399555, 1.96746207, 2.03092858, 2.0943951 , 2.15786162,\n",
       "       2.22132814, 2.28479466, 2.34826118, 2.41172769, 2.47519421,\n",
       "       2.53866073, 2.60212725, 2.66559377, 2.72906028, 2.7925268 ,\n",
       "       2.85599332, 2.91945984, 2.98292636, 3.04639288, 3.10985939,\n",
       "       3.17332591, 3.23679243, 3.30025895, 3.36372547, 3.42719199,\n",
       "       3.4906585 , 3.55412502, 3.61759154, 3.68105806, 3.74452458,\n",
       "       3.8079911 , 3.87145761, 3.93492413, 3.99839065, 4.06185717,\n",
       "       4.12532369, 4.1887902 , 4.25225672, 4.31572324, 4.37918976,\n",
       "       4.44265628, 4.5061228 , 4.56958931, 4.63305583, 4.69652235,\n",
       "       4.75998887, 4.82345539, 4.88692191, 4.95038842, 5.01385494,\n",
       "       5.07732146, 5.14078798, 5.2042545 , 5.26772102, 5.33118753,\n",
       "       5.39465405, 5.45812057, 5.52158709, 5.58505361, 5.64852012,\n",
       "       5.71198664, 5.77545316, 5.83891968, 5.9023862 , 5.96585272,\n",
       "       6.02931923, 6.09278575, 6.15625227, 6.21971879, 6.28318531])"
      ]
     },
     "execution_count": 34,
     "metadata": {},
     "output_type": "execute_result"
    }
   ],
   "source": [
    "# EJERCICIO 10\n",
    "from numpy import pi\n",
    "rad = np.linspace(0,2*pi,100)\n",
    "# Utilizar np.linspace para crear un ndarray con 100 numeros entre el 0 y 2(pi)\n",
    "rad"
   ]
  },
  {
   "cell_type": "code",
   "execution_count": 36,
   "id": "3f1952f3",
   "metadata": {},
   "outputs": [
    {
     "data": {
      "image/png": "[encoded data removed]",
      "text/plain": [
       "<Figure size 640x480 with 1 Axes>"
      ]
     },
     "metadata": {},
     "output_type": "display_data"
    }
   ],
   "source": [
    "# Utilizar np.sin y np.cos para obtener los valores de seno y coseno en los puntos del array anterior\n",
    "seno = np.sin(rad)\n",
    "coseno = np.cos(rad)\n",
    "# utilizar plt.plot para graficar los valores de seno y coseno por separado.\n",
    "plt.plot(seno,coseno)\n",
    "plt.show()"
   ]
  },
  {
   "cell_type": "code",
   "execution_count": 37,
   "id": "d15b080e",
   "metadata": {},
   "outputs": [
    {
     "data": {
      "text/plain": [
       "[<matplotlib.lines.Line2D at 0x1987a002ec0>]"
      ]
     },
     "execution_count": 37,
     "metadata": {},
     "output_type": "execute_result"
    },
    {
     "data": {
      "image/png": "[encoded data removed]",
      "text/plain": [
       "<Figure size 640x480 with 1 Axes>"
      ]
     },
     "metadata": {},
     "output_type": "display_data"
    }
   ],
   "source": [
    "# EJERCICIO 11\n",
    "plt.plot(rad, seno)\n",
    "plt.plot(rad, coseno)"
   ]
  },
  {
   "cell_type": "code",
   "execution_count": 39,
   "id": "94f1067c",
   "metadata": {},
   "outputs": [
    {
     "name": "stdout",
     "output_type": "stream",
     "text": [
      "[10. 12. 14. 16. 18. 20.] [ 5.  9. 13. 17. 21. 25.] [15. 21. 27. 33. 39. 45.]\n"
     ]
    }
   ],
   "source": [
    "# Ejercicio 12\n",
    "a = np.linspace(10,20,6)\n",
    "b = np.linspace(5,25,6)\n",
    "c = a + b\n",
    "print(a,b,c)"
   ]
  },
  {
   "cell_type": "code",
   "execution_count": 40,
   "id": "c08e5ba4",
   "metadata": {},
   "outputs": [
    {
     "data": {
      "text/plain": [
       "array([10., 12., 14., 16., 18., 20.,  5.,  9., 13., 17., 21., 25.])"
      ]
     },
     "execution_count": 40,
     "metadata": {},
     "output_type": "execute_result"
    }
   ],
   "source": [
    "# Concatenar o unir los ndarray a y b  y guardarlos en f\n",
    "f = np.concatenate((a,b))\n",
    "f"
   ]
  },
  {
   "cell_type": "code",
   "execution_count": 41,
   "id": "109b8924",
   "metadata": {},
   "outputs": [
    {
     "data": {
      "text/plain": [
       "array([10., 12., 14., 16., 18., 20.,  5.,  9., 13., 17., 21., 25.])"
      ]
     },
     "execution_count": 41,
     "metadata": {},
     "output_type": "execute_result"
    }
   ],
   "source": [
    "# Ordenar los valores del ndarray en f\n",
    "f.sort\n",
    "f\n"
   ]
  },
  {
   "cell_type": "code",
   "execution_count": 45,
   "id": "ccdb3997",
   "metadata": {},
   "outputs": [
    {
     "data": {
      "text/plain": [
       "<function matplotlib.pyplot.show(close=None, block=None)>"
      ]
     },
     "execution_count": 45,
     "metadata": {},
     "output_type": "execute_result"
    },
    {
     "data": {
      "image/png": "[encoded data removed]",
      "text/plain": [
       "<Figure size 640x480 with 1 Axes>"
      ]
     },
     "metadata": {},
     "output_type": "display_data"
    }
   ],
   "source": [
    "# Ejercicio 13\n",
    "# Utilizar rg.random para generar un ndarray de 1000 numeros aleatorios entre el 0 y 1\n",
    "rg = np.random.default_rng(2)\n",
    "aleatorio = rg.random(1000)\n",
    "plt.hist(aleatorio, bins = 100)\n",
    "plt.show"
   ]
  },
  {
   "cell_type": "code",
   "execution_count": 46,
   "id": "cb8a931d",
   "metadata": {},
   "outputs": [
    {
     "data": {
      "text/plain": [
       "array([13.51638928, 14.60947682,  6.23501862, ...,  3.56636798,\n",
       "        8.66660197, 12.61968552], shape=(100000,))"
      ]
     },
     "execution_count": 46,
     "metadata": {},
     "output_type": "execute_result"
    }
   ],
   "source": [
    "# EJERCICIO 14\n",
    "# Utilizar rg.normal para generar 100 000 valores aleatorios que sigan una distribucion normal.\n",
    "normal = rg.normal(10,5,100000)\n",
    "normal"
   ]
  },
  {
   "cell_type": "code",
   "execution_count": 47,
   "id": "2773d0ae",
   "metadata": {},
   "outputs": [
    {
     "data": {
      "image/png": "[encoded data removed]",
      "text/plain": [
       "<Figure size 640x480 with 1 Axes>"
      ]
     },
     "metadata": {},
     "output_type": "display_data"
    }
   ],
   "source": [
    "plt.hist(normal, bins = 1000)\n",
    "plt.show()"
   ]
  },
  {
   "cell_type": "code",
   "execution_count": null,
   "id": "f16f9095",
   "metadata": {},
   "outputs": [],
   "source": []
  },
  {
   "cell_type": "code",
   "execution_count": 50,
   "id": "a0b63756",
   "metadata": {},
   "outputs": [
    {
     "data": {
      "image/png": "[encoded data removed]",
      "text/plain": [
       "<Figure size 640x480 with 1 Axes>"
      ]
     },
     "metadata": {},
     "output_type": "display_data"
    }
   ],
   "source": [
    "#EJERCICIO 15\n",
    "#Utilizar rg.integers para generar 2000 numeros aleatorios enteros entre el 0 y el 9.\n",
    "enteros = rg.integers (20, size = 2000)\n",
    "enteros\n",
    "plt.hist(enteros)\n",
    "plt.show()"
   ]
  },
  {
   "cell_type": "code",
   "execution_count": 51,
   "id": "a0cd6bfb",
   "metadata": {},
   "outputs": [
    {
     "data": {
      "text/plain": [
       "array([13, 20,  4, 23,  6,  2, 11, 12,  0, 19])"
      ]
     },
     "execution_count": 51,
     "metadata": {},
     "output_type": "execute_result"
    }
   ],
   "source": [
    "#EJERCICIO 16\n",
    "# Utilizar rg.choice para elegir 10 numeros aleatorio sin repetir entre el 0 y el 25.\n",
    "rg.choice(26, size = 10, replace = False)\n"
   ]
  },
  {
   "cell_type": "code",
   "execution_count": 57,
   "id": "abdf3e0e",
   "metadata": {},
   "outputs": [
    {
     "data": {
      "text/plain": [
       "array([18,  8,  0,  7,  9, 17, 14,  8])"
      ]
     },
     "execution_count": 57,
     "metadata": {},
     "output_type": "execute_result"
    }
   ],
   "source": [
    "# EJERCICIO 17\n",
    "estadisticos = rg.integers (20, size=8)\n",
    "estadisticos"
   ]
  },
  {
   "cell_type": "code",
   "execution_count": 58,
   "id": "eff56274",
   "metadata": {},
   "outputs": [
    {
     "data": {
      "text/plain": [
       "np.int64(0)"
      ]
     },
     "execution_count": 58,
     "metadata": {},
     "output_type": "execute_result"
    }
   ],
   "source": [
    "estadisticos.min()"
   ]
  },
  {
   "cell_type": "code",
   "execution_count": 59,
   "id": "9a2b93f3",
   "metadata": {},
   "outputs": [
    {
     "data": {
      "text/plain": [
       "np.int64(18)"
      ]
     },
     "execution_count": 59,
     "metadata": {},
     "output_type": "execute_result"
    }
   ],
   "source": [
    "estadisticos.max()"
   ]
  },
  {
   "cell_type": "code",
   "execution_count": 60,
   "id": "4ed74eca",
   "metadata": {},
   "outputs": [
    {
     "data": {
      "text/plain": [
       "np.float64(10.125)"
      ]
     },
     "execution_count": 60,
     "metadata": {},
     "output_type": "execute_result"
    }
   ],
   "source": [
    "estadisticos.mean()"
   ]
  },
  {
   "cell_type": "code",
   "execution_count": 61,
   "id": "e91d7980",
   "metadata": {},
   "outputs": [
    {
     "data": {
      "text/plain": [
       "np.float64(5.555121510822243)"
      ]
     },
     "execution_count": 61,
     "metadata": {},
     "output_type": "execute_result"
    }
   ],
   "source": [
    "estadisticos.std()"
   ]
  },
  {
   "cell_type": "code",
   "execution_count": 62,
   "id": "85ef6a47",
   "metadata": {},
   "outputs": [
    {
     "data": {
      "text/plain": [
       "np.int64(81)"
      ]
     },
     "execution_count": 62,
     "metadata": {},
     "output_type": "execute_result"
    }
   ],
   "source": [
    "estadisticos.sum()"
   ]
  },
  {
   "cell_type": "code",
   "execution_count": null,
   "id": "431a008f",
   "metadata": {},
   "outputs": [],
   "source": []
  },
  {
   "cell_type": "code",
   "execution_count": 64,
   "id": "a84e3243",
   "metadata": {},
   "outputs": [
    {
     "data": {
      "text/plain": [
       "array([[ 5, 17, 14,  1],\n",
       "       [19, 18, 14, 12],\n",
       "       [16,  4,  7, 17],\n",
       "       [ 7,  6,  9,  3],\n",
       "       [18,  0,  1, 17]])"
      ]
     },
     "execution_count": 64,
     "metadata": {},
     "output_type": "execute_result"
    }
   ],
   "source": [
    "# EJERCICIO 18\n",
    "estadisticos_2d = rg.integers(20, size=(5,4))\n",
    "estadisticos_2d"
   ]
  },
  {
   "cell_type": "code",
   "execution_count": 68,
   "id": "f061c068",
   "metadata": {},
   "outputs": [
    {
     "data": {
      "text/plain": [
       "array([5, 0, 1, 1])"
      ]
     },
     "execution_count": 68,
     "metadata": {},
     "output_type": "execute_result"
    }
   ],
   "source": [
    "estadisticos_2d.min(axis = 0)"
   ]
  },
  {
   "cell_type": "code",
   "execution_count": 69,
   "id": "2c48f418",
   "metadata": {},
   "outputs": [
    {
     "data": {
      "text/plain": [
       "array([17, 19, 17,  9, 18])"
      ]
     },
     "execution_count": 69,
     "metadata": {},
     "output_type": "execute_result"
    }
   ],
   "source": [
    "estadisticos_2d.max(axis = 1)"
   ]
  },
  {
   "cell_type": "code",
   "execution_count": 70,
   "id": "be6f72d4",
   "metadata": {},
   "outputs": [
    {
     "data": {
      "text/plain": [
       "array([[ 5, 17, 14,  1],\n",
       "       [19, 18, 14, 12],\n",
       "       [16,  4,  7, 17],\n",
       "       [ 7,  6,  9,  3],\n",
       "       [18,  0,  1, 17]])"
      ]
     },
     "execution_count": 70,
     "metadata": {},
     "output_type": "execute_result"
    }
   ],
   "source": [
    "# EJERCICIO 19\n",
    "estadisticos_2d"
   ]
  },
  {
   "cell_type": "code",
   "execution_count": 71,
   "id": "3007c9db",
   "metadata": {},
   "outputs": [
    {
     "data": {
      "text/plain": [
       "array([[ True, False, False,  True],\n",
       "       [False, False, False, False],\n",
       "       [False,  True,  True, False],\n",
       "       [ True,  True,  True,  True],\n",
       "       [False,  True,  True, False]])"
      ]
     },
     "execution_count": 71,
     "metadata": {},
     "output_type": "execute_result"
    }
   ],
   "source": [
    "# Obtener los valores menores a 12 en el ndarray \"estadisticos_2d\"\n",
    "estadisticos_2d<12"
   ]
  },
  {
   "cell_type": "code",
   "execution_count": 72,
   "id": "27f14a31",
   "metadata": {},
   "outputs": [
    {
     "data": {
      "text/plain": [
       "array([5, 1, 4, 7, 7, 6, 9, 3, 0, 1])"
      ]
     },
     "execution_count": 72,
     "metadata": {},
     "output_type": "execute_result"
    }
   ],
   "source": [
    "estadisticos_2d[estadisticos_2d<12]"
   ]
  },
  {
   "cell_type": "code",
   "execution_count": 74,
   "id": "55ebcbf1",
   "metadata": {},
   "outputs": [
    {
     "name": "stdout",
     "output_type": "stream",
     "text": [
      "[[16 16 15]\n",
      " [17  4  1]\n",
      " [17  7 12]] \n",
      "\n",
      " [[ 4 13 10]\n",
      " [ 6 18 10]\n",
      " [18  1  0]]\n"
     ]
    }
   ],
   "source": [
    "# EJERCICIO 20\n",
    "np1 = rg.integers(20, size=(3,3))\n",
    "np2= rg.integers(20, size=(3,3))\n",
    "print(np1, \"\\n\\n\",np2)"
   ]
  },
  {
   "cell_type": "code",
   "execution_count": 77,
   "id": "908f1307",
   "metadata": {},
   "outputs": [
    {
     "data": {
      "text/plain": [
       "array([[16, 16, 15,  4, 13, 10],\n",
       "       [17,  4,  1,  6, 18, 10],\n",
       "       [17,  7, 12, 18,  1,  0]])"
      ]
     },
     "execution_count": 77,
     "metadata": {},
     "output_type": "execute_result"
    }
   ],
   "source": [
    "# Utilizar np.vstack para unir los ndarray np1 y np2 horizontalmente\n",
    "np.hstack((np1,np2))"
   ]
  },
  {
   "cell_type": "code",
   "execution_count": 78,
   "id": "d0183b59",
   "metadata": {},
   "outputs": [
    {
     "data": {
      "text/plain": [
       "array([13,  9, 16, 15,  6, 18,  0, 18, 17,  3])"
      ]
     },
     "execution_count": 78,
     "metadata": {},
     "output_type": "execute_result"
    }
   ],
   "source": [
    "enteros = rg.integers(20, size=(10))\n",
    "enteros"
   ]
  },
  {
   "cell_type": "code",
   "execution_count": 79,
   "id": "d38e0812",
   "metadata": {},
   "outputs": [
    {
     "data": {
      "text/plain": [
       "array([13,  9, 16, 15,  6, 18])"
      ]
     },
     "execution_count": 79,
     "metadata": {},
     "output_type": "execute_result"
    }
   ],
   "source": [
    "# Seleccionar los 6 primeros valores del ndarray enteros.\n",
    "enteros[0:6]"
   ]
  },
  {
   "cell_type": "code",
   "execution_count": 80,
   "id": "2f8ed11f",
   "metadata": {},
   "outputs": [
    {
     "data": {
      "text/plain": [
       "array([13, 16,  6])"
      ]
     },
     "execution_count": 80,
     "metadata": {},
     "output_type": "execute_result"
    }
   ],
   "source": [
    "# Seleccionar los valores en la posicion 0.2 y 4 del ndarray enteros.\n",
    "enteros[0:6:2]"
   ]
  },
  {
   "cell_type": "code",
   "execution_count": 81,
   "id": "e192d598",
   "metadata": {},
   "outputs": [
    {
     "data": {
      "text/plain": [
       "array([13, 16,  6,  0, 17])"
      ]
     },
     "execution_count": 81,
     "metadata": {},
     "output_type": "execute_result"
    }
   ],
   "source": [
    "# Seleccionar todos los valores con un indice par en el ndarray enteros\n",
    "enteros[::2]\n"
   ]
  },
  {
   "cell_type": "code",
   "execution_count": 82,
   "id": "07364b07",
   "metadata": {},
   "outputs": [
    {
     "data": {
      "text/plain": [
       "array([[ 2, 17,  2, 13,  0],\n",
       "       [ 4, 17, 15, 14,  1],\n",
       "       [ 0, 13,  0, 13, 12],\n",
       "       [ 0,  0,  9, 11, 11],\n",
       "       [14, 11, 16,  0, 17],\n",
       "       [ 0,  7, 13,  4,  6],\n",
       "       [19, 15,  0,  5,  6],\n",
       "       [13,  3, 16,  1, 19]])"
      ]
     },
     "execution_count": 82,
     "metadata": {},
     "output_type": "execute_result"
    }
   ],
   "source": [
    "enteros_2d = rg.integers(20, size = (8,5))\n",
    "enteros_2d"
   ]
  },
  {
   "cell_type": "code",
   "execution_count": 83,
   "id": "dc1be3ce",
   "metadata": {},
   "outputs": [
    {
     "data": {
      "text/plain": [
       "np.int64(14)"
      ]
     },
     "execution_count": 83,
     "metadata": {},
     "output_type": "execute_result"
    }
   ],
   "source": [
    "# Seleccionar el cuarto valor en el segundo array de enteros_2d\n",
    "enteros_2d[1,3]\n"
   ]
  },
  {
   "cell_type": "code",
   "execution_count": 84,
   "id": "938d987e",
   "metadata": {},
   "outputs": [
    {
     "data": {
      "text/plain": [
       "array([ 0, 11,  7])"
      ]
     },
     "execution_count": 84,
     "metadata": {},
     "output_type": "execute_result"
    }
   ],
   "source": [
    "#eleccionar el segundo valor en los arrays con indice 3, 4 y 5 de enteros_2d\n",
    "enteros_2d[3:6,1]\n"
   ]
  },
  {
   "cell_type": "code",
   "execution_count": 85,
   "id": "a13fcda0",
   "metadata": {},
   "outputs": [
    {
     "data": {
      "text/plain": [
       "array([[14, 11],\n",
       "       [ 0,  7],\n",
       "       [19, 15]])"
      ]
     },
     "execution_count": 85,
     "metadata": {},
     "output_type": "execute_result"
    }
   ],
   "source": [
    "# Seleccionar los dos primeros valores en los arrays con indice 4,5 y 6 de enteros_2d\n",
    "enteros_2d[4:7,0:2]"
   ]
  }
 ],
 "metadata": {
  "kernelspec": {
   "display_name": "Python 3",
   "language": "python",
   "name": "python3"
  },
  "language_info": {
   "codemirror_mode": {
    "name": "ipython",
    "version": 3
   },
   "file_extension": ".py",
   "mimetype": "text/x-python",
   "name": "python",
   "nbconvert_exporter": "python",
   "pygments_lexer": "ipython3",
   "version": "3.10.0"
  }
 },
 "nbformat": 4,
 "nbformat_minor": 5
}
