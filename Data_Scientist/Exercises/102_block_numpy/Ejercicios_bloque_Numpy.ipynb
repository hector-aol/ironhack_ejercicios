{
 "cells": [
  {
   "cell_type": "code",
   "execution_count": 1,
   "id": "0ab5cef2",
   "metadata": {},
   "outputs": [],
   "source": [
    "import numpy as np"
   ]
  },
  {
   "cell_type": "markdown",
   "id": "dd674242",
   "metadata": {},
   "source": [
    "Ejercicio Numpy-01\n",
    "Crea un array 3x4 con valores enteros aleatorios entre 10 y 50. Luego, calcula la suma, la media, y el valor máximo de todo el array."
   ]
  },
  {
   "cell_type": "code",
   "execution_count": 6,
   "id": "77b7be5d",
   "metadata": {},
   "outputs": [
    {
     "name": "stdout",
     "output_type": "stream",
     "text": [
      "Array generado:\n",
      "[[26 33 35 13]\n",
      " [10 50 46 48]\n",
      " [27 12 23 12]]\n",
      "\n",
      "Resultados:\n",
      "Suma total: 335\n",
      "Media total: 27.92\n",
      "Valor máximo: 50\n"
     ]
    }
   ],
   "source": [
    "\n",
    "# Crear un array 3x4 con valores enteros aleatorios entre 10 y 50\n",
    "\n",
    "array_aleatorio = np.random.randint(10, 51, size=(3, 4))\n",
    "\n",
    "# Calcular las estadísticas solicitadas\n",
    "\n",
    "suma_total = np.sum(array_aleatorio)\n",
    "media_total = np.mean(array_aleatorio)\n",
    "maximo_total = np.max(array_aleatorio)\n",
    "\n",
    "# Mostrar resultados\n",
    "print(\"Array generado:\")\n",
    "print(array_aleatorio)\n",
    "print(\"\\nResultados:\")\n",
    "print(f\"Suma total: {suma_total}\")\n",
    "print(f\"Media total: {media_total:.2f}\")  # Formateado a 2 decimales\n",
    "print(f\"Valor máximo: {maximo_total}\")"
   ]
  },
  {
   "cell_type": "markdown",
   "id": "e544191d",
   "metadata": {},
   "source": [
    "Ejercicio Numpy-02\n",
    "Crea una matriz identidad 5x5 y cambia la diagonal principal a un valor de 7."
   ]
  },
  {
   "cell_type": "code",
   "execution_count": null,
   "id": "2274adee",
   "metadata": {},
   "outputs": [
    {
     "name": "stdout",
     "output_type": "stream",
     "text": [
      "Matriz resultante:\n",
      "[[7. 0. 0. 0. 0.]\n",
      " [0. 7. 0. 0. 0.]\n",
      " [0. 0. 7. 0. 0.]\n",
      " [0. 0. 0. 7. 0.]\n",
      " [0. 0. 0. 0. 7.]]\n"
     ]
    }
   ],
   "source": [
    "# Crear una matriz identidad 5x5\n",
    "# np.eye(N) crea una matriz identidad de NxN (en este caso 5x5)\n",
    "# Por defecto, tiene 1s en la diagonal principal y 0s en las demás posiciones\n",
    "\n",
    "matriz_identidad = np.eye(5)\n",
    "\n",
    "# Modificar la diagonal principal a 7\n",
    "# np.fill_diagonal() es una función específica para modificar los valores de la diagonal principal\n",
    "# Recibe como parámetros la matriz y el valor a asignar (7 en este caso)\n",
    "\n",
    "np.fill_diagonal(matriz_identidad, 7)\n",
    "\n",
    "print(\"Matriz resultante:\")\n",
    "print(matriz_identidad)"
   ]
  },
  {
   "cell_type": "code",
   "execution_count": 5,
   "id": "a42918b0",
   "metadata": {},
   "outputs": [
    {
     "data": {
      "text/plain": [
       "array([[7., 0., 0., 0., 0.],\n",
       "       [0., 7., 0., 0., 0.],\n",
       "       [0., 0., 7., 0., 0.],\n",
       "       [0., 0., 0., 7., 0.],\n",
       "       [0., 0., 0., 0., 7.]])"
      ]
     },
     "execution_count": 5,
     "metadata": {},
     "output_type": "execute_result"
    }
   ],
   "source": [
    "# Utilizando indices.\n",
    "\n",
    "# Crear matriz identidad\n",
    "\n",
    "matriz = np.eye(5)\n",
    "\n",
    "# Modificar diagonal usando índices\n",
    "\n",
    "filas, columnas = matriz.shape\n",
    "for i in range(filas):\n",
    "    matriz[i, i] = 7\n",
    "\n",
    "matriz"
   ]
  },
  {
   "cell_type": "markdown",
   "id": "44d8a157",
   "metadata": {},
   "source": [
    "Ejercicio Numpy-03\n",
    "Dado el array a = np.arange(20), crea un nuevo array con los valores pares mayores que 5 usando boolean masking."
   ]
  },
  {
   "cell_type": "code",
   "execution_count": null,
   "id": "1abacc4a",
   "metadata": {},
   "outputs": [
    {
     "name": "stdout",
     "output_type": "stream",
     "text": [
      "Array original: [ 0  1  2  3  4  5  6  7  8  9 10 11 12 13 14 15 16 17 18 19]\n",
      "Array filtrado: [ 6  8 10 12 14 16 18]\n"
     ]
    }
   ],
   "source": [
    "a = np.arange(20)\n",
    "mask = (a % 2 == 0) & (a > 5)\n",
    "resultado = a[mask]\n",
    "\n",
    "print(\"Array original:\", a)\n",
    "print(\"Array filtrado:\", resultado)\n",
    "\n",
    "# a % 2 == 0: Identifica valores pares (divisibles entre 2)\n",
    "# a > 5: Identifica valores mayores que 5\n",
    "# &: Combina ambas condiciones (AND lógico)"
   ]
  },
  {
   "cell_type": "markdown",
   "id": "2705ab28",
   "metadata": {},
   "source": [
    "Ejercicio Numpy-04\n",
    "Dado el array bidimensional siguiente:\n",
    "a = np.array([[1, 2, 3], [4, 5, 6], [7, 8, 9]])\n",
    "Reemplaza todas las entradas de la segunda fila por 0 y luego aplana el array a una dimensión."
   ]
  },
  {
   "cell_type": "code",
   "execution_count": 17,
   "id": "5292b56f",
   "metadata": {},
   "outputs": [
    {
     "name": "stdout",
     "output_type": "stream",
     "text": [
      "[[1 2 3]\n",
      " [0 0 0]\n",
      " [7 8 9]]\n"
     ]
    },
    {
     "data": {
      "text/plain": [
       "array([1, 2, 3, 0, 0, 0, 7, 8, 9])"
      ]
     },
     "execution_count": 17,
     "metadata": {},
     "output_type": "execute_result"
    }
   ],
   "source": [
    "a = np.array([[1, 2, 3], [4, 5, 6], [7, 8, 9]])\n",
    "b = a.copy()\n",
    "b[1] = 0\n",
    "print(b)\n",
    "b_plano = b.flatten()\n",
    "b_plano\n"
   ]
  },
  {
   "cell_type": "markdown",
   "id": "24119c01",
   "metadata": {},
   "source": [
    "Ejercicio Numpy-05\n",
    "Crea dos arrays 1D a y b con valores [1, 2, 3] y [4, 5, 6]. Realiza el producto cruzado, producto escalar y producto externo."
   ]
  },
  {
   "cell_type": "code",
   "execution_count": 19,
   "id": "58fba17e",
   "metadata": {},
   "outputs": [
    {
     "name": "stdout",
     "output_type": "stream",
     "text": [
      "Array a: [1 2 3]\n",
      "Array b: [4 5 6]\n",
      "\n",
      "Producto cruzado (a x b): [-3  6 -3]\n",
      "Producto escalar (a · b): 32\n",
      "\n",
      "Producto externo (a x b):\n",
      "[[ 4  5  6]\n",
      " [ 8 10 12]\n",
      " [12 15 18]]\n"
     ]
    }
   ],
   "source": [
    "a = np.array([1, 2, 3])\n",
    "b = np.array([4, 5, 6])\n",
    "cruzado = np.cross(a, b)\n",
    "escalar = np.dot(a, b)\n",
    "externo = np.outer(a, b)\n",
    "print(\"Array a:\", a)\n",
    "print(\"Array b:\", b)\n",
    "print(\"\\nProducto cruzado (a x b):\", cruzado)\n",
    "print(\"Producto escalar (a · b):\", escalar)\n",
    "print(\"\\nProducto externo (a x b):\")\n",
    "print(externo)"
   ]
  },
  {
   "cell_type": "markdown",
   "id": "babcde18",
   "metadata": {},
   "source": [
    "Ejercicio Numpy-06\n",
    "Crea un array de 10 elementos que vayan de 0 a 100 de forma equiespaciada, redondea cada elemento a su entero más cercano, y luego limita sus valores para que estén entre 20 y 80."
   ]
  },
  {
   "cell_type": "code",
   "execution_count": null,
   "id": "2be10227",
   "metadata": {},
   "outputs": [
    {
     "name": "stdout",
     "output_type": "stream",
     "text": [
      "[  0.          11.11111111  22.22222222  33.33333333  44.44444444\n",
      "  55.55555556  66.66666667  77.77777778  88.88888889 100.        ]\n",
      "[  0  11  22  33  44  56  67  78  89 100]\n",
      "[20 20 22 33 44 56 67 78 80 80]\n"
     ]
    }
   ],
   "source": [
    "array = np.linspace(0, 100, 10)\n",
    "print(array)\n",
    "array_redondeado = np.round(array).astype(int)\n",
    "print(array_redondeado)\n",
    "array_limitado = np.clip(array_redondeado, 20, 80)\n",
    "print(array_limitado)\n",
    "\n",
    "# resultado = np.clip(np.round(np.linspace(0, 100, 10)).astype(int), 20, 80)\n",
    "# print(resultado)"
   ]
  },
  {
   "cell_type": "markdown",
   "id": "54f21621",
   "metadata": {},
   "source": [
    "Ejercicio Numpy-07\n",
    "Crea una matriz aleatoria 4x4 con valores entre 0 y 1. Multiplica la matriz por sí misma (producto matricial) y calcula la traza del resultado."
   ]
  },
  {
   "cell_type": "code",
   "execution_count": 31,
   "id": "f9707015",
   "metadata": {},
   "outputs": [
    {
     "data": {
      "text/plain": [
       "np.float64(5.32163598328548)"
      ]
     },
     "execution_count": 31,
     "metadata": {},
     "output_type": "execute_result"
    }
   ],
   "source": [
    "traza = np.trace(np.dot(matriz := np.random.rand(4,4), matriz))\n",
    "traza              \n"
   ]
  },
  {
   "cell_type": "markdown",
   "id": "139b57a5",
   "metadata": {},
   "source": [
    "Ejercicio Numpy-08\n",
    "Dado el array a = np.array([10, 20, 30, 40, 50]), crea una máscara booleana para seleccionar los elementos que no estén en la lista [20, 40]."
   ]
  },
  {
   "cell_type": "code",
   "execution_count": 33,
   "id": "c1643f5e",
   "metadata": {},
   "outputs": [
    {
     "data": {
      "text/plain": [
       "array([10, 30, 50])"
      ]
     },
     "execution_count": 33,
     "metadata": {},
     "output_type": "execute_result"
    }
   ],
   "source": [
    "a = np.array([10, 20, 30, 40, 50])\n",
    "mask = ~np.isin(a, [20, 40]) \n",
    "# El operador ~ (NOT) invierte la máscara\n",
    "resultado = a[mask]\n",
    "resultado"
   ]
  },
  {
   "cell_type": "markdown",
   "id": "84ccb982",
   "metadata": {},
   "source": [
    "Ejercicio Numpy-09\n",
    "Crea un array 2x3 lleno de 5s, otro 3x2 lleno de 10s, y concaténalos verticalmente tras hacer el reshape adecuado para que la concatenación sea posible."
   ]
  },
  {
   "cell_type": "code",
   "execution_count": 35,
   "id": "bcc5d29f",
   "metadata": {},
   "outputs": [
    {
     "name": "stdout",
     "output_type": "stream",
     "text": [
      "Array de 5s (2x3):\n",
      "[[5 5 5]\n",
      " [5 5 5]]\n",
      "\n",
      "Array de 10s (3x2):\n",
      "[[10 10]\n",
      " [10 10]\n",
      " [10 10]]\n",
      "\n",
      "Array de 5s redimensionado (6x1):\n",
      "[[5]\n",
      " [5]\n",
      " [5]\n",
      " [5]\n",
      " [5]\n",
      " [5]]\n",
      "\n",
      "Array de 10s redimensionado (6x1):\n",
      "[[10]\n",
      " [10]\n",
      " [10]\n",
      " [10]\n",
      " [10]\n",
      " [10]]\n",
      "\n",
      "Concatenación vertical (12x1):\n",
      "[[ 5]\n",
      " [ 5]\n",
      " [ 5]\n",
      " [ 5]\n",
      " [ 5]\n",
      " [ 5]\n",
      " [10]\n",
      " [10]\n",
      " [10]\n",
      " [10]\n",
      " [10]\n",
      " [10]]\n"
     ]
    }
   ],
   "source": [
    "arr_5s = np.full((2, 3), 5)\n",
    "arr_10s = np.full((3, 2), 10)\n",
    "\n",
    "# Mismo numero de columnas\n",
    "arr_5s_reshaped = arr_5s.reshape(6, 1)\n",
    "arr_10s_reshaped = arr_10s.reshape(6, 1)\n",
    "\n",
    "resultado = np.concatenate((arr_5s_reshaped, arr_10s_reshaped), axis=0)\n",
    "\n",
    "# print(arr_5s_reshaped)\n",
    "# print(arr_10s_reshaped)\n",
    "# print(resultado)\n",
    "\n",
    "print(\"Array de 5s (2x3):\")\n",
    "print(arr_5s)\n",
    "print(\"\\nArray de 10s (3x2):\")\n",
    "print(arr_10s)\n",
    "print(\"\\nArray de 5s redimensionado (6x1):\")\n",
    "print(arr_5s_reshaped)\n",
    "print(\"\\nArray de 10s redimensionado (6x1):\")\n",
    "print(arr_10s_reshaped)\n",
    "print(\"\\nConcatenación vertical (12x1):\")\n",
    "print(resultado)\n"
   ]
  },
  {
   "cell_type": "code",
   "execution_count": 36,
   "id": "0f2b23d4",
   "metadata": {},
   "outputs": [
    {
     "name": "stdout",
     "output_type": "stream",
     "text": [
      "[[ 5]\n",
      " [ 5]\n",
      " [ 5]\n",
      " [ 5]\n",
      " [ 5]\n",
      " [ 5]\n",
      " [10]\n",
      " [10]\n",
      " [10]\n",
      " [10]\n",
      " [10]\n",
      " [10]]\n"
     ]
    }
   ],
   "source": [
    "arr_5s = np.full((2, 3), 5).reshape(-1, 1)  # -1 significa \"calcula automáticamente\"\n",
    "arr_10s = np.full((3, 2), 10).reshape(-1, 1)\n",
    "\n",
    "resultado = np.vstack((arr_5s, arr_10s))\n",
    "\n",
    "print(resultado)"
   ]
  },
  {
   "cell_type": "markdown",
   "id": "96a078b8",
   "metadata": {},
   "source": [
    "Ejercicio Numpy-10\n",
    "Genera un array de 3x3 con valores aleatorios enteros entre 1 y 9. Calcula sus autovalores y autovectores, y verifica que multiplicar la matriz por un autovector da el autovalor multiplicado por el autovector."
   ]
  },
  {
   "cell_type": "code",
   "execution_count": 37,
   "id": "8f729993",
   "metadata": {},
   "outputs": [
    {
     "name": "stdout",
     "output_type": "stream",
     "text": [
      "Matriz A:\n",
      "[[3 1 7]\n",
      " [1 7 6]\n",
      " [7 7 8]]\n",
      "\n",
      "Autovalores: [16.67643551 -3.01385289  4.33741738]\n",
      "\n",
      "Autovectores (columnas):\n",
      "[[-0.42138947 -0.69681013  0.62701708]\n",
      " [-0.50896233 -0.316168   -0.7454156 ]\n",
      " [-0.75059194  0.64381165  0.22628559]]\n"
     ]
    }
   ],
   "source": [
    "A = np.random.randint(1, 10, size=(3, 3))\n",
    "autovalores, autovectores = np.linalg.eig(A)\n",
    "print(\"Matriz A:\")\n",
    "print(A)\n",
    "print(\"\\nAutovalores:\", autovalores)\n",
    "print(\"\\nAutovectores (columnas):\")\n",
    "print(autovectores)"
   ]
  },
  {
   "cell_type": "code",
   "execution_count": 42,
   "id": "400129b3",
   "metadata": {},
   "outputs": [
    {
     "name": "stdout",
     "output_type": "stream",
     "text": [
      "\n",
      "Verificación para autovalor 3 (λ = 4.3374):\n",
      "A·v:\t[ 2.71963476 -3.23317858  0.98149506]\n",
      "λ·v:\t[ 2.71963476 -3.23317858  0.98149506]\n",
      "A·v ≈ λ·v La propiedad cumple\n"
     ]
    }
   ],
   "source": [
    "tolerancia = 1e-5  # Para manejar errores de precisión numérica\n",
    "for i in range(len(autovalores)):\n",
    "    λ = autovalores[i]\n",
    "    v = autovectores[:, i]  # Tomar la columna i como autovector\n",
    "\n",
    "\n",
    "# Calcular A·v y λ·v\n",
    "    Av = A @ v\n",
    "    λv = λ * v\n",
    "\n",
    "print(f\"\\nVerificación para autovalor {i+1} (λ = {λ:.4f}):\")\n",
    "print(f\"A·v:\\t{Av}\")\n",
    "print(f\"λ·v:\\t{λv}\")\n",
    "\n",
    "if np.allclose(Av, λv, atol=tolerancia):\n",
    "        print(\"A·v ≈ λ·v La propiedad cumple\")\n",
    "else:\n",
    "        print(\"La propiedad no se cumple\")"
   ]
  },
  {
   "cell_type": "markdown",
   "id": "b0662ca6",
   "metadata": {},
   "source": [
    "Ejercicio Numpy-11Crea un sistema de ecuaciones 3x3 y resuélvelo usando np.linalg.solve. El sistema es:2x + 3y -z = 5, x + 7y + 2z = 3, 4x -5y + 6z = 10"
   ]
  },
  {
   "cell_type": "code",
   "execution_count": 2,
   "id": "cea73225",
   "metadata": {},
   "outputs": [
    {
     "name": "stdout",
     "output_type": "stream",
     "text": [
      "Solución del sistema:\n",
      "x = 2.4545\n",
      "y = 0.0559\n",
      "z = 0.0769\n",
      "\n",
      "¿La solución es correcta? Sí\n"
     ]
    }
   ],
   "source": [
    "# Paso 1: Definir matriz de coeficientes (A) y vector de resultados (B)\n",
    "A = np.array([\n",
    "    [2, 3, -1],  # Coeficientes primera ecuación\n",
    "    [1, 7, 2],   # Coeficientes segunda ecuación\n",
    "    [4, -5, 6]   # Coeficientes tercera ecuación\n",
    "])\n",
    "\n",
    "B = np.array([5, 3, 10])  # Términos independientes\n",
    "\n",
    "# Paso 2: Resolver el sistema\n",
    "solucion = np.linalg.solve(A, B)\n",
    "\n",
    "# Paso 3: Mostrar resultados\n",
    "x, y, z = solucion\n",
    "print(f\"Solución del sistema:\")\n",
    "print(f\"x = {x:.4f}\")\n",
    "print(f\"y = {y:.4f}\")\n",
    "print(f\"z = {z:.4f}\")\n",
    "\n",
    "# (Opcional) Verificar solución\n",
    "verificacion = np.allclose(np.dot(A, solucion), B)\n",
    "print(f\"\\n¿La solución es correcta? {'Sí' if verificacion else 'No'}\")"
   ]
  },
  {
   "cell_type": "markdown",
   "id": "18a551db",
   "metadata": {},
   "source": [
    "Ejercicio Numpy-12Genera un array de 50 números aleatorios del 0 al 100. Separa el array en 5 partes iguales y calcula la media de cada una."
   ]
  },
  {
   "cell_type": "code",
   "execution_count": 3,
   "id": "2d4e3a06",
   "metadata": {},
   "outputs": [
    {
     "name": "stdout",
     "output_type": "stream",
     "text": [
      "Array completo:\n",
      "[86  2 85  0 33 85 50 22 89 50  7 51 19 79 69 21 18 99 21 51 22 14 78 78\n",
      "  6 81  8  5 25 33 73 47 99 11  3 79 21 53 86 93 31 77 40 24 66 94 21 93\n",
      " 26 25]\n",
      "\n",
      "Partes divididas:\n",
      "Parte 1: [86  2 85  0 33 85 50 22 89 50]\n",
      "Parte 2: [ 7 51 19 79 69 21 18 99 21 51]\n",
      "Parte 3: [22 14 78 78  6 81  8  5 25 33]\n",
      "Parte 4: [73 47 99 11  3 79 21 53 86 93]\n",
      "Parte 5: [31 77 40 24 66 94 21 93 26 25]\n",
      "\n",
      "Medias de cada parte:\n",
      "Media parte 1: 50.20\n",
      "Media parte 2: 43.50\n",
      "Media parte 3: 35.00\n",
      "Media parte 4: 56.50\n",
      "Media parte 5: 49.70\n"
     ]
    }
   ],
   "source": [
    "# Generar array de 50 números aleatorios entre 0 y 100\n",
    "random_array = np.random.randint(0, 101, 50)\n",
    "\n",
    "# Dividir en 5 partes iguales\n",
    "partes = np.array_split(random_array, 5)\n",
    "\n",
    "# Calcular media de cada parte\n",
    "medias = [np.mean(parte) for parte in partes]\n",
    "\n",
    "# Mostrar resultados\n",
    "print(\"Array completo:\")\n",
    "print(random_array)\n",
    "\n",
    "print(\"\\nPartes divididas:\")\n",
    "for i, parte in enumerate(partes, 1):\n",
    "    print(f\"Parte {i}: {parte}\")\n",
    "\n",
    "print(\"\\nMedias de cada parte:\")\n",
    "for i, media in enumerate(medias, 1):\n",
    "    print(f\"Media parte {i}: {media:.2f}\")"
   ]
  },
  {
   "cell_type": "markdown",
   "id": "eeb3e82b",
   "metadata": {},
   "source": [
    "Ejercicio Numpy-13Dado un array 2D a = np.arange(1, 17).reshape(4,4), intercambia filas y columnas (transpuesta), luego ordena cada fila y devuelve los índices de ordenación"
   ]
  },
  {
   "cell_type": "code",
   "execution_count": 4,
   "id": "0f5ab213",
   "metadata": {},
   "outputs": [
    {
     "name": "stdout",
     "output_type": "stream",
     "text": [
      "Array original:\n",
      "[[ 1  2  3  4]\n",
      " [ 5  6  7  8]\n",
      " [ 9 10 11 12]\n",
      " [13 14 15 16]]\n",
      "\n",
      "Transpuesta:\n",
      "[[ 1  5  9 13]\n",
      " [ 2  6 10 14]\n",
      " [ 3  7 11 15]\n",
      " [ 4  8 12 16]]\n",
      "\n",
      "Transpuesta con filas ordenadas:\n",
      "[[ 1  5  9 13]\n",
      " [ 2  6 10 14]\n",
      " [ 3  7 11 15]\n",
      " [ 4  8 12 16]]\n",
      "\n",
      "Índices de ordenación por fila:\n",
      "[[0 1 2 3]\n",
      " [0 1 2 3]\n",
      " [0 1 2 3]\n",
      " [0 1 2 3]]\n"
     ]
    }
   ],
   "source": [
    "# Crear el array 2D\n",
    "a = np.arange(1, 17).reshape(4, 4)\n",
    "print(\"Array original:\")\n",
    "print(a)\n",
    "\n",
    "# Paso 1: Intercambiar filas y columnas (transpuesta)\n",
    "transpuesta = a.T\n",
    "print(\"\\nTranspuesta:\")\n",
    "print(transpuesta)\n",
    "\n",
    "# Paso 2: Ordenar cada fila de la transpuesta\n",
    "array_ordenado = np.sort(transpuesta, axis=1)\n",
    "print(\"\\nTranspuesta con filas ordenadas:\")\n",
    "print(array_ordenado)\n",
    "\n",
    "# Paso 3: Obtener los índices de ordenación\n",
    "indices_orden = np.argsort(transpuesta, axis=1)\n",
    "print(\"\\nÍndices de ordenación por fila:\")\n",
    "print(indices_orden)"
   ]
  },
  {
   "cell_type": "markdown",
   "id": "92b6ba4a",
   "metadata": {},
   "source": [
    "Ejercicio Numpy-14Crea un array 1D con valores del 1 al 15. Itera sobre él con np.nditery crea otro array que contenga el cuadrado de cada elemento."
   ]
  },
  {
   "cell_type": "code",
   "execution_count": 5,
   "id": "5ac5ce44",
   "metadata": {},
   "outputs": [
    {
     "name": "stdout",
     "output_type": "stream",
     "text": [
      "Array original:\n",
      "[ 1  2  3  4  5  6  7  8  9 10 11 12 13 14 15]\n",
      "\n",
      "Array de cuadrados:\n",
      "[  1   4   9  16  25  36  49  64  81 100 121 144 169 196 225]\n"
     ]
    }
   ],
   "source": [
    "\n",
    "# Crear array 1D con valores del 1 al 15\n",
    "arr = np.arange(1, 16)\n",
    "print(\"Array original:\")\n",
    "print(arr)\n",
    "\n",
    "# Crear array vacío para almacenar los cuadrados\n",
    "squares = np.empty(arr.shape, dtype=arr.dtype)\n",
    "\n",
    "# Iterar usando np.nditer y calcular cuadrados\n",
    "with np.nditer(arr, flags=['c_index'], op_flags=['readonly']) as it:\n",
    "    for x in it:\n",
    "        squares[it.index] = x ** 2\n",
    "\n",
    "print(\"\\nArray de cuadrados:\")\n",
    "print(squares)"
   ]
  },
  {
   "cell_type": "markdown",
   "id": "718b0070",
   "metadata": {},
   "source": [
    "Ejercicio Numpy-15. Crea una matriz 4x4 con valores aleatorios enteros entre 0 y 9. Usa np.wherepara cambiar todos los valores menores que 5 por -1, y los demás déjalos iguales"
   ]
  },
  {
   "cell_type": "code",
   "execution_count": 6,
   "id": "e5becb53",
   "metadata": {},
   "outputs": [
    {
     "name": "stdout",
     "output_type": "stream",
     "text": [
      "Matriz original:\n",
      "[[2 4 0 8]\n",
      " [9 2 1 7]\n",
      " [4 0 6 0]\n",
      " [7 0 5 5]]\n",
      "\n",
      "Matriz modificada:\n",
      "[[-1 -1 -1  8]\n",
      " [ 9 -1 -1  7]\n",
      " [-1 -1  6 -1]\n",
      " [ 7 -1  5  5]]\n"
     ]
    }
   ],
   "source": [
    "# Crear matriz 4x4 con enteros aleatorios entre 0 y 9\n",
    "matriz = np.random.randint(0, 10, size=(4, 4))\n",
    "print(\"Matriz original:\")\n",
    "print(matriz)\n",
    "\n",
    "# Cambiar valores menores que 5 por -1, mantener los demás\n",
    "matriz_modificada = np.where(matriz < 5, -1, matriz)\n",
    "\n",
    "print(\"\\nMatriz modificada:\")\n",
    "print(matriz_modificada)"
   ]
  },
  {
   "cell_type": "markdown",
   "id": "9b29471f",
   "metadata": {},
   "source": [
    "Ejercicio Numpy-16. Eres un ingeniero que debe resolver un sistema lineal de 4 ecuaciones con 4 incógnitas para modelar el equilibrio de fuerzas en una estructura. El sistema es:3x+y−z+2w=52 x−2y+4z−w=−2 −x+21y−z+w=0 x+y+z+w=3 Además, calcula la inversa de la matriz de coeficientes y comprueba que la multiplicación entre matriz e inversa da la matriz identidad."
   ]
  },
  {
   "cell_type": "code",
   "execution_count": 7,
   "id": "d25a05e4",
   "metadata": {},
   "outputs": [
    {
     "name": "stdout",
     "output_type": "stream",
     "text": [
      "Solución del sistema:\n",
      "x = 22.067961\n",
      "y = 1.218447\n",
      "z = -8.383495\n",
      "w = -11.902913\n",
      "\n",
      "¿Solución verificada? Sí\n",
      "\n",
      "Número de condición de la matriz: 3.6303e+01\n",
      "\n",
      "Inversa de A (primeras 2 decimales):\n",
      "[[ 0.48  0.3   0.04 -0.69]\n",
      " [ 0.03  0.04  0.05 -0.07]\n",
      " [-0.18  0.09 -0.    0.46]\n",
      " [-0.32 -0.43 -0.09  1.3 ]]\n",
      "\n",
      "Comprobación inversa (A * A_inv):\n",
      "[[ 1. -0. -0.  0.]\n",
      " [ 0.  1. -0.  0.]\n",
      " [-0.  0.  1.  0.]\n",
      " [ 0. -0.  0.  1.]]\n",
      "¿Es la matriz identidad? Sí\n"
     ]
    }
   ],
   "source": [
    "\n",
    "# Matriz de coeficientes (4x4)\n",
    "A = np.array([\n",
    "    [ 3,  1, -1,  2],  # Ecuación 1\n",
    "    [ 1, -2,  4, -1],  # Ecuación 2\n",
    "    [-1, 21, -1,  1],  # Ecuación 3\n",
    "    [ 1,  1,  1,  1]   # Ecuación 4\n",
    "])\n",
    "\n",
    "# Vector de términos independientes\n",
    "B = np.array([52, -2, 0, 3])\n",
    "\n",
    "# 1. Resolver el sistema\n",
    "solucion = np.linalg.solve(A, B)\n",
    "x, y, z, w = solucion\n",
    "\n",
    "# 2. Verificar la solución\n",
    "verificacion = np.allclose(A @ solucion, B)\n",
    "\n",
    "# 3. Calcular la inversa\n",
    "try:\n",
    "    A_inv = np.linalg.inv(A)\n",
    "    # Comprobar inversa (A · A_inv ≈ Identidad)\n",
    "    identidad_aproximada = A @ A_inv\n",
    "    es_identidad = np.allclose(identidad_aproximada, np.eye(4))\n",
    "except np.linalg.LinAlgError:\n",
    "    A_inv = None\n",
    "    es_identidad = False\n",
    "\n",
    "# 4. Calcular número de condición\n",
    "condicion = np.linalg.cond(A)\n",
    "\n",
    "# Resultados\n",
    "print(\"Solución del sistema:\")\n",
    "print(f\"x = {x:.6f}\\ny = {y:.6f}\\nz = {z:.6f}\\nw = {w:.6f}\")\n",
    "print(f\"\\n¿Solución verificada? {'Sí' if verificacion else 'No'}\")\n",
    "\n",
    "print(\"\\nNúmero de condición de la matriz:\", f\"{condicion:.4e}\")\n",
    "\n",
    "if A_inv is not None:\n",
    "    print(\"\\nInversa de A (primeras 2 decimales):\")\n",
    "    print(np.round(A_inv, 2))\n",
    "    \n",
    "    print(\"\\nComprobación inversa (A * A_inv):\")\n",
    "    print(np.round(identidad_aproximada, 2))\n",
    "    print(f\"¿Es la matriz identidad? {'Sí' if es_identidad else 'No'}\")\n",
    "else:\n",
    "    print(\"\\nLa matriz es singular, no tiene inversa\")"
   ]
  },
  {
   "cell_type": "markdown",
   "id": "830dac54",
   "metadata": {},
   "source": [
    "Ejercicio Numpy-17. Como científico de datos, generas un conjunto de vectores 3D aleatorios para analizar su orientación. Genera 10 vectores 3D con valores aleatorios entre -10 y 10. Para cada vector, calcula su módulo (norma) y normalízalo (vector unitario). \n",
    "Después, calcula la matriz de producto externo para cada vector normalizado y almacena todas esas matrices en un array 3D de dimensiones (10, 3, 3)"
   ]
  },
  {
   "cell_type": "code",
   "execution_count": 8,
   "id": "4a7fbef6",
   "metadata": {},
   "outputs": [
    {
     "name": "stdout",
     "output_type": "stream",
     "text": [
      "Vectores originales:\n",
      "[[ 4.9090562  -7.00694295  0.49981593]\n",
      " [-8.01009599  3.30737778  0.10950039]\n",
      " [ 7.37555926 -9.79460379  8.73837841]\n",
      " [-0.91704617  0.11105953  7.76663111]\n",
      " [ 2.95607367 -7.71393451 -4.82767219]\n",
      " [-0.67318063  9.86332127  0.92078309]\n",
      " [-3.28091608 -7.15921128 -7.7475441 ]\n",
      " [ 3.69561302 -6.31291465 -4.56451977]\n",
      " [-8.56707837 -9.11554883  8.7412615 ]\n",
      " [-1.08264249 -7.66970783 -4.52849298]]\n",
      "\n",
      "Normas de los vectores:\n",
      "[ 8.57005824  8.66673963 15.05630748  7.82137243  9.56815426  9.92905435\n",
      " 11.04731443  8.62237135 15.26098669  8.97238996]\n",
      "\n",
      "Vectores normalizados (unitarios):\n",
      "[[ 0.5728148  -0.81760739  0.05832118]\n",
      " [-0.92423406  0.3816173   0.01263455]\n",
      " [ 0.48986508 -0.6505316   0.58037991]\n",
      " [-0.11724875  0.01419949  0.99300106]\n",
      " [ 0.30894921 -0.80620925 -0.50455627]\n",
      " [-0.06779907  0.99337972  0.09273623]\n",
      " [-0.29698766 -0.64804992 -0.70130566]\n",
      " [ 0.4286075  -0.73215527 -0.52938102]\n",
      " [-0.5613712  -0.59731058  0.57278482]\n",
      " [-0.12066378 -0.85481214 -0.50471424]]\n",
      "\n",
      "Primera matriz de producto externo:\n",
      "[[ 0.3281168  -0.46833761  0.03340724]\n",
      " [-0.46833761  0.66848184 -0.04768383]\n",
      " [ 0.03340724 -0.04768383  0.00340136]]\n"
     ]
    }
   ],
   "source": [
    "# Paso 1: Generar 10 vectores 3D aleatorios entre -10 y 10\n",
    "vectores = np.random.uniform(-10, 10, size=(10, 3))\n",
    "print(\"Vectores originales:\")\n",
    "print(vectores)\n",
    "\n",
    "# Paso 2: Calcular el módulo (norma) de cada vector\n",
    "normas = np.linalg.norm(vectores, axis=1, keepdims=True)\n",
    "print(\"\\nNormas de los vectores:\")\n",
    "print(normas.flatten())\n",
    "\n",
    "# Paso 3: Normalizar los vectores (convertir en unitarios)\n",
    "# Agregar un pequeño epsilon para evitar división por cero\n",
    "epsilon = 1e-10\n",
    "vectores_unitarios = vectores / (normas + epsilon)\n",
    "print(\"\\nVectores normalizados (unitarios):\")\n",
    "print(vectores_unitarios)\n",
    "\n",
    "# Paso 4: Calcular las matrices de producto externo\n",
    "# Crear array 3D para almacenar las matrices (10, 3, 3)\n",
    "matrices_producto_externo = np.zeros((10, 3, 3))\n",
    "\n",
    "for i in range(10):\n",
    "    u = vectores_unitarios[i]\n",
    "    # Calcular producto externo: u ⊗ u = u · u^T\n",
    "    matrices_producto_externo[i] = np.outer(u, u)\n",
    "    \n",
    "    # Alternativa vectorizada:\n",
    "    # matrices_producto_externo[i] = u[:, np.newaxis] * u[np.newaxis, :]\n",
    "\n",
    "print(\"\\nPrimera matriz de producto externo:\")\n",
    "print(matrices_producto_externo[0])"
   ]
  },
  {
   "cell_type": "markdown",
   "id": "bcf4bc9b",
   "metadata": {},
   "source": [
    "Ejercicio Numpy-18. Un físico está estudiando un sistema cuántico con una matriz Hamiltoniana hermítica 4x4 generada aleatoriamente. Genera esta matriz hermítica (simétrica y con valores complejos conjugados) con números complejos aleatorios. Calcula los autovalores y autovectores, y verifica que la matriz es diagonalizable, es decir, que H @ V = V @ D, donde Des la matriz diagonal de autovalores."
   ]
  },
  {
   "cell_type": "code",
   "execution_count": 9,
   "id": "bab4bb61",
   "metadata": {},
   "outputs": [
    {
     "name": "stdout",
     "output_type": "stream",
     "text": [
      "Matriz Hamiltoniana H:\n",
      "[[-2.21+0.j    0.77+2.44j -3.93-2.54j  2.82+2.04j]\n",
      " [ 0.77-2.44j  0.75+0.j    1.11+0.36j  0.12+1.04j]\n",
      " [-3.93+2.54j  1.11-0.36j -3.25+0.j    4.13-0.35j]\n",
      " [ 2.82-2.04j  0.12-1.04j  4.13+0.35j  8.29+0.j  ]]\n",
      "\n",
      "Autovalores:\n",
      "[-9.6243 -0.0297  3.1203 10.1196]\n",
      "\n",
      "¿La matriz es hermítica? Sí\n",
      "¿Es diagonalizable? Sí\n",
      "\n",
      "Error relativo: 4.6589e-16\n"
     ]
    }
   ],
   "source": [
    "# Paso 1: Generar matriz hermítica aleatoria 4x4\n",
    "def generar_matriz_hermitica(n=4):\n",
    "    # Crear matriz compleja aleatoria\n",
    "    parte_real = np.random.uniform(-10, 10, (n, n))\n",
    "    parte_imag = np.random.uniform(-10, 10, (n, n))\n",
    "    A = parte_real + 1j * parte_imag\n",
    "    \n",
    "    # Hacerla hermítica: H = (A + A†)/2\n",
    "    H = (A + A.conj().T) / 2\n",
    "    return H\n",
    "\n",
    "# Generar la matriz Hamiltoniana\n",
    "H = generar_matriz_hermitica()\n",
    "print(\"Matriz Hamiltoniana H:\")\n",
    "print(np.round(H, 2))\n",
    "\n",
    "# Paso 2: Calcular autovalores y autovectores\n",
    "autovalores, autovectores = np.linalg.eigh(H)\n",
    "V = autovectores  # Matriz de autovectores (columnas)\n",
    "\n",
    "# Construir matriz diagonal D\n",
    "D = np.diag(autovalores)\n",
    "\n",
    "# Paso 3: Verificar diagonalización\n",
    "# Calcular H @ V y V @ D\n",
    "HV = H @ V\n",
    "VD = V @ D\n",
    "\n",
    "# Comprobar igualdad con tolerancia numérica\n",
    "es_diagonalizable = np.allclose(HV, VD, atol=1e-10)\n",
    "\n",
    "# Paso 4: Verificar propiedades de hermiticidad\n",
    "es_hermitica = np.allclose(H, H.conj().T, atol=1e-10)\n",
    "\n",
    "# Resultados\n",
    "print(\"\\nAutovalores:\")\n",
    "print(np.round(autovalores, 4))\n",
    "\n",
    "print(\"\\n¿La matriz es hermítica?\", \"Sí\" if es_hermitica else \"No\")\n",
    "print(\"¿Es diagonalizable?\", \"Sí\" if es_diagonalizable else \"No\")\n",
    "\n",
    "# Verificación adicional: error relativo\n",
    "error_relativo = np.linalg.norm(HV - VD) / np.linalg.norm(HV)\n",
    "print(f\"\\nError relativo: {error_relativo:.4e}\")"
   ]
  },
  {
   "cell_type": "markdown",
   "id": "e8370212",
   "metadata": {},
   "source": [
    "Ejercicio Numpy-19.\n",
    "Un investigador analiza la evolución temporal de un sistema descrito por una matriz de transición 5x5. Genera una matriz estocástica (cada fila suma 1 y todos los valores son positivos) y calcula su estado estable como el autovector asociado al autovalor 1, normalizado para que la suma de sus componentes sea 1."
   ]
  },
  {
   "cell_type": "code",
   "execution_count": 10,
   "id": "be1b7a73",
   "metadata": {},
   "outputs": [
    {
     "name": "stdout",
     "output_type": "stream",
     "text": [
      "El vector de estado estable es: [0.19732143 0.24170918 0.19846939 0.19770408 0.16479592]\n"
     ]
    }
   ],
   "source": [
    "# Paso 1: Definición de la matriz estocástica 5x5\n",
    "P = np.array([\n",
    "    [0.20, 0.30, 0.10, 0.25, 0.15],\n",
    "    [0.10, 0.40, 0.20, 0.15, 0.15],\n",
    "    [0.30, 0.20, 0.30, 0.10, 0.10],\n",
    "    [0.25, 0.15, 0.15, 0.30, 0.15],\n",
    "    [0.15, 0.10, 0.25, 0.20, 0.30]\n",
    "])\n",
    "\n",
    "# Paso 2: Definición del estado estable\n",
    "def calcular_estado_estable(P, iteraciones=1000):\n",
    "    # Paso 3: Vector inicial\n",
    "    pi = np.ones(P.shape[0]) / P.shape[0]  # Vector inicial uniforme\n",
    "    for _ in range(iteraciones):\n",
    "        pi = np.dot(pi, P)  # Iteración de la potencia\n",
    "    return pi / np.sum(pi)  # Normalización\n",
    "\n",
    "# Paso 4: Calcular el estado estable\n",
    "estado_estable = calcular_estado_estable(P)\n",
    "\n",
    "# Paso 5: Resultado\n",
    "print(\"El vector de estado estable es:\", estado_estable)\n"
   ]
  },
  {
   "cell_type": "markdown",
   "id": "b7ca2ab5",
   "metadata": {},
   "source": [
    "Ejercicio Numpy-20.\n",
    "Un matemático quiere comprobar la propiedad de ortogonalidad de un conjunto de vectores generados mediante la función np.eyecon pequeñas perturbaciones gaussianas añadidas. Crea una matriz 6x6 identidad y suma a cada elemento un ruido normal con media 0 y desviación 0.01. Calcula la matriz producto M=ATA. Comprueba qué tan cerca está Mde la matriz identidad calculando la norma de la diferencia y muestra el resultado."
   ]
  },
  {
   "cell_type": "code",
   "execution_count": 11,
   "id": "1f9029d1",
   "metadata": {},
   "outputs": [
    {
     "name": "stdout",
     "output_type": "stream",
     "text": [
      "Matriz A:\n",
      " [[ 1.00700970e+00 -1.22984068e-02  2.90603249e-03 -1.79267280e-03\n",
      "  -3.41188386e-03  5.80067124e-03]\n",
      " [ 1.12713510e-02  9.96663701e-01 -2.20372431e-02  1.45200608e-02\n",
      "   7.66401315e-03 -1.20307299e-02]\n",
      " [ 1.21162093e-02 -1.21644124e-03  1.01585253e+00  1.34189298e-04\n",
      "  -5.82276860e-03  4.92699986e-03]\n",
      " [ 4.29937608e-03  3.24512073e-03 -6.85033323e-04  9.98267672e-01\n",
      "  -1.02434419e-02  6.50724969e-03]\n",
      " [-1.02707137e-02  7.04816737e-03  2.87823959e-02 -2.61824449e-03\n",
      "   1.01293261e+00 -1.03731487e-02]\n",
      " [ 1.60787691e-03  2.38032255e-03 -1.75048686e-02 -5.99937771e-03\n",
      "  -1.14568534e-04  1.00007484e+00]]\n",
      "\n",
      "Matriz M = A.T @ A:\n",
      " [[ 1.01446894e+00 -1.22021767e-03  1.46595887e-02  2.66922081e-03\n",
      "  -1.38677317e-02  7.50794016e-03]\n",
      " [-1.22021767e-03  9.93557138e-01 -2.30762119e-02  1.77002661e-02\n",
      "   1.47932921e-02 -9.73941840e-03]\n",
      " [ 1.46595887e-02 -2.30762119e-02  1.03358576e+00 -8.43062788e-04\n",
      "   2.30697670e-02 -1.25221140e-02]\n",
      " [ 2.66922081e-03  1.77002661e-02 -8.43062788e-04  9.96795258e-01\n",
      "  -1.27604978e-02  3.38885284e-04]\n",
      " [-1.38677317e-02  1.47932921e-02  2.30697670e-02 -1.27604978e-02\n",
      "   1.02624169e+00 -1.08292180e-02]\n",
      " [ 7.50794016e-03 -9.73941840e-03 -1.25221140e-02  3.38885284e-04\n",
      "  -1.08292180e-02  1.00050228e+00]]\n",
      "\n",
      "Norma de la diferencia entre M y la identidad: 0.08533066199515202\n"
     ]
    }
   ],
   "source": [
    "import numpy as np\n",
    "\n",
    "# Parámetros\n",
    "n = 6  # Tamaño de la matriz\n",
    "desviacion_estandar = 0.01  # Desviación estándar del ruido gaussiano\n",
    "\n",
    "# Paso 1: Crear la matriz identidad\n",
    "A = np.eye(n)\n",
    "\n",
    "# Paso 2: Añadir ruido gaussiano a cada elemento\n",
    "ruido = np.random.normal(0, desviacion_estandar, size=(n, n))\n",
    "A = A + ruido\n",
    "\n",
    "# Paso 3: Calcular la matriz producto M = A.T @ A\n",
    "M = A.T @ A\n",
    "\n",
    "# Paso 4: Calcular la diferencia entre M y la matriz identidad\n",
    "identidad = np.eye(n)\n",
    "diferencia = M - identidad\n",
    "\n",
    "# Paso 5: Calcular la norma de la diferencia (Frobenius)\n",
    "norma_diferencia = np.linalg.norm(diferencia)\n",
    "\n",
    "# Paso 6: Mostrar el resultado\n",
    "print(\"Matriz A:\\n\", A)\n",
    "print(\"\\nMatriz M = A.T @ A:\\n\", M)\n",
    "print(\"\\nNorma de la diferencia entre M y la identidad:\", norma_diferencia)\n"
   ]
  }
 ],
 "metadata": {
  "kernelspec": {
   "display_name": "Python 3",
   "language": "python",
   "name": "python3"
  },
  "language_info": {
   "codemirror_mode": {
    "name": "ipython",
    "version": 3
   },
   "file_extension": ".py",
   "mimetype": "text/x-python",
   "name": "python",
   "nbconvert_exporter": "python",
   "pygments_lexer": "ipython3",
   "version": "3.10.0"
  }
 },
 "nbformat": 4,
 "nbformat_minor": 5
}
