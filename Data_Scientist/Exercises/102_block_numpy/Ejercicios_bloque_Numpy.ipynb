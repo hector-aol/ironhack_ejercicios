{
 "cells": [
  {
   "cell_type": "code",
   "execution_count": 2,
   "id": "0ab5cef2",
   "metadata": {},
   "outputs": [],
   "source": [
    "import numpy as np"
   ]
  },
  {
   "cell_type": "markdown",
   "id": "dd674242",
   "metadata": {},
   "source": [
    "Ejercicio Numpy-01\n",
    "Crea un array 3x4 con valores enteros aleatorios entre 10 y 50. Luego, calcula la suma, la media, y el valor máximo de todo el array."
   ]
  },
  {
   "cell_type": "code",
   "execution_count": 6,
   "id": "77b7be5d",
   "metadata": {},
   "outputs": [
    {
     "name": "stdout",
     "output_type": "stream",
     "text": [
      "Array generado:\n",
      "[[26 33 35 13]\n",
      " [10 50 46 48]\n",
      " [27 12 23 12]]\n",
      "\n",
      "Resultados:\n",
      "Suma total: 335\n",
      "Media total: 27.92\n",
      "Valor máximo: 50\n"
     ]
    }
   ],
   "source": [
    "\n",
    "# Crear un array 3x4 con valores enteros aleatorios entre 10 y 50\n",
    "\n",
    "array_aleatorio = np.random.randint(10, 51, size=(3, 4))\n",
    "\n",
    "# Calcular las estadísticas solicitadas\n",
    "\n",
    "suma_total = np.sum(array_aleatorio)\n",
    "media_total = np.mean(array_aleatorio)\n",
    "maximo_total = np.max(array_aleatorio)\n",
    "\n",
    "# Mostrar resultados\n",
    "print(\"Array generado:\")\n",
    "print(array_aleatorio)\n",
    "print(\"\\nResultados:\")\n",
    "print(f\"Suma total: {suma_total}\")\n",
    "print(f\"Media total: {media_total:.2f}\")  # Formateado a 2 decimales\n",
    "print(f\"Valor máximo: {maximo_total}\")"
   ]
  },
  {
   "cell_type": "markdown",
   "id": "e544191d",
   "metadata": {},
   "source": [
    "Ejercicio Numpy-02\n",
    "Crea una matriz identidad 5x5 y cambia la diagonal principal a un valor de 7."
   ]
  },
  {
   "cell_type": "code",
   "execution_count": null,
   "id": "2274adee",
   "metadata": {},
   "outputs": [
    {
     "name": "stdout",
     "output_type": "stream",
     "text": [
      "Matriz resultante:\n",
      "[[7. 0. 0. 0. 0.]\n",
      " [0. 7. 0. 0. 0.]\n",
      " [0. 0. 7. 0. 0.]\n",
      " [0. 0. 0. 7. 0.]\n",
      " [0. 0. 0. 0. 7.]]\n"
     ]
    }
   ],
   "source": [
    "# Crear una matriz identidad 5x5\n",
    "# np.eye(N) crea una matriz identidad de NxN (en este caso 5x5)\n",
    "# Por defecto, tiene 1s en la diagonal principal y 0s en las demás posiciones\n",
    "\n",
    "matriz_identidad = np.eye(5)\n",
    "\n",
    "# Modificar la diagonal principal a 7\n",
    "# np.fill_diagonal() es una función específica para modificar los valores de la diagonal principal\n",
    "# Recibe como parámetros la matriz y el valor a asignar (7 en este caso)\n",
    "\n",
    "np.fill_diagonal(matriz_identidad, 7)\n",
    "\n",
    "print(\"Matriz resultante:\")\n",
    "print(matriz_identidad)"
   ]
  },
  {
   "cell_type": "code",
   "execution_count": 5,
   "id": "a42918b0",
   "metadata": {},
   "outputs": [
    {
     "data": {
      "text/plain": [
       "array([[7., 0., 0., 0., 0.],\n",
       "       [0., 7., 0., 0., 0.],\n",
       "       [0., 0., 7., 0., 0.],\n",
       "       [0., 0., 0., 7., 0.],\n",
       "       [0., 0., 0., 0., 7.]])"
      ]
     },
     "execution_count": 5,
     "metadata": {},
     "output_type": "execute_result"
    }
   ],
   "source": [
    "# Utilizando indices.\n",
    "\n",
    "# Crear matriz identidad\n",
    "\n",
    "matriz = np.eye(5)\n",
    "\n",
    "# Modificar diagonal usando índices\n",
    "\n",
    "filas, columnas = matriz.shape\n",
    "for i in range(filas):\n",
    "    matriz[i, i] = 7\n",
    "\n",
    "matriz"
   ]
  },
  {
   "cell_type": "markdown",
   "id": "44d8a157",
   "metadata": {},
   "source": [
    "Ejercicio Numpy-03\n",
    "Dado el array a = np.arange(20), crea un nuevo array con los valores pares mayores que 5 usando boolean masking."
   ]
  },
  {
   "cell_type": "code",
   "execution_count": null,
   "id": "1abacc4a",
   "metadata": {},
   "outputs": [
    {
     "name": "stdout",
     "output_type": "stream",
     "text": [
      "Array original: [ 0  1  2  3  4  5  6  7  8  9 10 11 12 13 14 15 16 17 18 19]\n",
      "Array filtrado: [ 6  8 10 12 14 16 18]\n"
     ]
    }
   ],
   "source": [
    "a = np.arange(20)\n",
    "mask = (a % 2 == 0) & (a > 5)\n",
    "resultado = a[mask]\n",
    "\n",
    "print(\"Array original:\", a)\n",
    "print(\"Array filtrado:\", resultado)\n",
    "\n",
    "# a % 2 == 0: Identifica valores pares (divisibles entre 2)\n",
    "# a > 5: Identifica valores mayores que 5\n",
    "# &: Combina ambas condiciones (AND lógico)"
   ]
  },
  {
   "cell_type": "markdown",
   "id": "2705ab28",
   "metadata": {},
   "source": [
    "Ejercicio Numpy-04\n",
    "Dado el array bidimensional siguiente:\n",
    "a = np.array([[1, 2, 3], [4, 5, 6], [7, 8, 9]])\n",
    "Reemplaza todas las entradas de la segunda fila por 0 y luego aplana el array a una dimensión."
   ]
  },
  {
   "cell_type": "code",
   "execution_count": 17,
   "id": "5292b56f",
   "metadata": {},
   "outputs": [
    {
     "name": "stdout",
     "output_type": "stream",
     "text": [
      "[[1 2 3]\n",
      " [0 0 0]\n",
      " [7 8 9]]\n"
     ]
    },
    {
     "data": {
      "text/plain": [
       "array([1, 2, 3, 0, 0, 0, 7, 8, 9])"
      ]
     },
     "execution_count": 17,
     "metadata": {},
     "output_type": "execute_result"
    }
   ],
   "source": [
    "a = np.array([[1, 2, 3], [4, 5, 6], [7, 8, 9]])\n",
    "b = a.copy()\n",
    "b[1] = 0\n",
    "print(b)\n",
    "b_plano = b.flatten()\n",
    "b_plano\n"
   ]
  },
  {
   "cell_type": "markdown",
   "id": "24119c01",
   "metadata": {},
   "source": [
    "Ejercicio Numpy-05\n",
    "Crea dos arrays 1D a y b con valores [1, 2, 3] y [4, 5, 6]. Realiza el producto cruzado, producto escalar y producto externo."
   ]
  },
  {
   "cell_type": "code",
   "execution_count": 19,
   "id": "58fba17e",
   "metadata": {},
   "outputs": [
    {
     "name": "stdout",
     "output_type": "stream",
     "text": [
      "Array a: [1 2 3]\n",
      "Array b: [4 5 6]\n",
      "\n",
      "Producto cruzado (a x b): [-3  6 -3]\n",
      "Producto escalar (a · b): 32\n",
      "\n",
      "Producto externo (a x b):\n",
      "[[ 4  5  6]\n",
      " [ 8 10 12]\n",
      " [12 15 18]]\n"
     ]
    }
   ],
   "source": [
    "a = np.array([1, 2, 3])\n",
    "b = np.array([4, 5, 6])\n",
    "cruzado = np.cross(a, b)\n",
    "escalar = np.dot(a, b)\n",
    "externo = np.outer(a, b)\n",
    "print(\"Array a:\", a)\n",
    "print(\"Array b:\", b)\n",
    "print(\"\\nProducto cruzado (a x b):\", cruzado)\n",
    "print(\"Producto escalar (a · b):\", escalar)\n",
    "print(\"\\nProducto externo (a x b):\")\n",
    "print(externo)"
   ]
  },
  {
   "cell_type": "markdown",
   "id": "babcde18",
   "metadata": {},
   "source": [
    "Ejercicio Numpy-06\n",
    "Crea un array de 10 elementos que vayan de 0 a 100 de forma equiespaciada, redondea cada elemento a su entero más cercano, y luego limita sus valores para que estén entre 20 y 80."
   ]
  },
  {
   "cell_type": "code",
   "execution_count": null,
   "id": "2be10227",
   "metadata": {},
   "outputs": [
    {
     "name": "stdout",
     "output_type": "stream",
     "text": [
      "[  0.          11.11111111  22.22222222  33.33333333  44.44444444\n",
      "  55.55555556  66.66666667  77.77777778  88.88888889 100.        ]\n",
      "[  0  11  22  33  44  56  67  78  89 100]\n",
      "[20 20 22 33 44 56 67 78 80 80]\n"
     ]
    }
   ],
   "source": [
    "array = np.linspace(0, 100, 10)\n",
    "print(array)\n",
    "array_redondeado = np.round(array).astype(int)\n",
    "print(array_redondeado)\n",
    "array_limitado = np.clip(array_redondeado, 20, 80)\n",
    "print(array_limitado)\n",
    "\n",
    "# resultado = np.clip(np.round(np.linspace(0, 100, 10)).astype(int), 20, 80)\n",
    "# print(resultado)"
   ]
  },
  {
   "cell_type": "markdown",
   "id": "54f21621",
   "metadata": {},
   "source": [
    "Ejercicio Numpy-07\n",
    "Crea una matriz aleatoria 4x4 con valores entre 0 y 1. Multiplica la matriz por sí misma (producto matricial) y calcula la traza del resultado."
   ]
  },
  {
   "cell_type": "code",
   "execution_count": 31,
   "id": "f9707015",
   "metadata": {},
   "outputs": [
    {
     "data": {
      "text/plain": [
       "np.float64(5.32163598328548)"
      ]
     },
     "execution_count": 31,
     "metadata": {},
     "output_type": "execute_result"
    }
   ],
   "source": [
    "traza = np.trace(np.dot(matriz := np.random.rand(4,4), matriz))\n",
    "traza              \n"
   ]
  },
  {
   "cell_type": "markdown",
   "id": "139b57a5",
   "metadata": {},
   "source": [
    "Ejercicio Numpy-08\n",
    "Dado el array a = np.array([10, 20, 30, 40, 50]), crea una máscara booleana para seleccionar los elementos que no estén en la lista [20, 40]."
   ]
  },
  {
   "cell_type": "code",
   "execution_count": 33,
   "id": "c1643f5e",
   "metadata": {},
   "outputs": [
    {
     "data": {
      "text/plain": [
       "array([10, 30, 50])"
      ]
     },
     "execution_count": 33,
     "metadata": {},
     "output_type": "execute_result"
    }
   ],
   "source": [
    "a = np.array([10, 20, 30, 40, 50])\n",
    "mask = ~np.isin(a, [20, 40]) \n",
    "# El operador ~ (NOT) invierte la máscara\n",
    "resultado = a[mask]\n",
    "resultado"
   ]
  },
  {
   "cell_type": "markdown",
   "id": "84ccb982",
   "metadata": {},
   "source": [
    "Ejercicio Numpy-09\n",
    "Crea un array 2x3 lleno de 5s, otro 3x2 lleno de 10s, y concaténalos verticalmente tras hacer el reshape adecuado para que la concatenación sea posible."
   ]
  },
  {
   "cell_type": "code",
   "execution_count": 35,
   "id": "bcc5d29f",
   "metadata": {},
   "outputs": [
    {
     "name": "stdout",
     "output_type": "stream",
     "text": [
      "Array de 5s (2x3):\n",
      "[[5 5 5]\n",
      " [5 5 5]]\n",
      "\n",
      "Array de 10s (3x2):\n",
      "[[10 10]\n",
      " [10 10]\n",
      " [10 10]]\n",
      "\n",
      "Array de 5s redimensionado (6x1):\n",
      "[[5]\n",
      " [5]\n",
      " [5]\n",
      " [5]\n",
      " [5]\n",
      " [5]]\n",
      "\n",
      "Array de 10s redimensionado (6x1):\n",
      "[[10]\n",
      " [10]\n",
      " [10]\n",
      " [10]\n",
      " [10]\n",
      " [10]]\n",
      "\n",
      "Concatenación vertical (12x1):\n",
      "[[ 5]\n",
      " [ 5]\n",
      " [ 5]\n",
      " [ 5]\n",
      " [ 5]\n",
      " [ 5]\n",
      " [10]\n",
      " [10]\n",
      " [10]\n",
      " [10]\n",
      " [10]\n",
      " [10]]\n"
     ]
    }
   ],
   "source": [
    "arr_5s = np.full((2, 3), 5)\n",
    "arr_10s = np.full((3, 2), 10)\n",
    "\n",
    "# Mismo numero de columnas\n",
    "arr_5s_reshaped = arr_5s.reshape(6, 1)\n",
    "arr_10s_reshaped = arr_10s.reshape(6, 1)\n",
    "\n",
    "resultado = np.concatenate((arr_5s_reshaped, arr_10s_reshaped), axis=0)\n",
    "\n",
    "# print(arr_5s_reshaped)\n",
    "# print(arr_10s_reshaped)\n",
    "# print(resultado)\n",
    "\n",
    "print(\"Array de 5s (2x3):\")\n",
    "print(arr_5s)\n",
    "print(\"\\nArray de 10s (3x2):\")\n",
    "print(arr_10s)\n",
    "print(\"\\nArray de 5s redimensionado (6x1):\")\n",
    "print(arr_5s_reshaped)\n",
    "print(\"\\nArray de 10s redimensionado (6x1):\")\n",
    "print(arr_10s_reshaped)\n",
    "print(\"\\nConcatenación vertical (12x1):\")\n",
    "print(resultado)\n"
   ]
  },
  {
   "cell_type": "code",
   "execution_count": 36,
   "id": "0f2b23d4",
   "metadata": {},
   "outputs": [
    {
     "name": "stdout",
     "output_type": "stream",
     "text": [
      "[[ 5]\n",
      " [ 5]\n",
      " [ 5]\n",
      " [ 5]\n",
      " [ 5]\n",
      " [ 5]\n",
      " [10]\n",
      " [10]\n",
      " [10]\n",
      " [10]\n",
      " [10]\n",
      " [10]]\n"
     ]
    }
   ],
   "source": [
    "arr_5s = np.full((2, 3), 5).reshape(-1, 1)  # -1 significa \"calcula automáticamente\"\n",
    "arr_10s = np.full((3, 2), 10).reshape(-1, 1)\n",
    "\n",
    "resultado = np.vstack((arr_5s, arr_10s))\n",
    "\n",
    "print(resultado)"
   ]
  },
  {
   "cell_type": "markdown",
   "id": "96a078b8",
   "metadata": {},
   "source": [
    "Ejercicio Numpy-10\n",
    "Genera un array de 3x3 con valores aleatorios enteros entre 1 y 9. Calcula sus autovalores y autovectores, y verifica que multiplicar la matriz por un autovector da el autovalor multiplicado por el autovector."
   ]
  },
  {
   "cell_type": "code",
   "execution_count": 37,
   "id": "8f729993",
   "metadata": {},
   "outputs": [
    {
     "name": "stdout",
     "output_type": "stream",
     "text": [
      "Matriz A:\n",
      "[[3 1 7]\n",
      " [1 7 6]\n",
      " [7 7 8]]\n",
      "\n",
      "Autovalores: [16.67643551 -3.01385289  4.33741738]\n",
      "\n",
      "Autovectores (columnas):\n",
      "[[-0.42138947 -0.69681013  0.62701708]\n",
      " [-0.50896233 -0.316168   -0.7454156 ]\n",
      " [-0.75059194  0.64381165  0.22628559]]\n"
     ]
    }
   ],
   "source": [
    "A = np.random.randint(1, 10, size=(3, 3))\n",
    "autovalores, autovectores = np.linalg.eig(A)\n",
    "print(\"Matriz A:\")\n",
    "print(A)\n",
    "print(\"\\nAutovalores:\", autovalores)\n",
    "print(\"\\nAutovectores (columnas):\")\n",
    "print(autovectores)"
   ]
  },
  {
   "cell_type": "code",
   "execution_count": 42,
   "id": "400129b3",
   "metadata": {},
   "outputs": [
    {
     "name": "stdout",
     "output_type": "stream",
     "text": [
      "\n",
      "Verificación para autovalor 3 (λ = 4.3374):\n",
      "A·v:\t[ 2.71963476 -3.23317858  0.98149506]\n",
      "λ·v:\t[ 2.71963476 -3.23317858  0.98149506]\n",
      "A·v ≈ λ·v La propiedad cumple\n"
     ]
    }
   ],
   "source": [
    "tolerancia = 1e-5  # Para manejar errores de precisión numérica\n",
    "for i in range(len(autovalores)):\n",
    "    λ = autovalores[i]\n",
    "    v = autovectores[:, i]  # Tomar la columna i como autovector\n",
    "\n",
    "\n",
    "# Calcular A·v y λ·v\n",
    "    Av = A @ v\n",
    "    λv = λ * v\n",
    "\n",
    "print(f\"\\nVerificación para autovalor {i+1} (λ = {λ:.4f}):\")\n",
    "print(f\"A·v:\\t{Av}\")\n",
    "print(f\"λ·v:\\t{λv}\")\n",
    "\n",
    "if np.allclose(Av, λv, atol=tolerancia):\n",
    "        print(\"A·v ≈ λ·v La propiedad cumple\")\n",
    "else:\n",
    "        print(\"La propiedad no se cumple\")"
   ]
  }
 ],
 "metadata": {
  "kernelspec": {
   "display_name": "Python 3",
   "language": "python",
   "name": "python3"
  },
  "language_info": {
   "codemirror_mode": {
    "name": "ipython",
    "version": 3
   },
   "file_extension": ".py",
   "mimetype": "text/x-python",
   "name": "python",
   "nbconvert_exporter": "python",
   "pygments_lexer": "ipython3",
   "version": "3.10.0"
  }
 },
 "nbformat": 4,
 "nbformat_minor": 5
}
